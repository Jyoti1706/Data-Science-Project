{
  "nbformat": 4,
  "nbformat_minor": 0,
  "metadata": {
    "colab": {
      "provenance": [],
      "gpuType": "V28",
      "authorship_tag": "ABX9TyO486QGuCMuMA3r0L7qKyOy",
      "include_colab_link": true
    },
    "kernelspec": {
      "name": "python3",
      "display_name": "Python 3"
    },
    "language_info": {
      "name": "python"
    },
    "accelerator": "TPU"
  },
  "cells": [
    {
      "cell_type": "markdown",
      "metadata": {
        "id": "view-in-github",
        "colab_type": "text"
      },
      "source": [
        "<a href=\"https://colab.research.google.com/github/Jyoti1706/Data-Science-Project/blob/master/cWGAN.ipynb\" target=\"_parent\"><img src=\"https://colab.research.google.com/assets/colab-badge.svg\" alt=\"Open In Colab\"/></a>"
      ]
    },
    {
      "cell_type": "code",
      "execution_count": 2,
      "metadata": {
        "colab": {
          "base_uri": "https://localhost:8080/"
        },
        "id": "jb1zqLF9mqNQ",
        "outputId": "ab6caa13-5517-4dd0-86af-b0a0a4a334fb"
      },
      "outputs": [
        {
          "output_type": "stream",
          "name": "stdout",
          "text": [
            "Requirement already satisfied: torch in /usr/local/lib/python3.10/dist-packages (2.4.0+cpu)\n",
            "Requirement already satisfied: torchvision in /usr/local/lib/python3.10/dist-packages (0.19.0+cpu)\n",
            "Requirement already satisfied: numpy in /usr/local/lib/python3.10/dist-packages (1.26.4)\n",
            "Requirement already satisfied: matplotlib in /usr/local/lib/python3.10/dist-packages (3.7.1)\n",
            "Requirement already satisfied: filelock in /usr/local/lib/python3.10/dist-packages (from torch) (3.15.4)\n",
            "Requirement already satisfied: typing-extensions>=4.8.0 in /usr/local/lib/python3.10/dist-packages (from torch) (4.12.2)\n",
            "Requirement already satisfied: sympy in /usr/local/lib/python3.10/dist-packages (from torch) (1.13.2)\n",
            "Requirement already satisfied: networkx in /usr/local/lib/python3.10/dist-packages (from torch) (3.3)\n",
            "Requirement already satisfied: jinja2 in /usr/local/lib/python3.10/dist-packages (from torch) (3.1.4)\n",
            "Requirement already satisfied: fsspec in /usr/local/lib/python3.10/dist-packages (from torch) (2024.6.1)\n",
            "Requirement already satisfied: pillow!=8.3.*,>=5.3.0 in /usr/local/lib/python3.10/dist-packages (from torchvision) (10.4.0)\n",
            "Requirement already satisfied: contourpy>=1.0.1 in /usr/local/lib/python3.10/dist-packages (from matplotlib) (1.3.0)\n",
            "Requirement already satisfied: cycler>=0.10 in /usr/local/lib/python3.10/dist-packages (from matplotlib) (0.12.1)\n",
            "Requirement already satisfied: fonttools>=4.22.0 in /usr/local/lib/python3.10/dist-packages (from matplotlib) (4.53.1)\n",
            "Requirement already satisfied: kiwisolver>=1.0.1 in /usr/local/lib/python3.10/dist-packages (from matplotlib) (1.4.5)\n",
            "Requirement already satisfied: packaging>=20.0 in /usr/local/lib/python3.10/dist-packages (from matplotlib) (24.1)\n",
            "Requirement already satisfied: pyparsing>=2.3.1 in /usr/local/lib/python3.10/dist-packages (from matplotlib) (3.1.4)\n",
            "Requirement already satisfied: python-dateutil>=2.7 in /usr/local/lib/python3.10/dist-packages (from matplotlib) (2.9.0.post0)\n",
            "Requirement already satisfied: six>=1.5 in /usr/local/lib/python3.10/dist-packages (from python-dateutil>=2.7->matplotlib) (1.16.0)\n",
            "Requirement already satisfied: MarkupSafe>=2.0 in /usr/local/lib/python3.10/dist-packages (from jinja2->torch) (2.1.5)\n",
            "Requirement already satisfied: mpmath<1.4,>=1.1.0 in /usr/local/lib/python3.10/dist-packages (from sympy->torch) (1.3.0)\n"
          ]
        }
      ],
      "source": [
        "pip install torch torchvision numpy matplotlib\n"
      ]
    },
    {
      "cell_type": "code",
      "source": [
        "import torch\n",
        "import torch.nn as nn\n",
        "\n",
        "class Generator(nn.Module):\n",
        "    def __init__(self, noise_dim, num_classes, img_channels):\n",
        "        super(Generator, self).__init__()\n",
        "        self.label_embed = nn.Embedding(num_classes, noise_dim)\n",
        "        self.model = nn.Sequential(\n",
        "            nn.Linear(noise_dim * 2, 256),\n",
        "            nn.LeakyReLU(0.2),\n",
        "            nn.Linear(256, 512),\n",
        "            nn.LeakyReLU(0.2),\n",
        "            nn.Linear(512, 1024),\n",
        "            nn.LeakyReLU(0.2),\n",
        "            nn.Linear(1024, img_channels * 32 * 32),\n",
        "            nn.Tanh()\n",
        "        )\n",
        "\n",
        "    def forward(self, noise, labels):\n",
        "        label_embedding = self.label_embed(labels)\n",
        "        x = torch.cat([noise, label_embedding], dim=1)\n",
        "        img = self.model(x)\n",
        "        return img.view(img.size(0), 3, 32, 32)\n",
        "\n",
        "class Discriminator(nn.Module):\n",
        "    def __init__(self, img_channels, num_classes):\n",
        "        super(Discriminator, self).__init__()\n",
        "        self.label_embed = nn.Embedding(num_classes, img_channels * 32 * 32)\n",
        "        self.model = nn.Sequential(\n",
        "            nn.Linear(img_channels * 32 * 32 * 2, 512),\n",
        "            nn.LeakyReLU(0.2),\n",
        "            nn.Linear(512, 256),\n",
        "            nn.LeakyReLU(0.2),\n",
        "            nn.Linear(256, 1)\n",
        "        )\n",
        "\n",
        "    def forward(self, img, labels):\n",
        "        label_embedding = self.label_embed(labels)\n",
        "        x = torch.cat([img.view(img.size(0), -1), label_embedding], dim=1)\n",
        "        validity = self.model(x)\n",
        "        return validity\n"
      ],
      "metadata": {
        "id": "jAa0minDmuLP"
      },
      "execution_count": 3,
      "outputs": []
    },
    {
      "cell_type": "code",
      "source": [
        "import torchvision.transforms as transforms\n",
        "from torchvision.datasets import CIFAR10\n",
        "from torch.utils.data import DataLoader\n",
        "\n",
        "transform = transforms.Compose([\n",
        "    transforms.ToTensor(),\n",
        "    transforms.Normalize([0.5, 0.5, 0.5], [0.5, 0.5, 0.5])\n",
        "])\n",
        "\n",
        "dataset = CIFAR10(root=\"./data\", train=True, transform=transform, download=True)\n",
        "\n",
        "# Filter out only 'automobile' class (class index 1 in CIFAR-10)\n",
        "automobile_class = 1\n",
        "filtered_dataset = [(img, label) for img, label in dataset if label == automobile_class]\n",
        "dataloader = DataLoader(filtered_dataset, batch_size=64, shuffle=True)\n",
        "\n"
      ],
      "metadata": {
        "colab": {
          "base_uri": "https://localhost:8080/"
        },
        "id": "xV3rFQ42m2mY",
        "outputId": "07bc27fb-246c-44a4-d397-32788a55b07f"
      },
      "execution_count": 4,
      "outputs": [
        {
          "output_type": "stream",
          "name": "stdout",
          "text": [
            "Downloading https://www.cs.toronto.edu/~kriz/cifar-10-python.tar.gz to ./data/cifar-10-python.tar.gz\n"
          ]
        },
        {
          "output_type": "stream",
          "name": "stderr",
          "text": [
            "100%|██████████| 170498071/170498071 [00:04<00:00, 39939852.43it/s]\n"
          ]
        },
        {
          "output_type": "stream",
          "name": "stdout",
          "text": [
            "Extracting ./data/cifar-10-python.tar.gz to ./data\n"
          ]
        }
      ]
    },
    {
      "cell_type": "code",
      "source": [
        "def wasserstein_loss(y_pred, y_true):\n",
        "    return torch.mean(y_true * y_pred)\n",
        "device = torch.device(\"cuda\" if torch.cuda.is_available() else \"cpu\")\n",
        "print(device)\n",
        "generator = Generator(noise_dim=100, num_classes=10, img_channels=3).to(device)\n",
        "discriminator = Discriminator(img_channels=3, num_classes=10).to(device)\n",
        "\n",
        "optimizer_G = torch.optim.Adam(generator.parameters(), lr=0.0002)\n",
        "optimizer_D = torch.optim.Adam(discriminator.parameters(), lr=0.0002)\n"
      ],
      "metadata": {
        "colab": {
          "base_uri": "https://localhost:8080/"
        },
        "id": "0DZd_xm-m6hH",
        "outputId": "3f5cc30c-49f1-4904-9dfa-120639eb5b8d"
      },
      "execution_count": 5,
      "outputs": [
        {
          "output_type": "stream",
          "name": "stdout",
          "text": [
            "cpu\n"
          ]
        }
      ]
    },
    {
      "cell_type": "code",
      "source": [
        "epochs = 150\n",
        "for epoch in range(epochs):\n",
        "    for i, (imgs, labels) in enumerate(dataloader):\n",
        "        real_imgs = imgs.to(device)\n",
        "        labels = labels.to(device)\n",
        "\n",
        "        # Train Discriminator\n",
        "        optimizer_D.zero_grad()\n",
        "\n",
        "        z = torch.randn(imgs.size(0), 100).to(device)\n",
        "        fake_imgs = generator(z, labels)\n",
        "\n",
        "        real_loss = wasserstein_loss(discriminator(real_imgs, labels), torch.ones_like(labels).to(device))\n",
        "        fake_loss = wasserstein_loss(discriminator(fake_imgs.detach(), labels), -torch.ones_like(labels).to(device))\n",
        "        d_loss = real_loss + fake_loss\n",
        "        d_loss.backward()\n",
        "        optimizer_D.step()\n",
        "\n",
        "        # Train Generator\n",
        "        optimizer_G.zero_grad()\n",
        "\n",
        "        gen_imgs = generator(z, labels)\n",
        "        g_loss = wasserstein_loss(discriminator(gen_imgs, labels), torch.ones_like(labels).to(device))\n",
        "        g_loss.backward()\n",
        "        optimizer_G.step()\n",
        "\n",
        "    print(f\"Epoch {epoch}: [D loss: {d_loss.item()}] [G loss: {g_loss.item()}]\")\n"
      ],
      "metadata": {
        "colab": {
          "base_uri": "https://localhost:8080/"
        },
        "id": "hQLyz_XVnloi",
        "outputId": "9d2683d0-7fa1-45ad-b217-4034003f6571"
      },
      "execution_count": 6,
      "outputs": [
        {
          "output_type": "stream",
          "name": "stdout",
          "text": [
            "Epoch 0: [D loss: -32.267215728759766] [G loss: 1.209732174873352]\n",
            "Epoch 1: [D loss: 573.005859375] [G loss: -1388.228271484375]\n",
            "Epoch 2: [D loss: -4262.0478515625] [G loss: 3216.36376953125]\n",
            "Epoch 3: [D loss: 2646.8525390625] [G loss: -6477.85498046875]\n",
            "Epoch 4: [D loss: -7312.34375] [G loss: -1364.478515625]\n",
            "Epoch 5: [D loss: -50091.45703125] [G loss: -48.523067474365234]\n",
            "Epoch 6: [D loss: 71500.8828125] [G loss: -172244.515625]\n",
            "Epoch 7: [D loss: -74251.1875] [G loss: 37938.5625]\n",
            "Epoch 8: [D loss: -31365.54296875] [G loss: -9377.8935546875]\n",
            "Epoch 9: [D loss: -127809.921875] [G loss: 92798.84375]\n",
            "Epoch 10: [D loss: -373776.6875] [G loss: 203468.6875]\n",
            "Epoch 11: [D loss: -903492.75] [G loss: 470678.96875]\n",
            "Epoch 12: [D loss: -1773181.75] [G loss: 950367.625]\n",
            "Epoch 13: [D loss: -3151205.25] [G loss: 1737230.0]\n",
            "Epoch 14: [D loss: -5145647.5] [G loss: 2892986.25]\n",
            "Epoch 15: [D loss: -7580633.0] [G loss: 4410735.5]\n",
            "Epoch 16: [D loss: 3593028.5] [G loss: -7776628.5]\n",
            "Epoch 17: [D loss: 2633296.75] [G loss: -6794879.5]\n",
            "Epoch 18: [D loss: 2040296.0] [G loss: -5955694.0]\n",
            "Epoch 19: [D loss: 1434925.75] [G loss: -5302331.5]\n",
            "Epoch 20: [D loss: 1055036.0] [G loss: -4777847.5]\n",
            "Epoch 21: [D loss: 611164.5] [G loss: -4340763.5]\n",
            "Epoch 22: [D loss: 157374.0] [G loss: -3903160.5]\n",
            "Epoch 23: [D loss: -386904.0] [G loss: -3430740.0]\n",
            "Epoch 24: [D loss: -1027565.0] [G loss: -2971299.75]\n",
            "Epoch 25: [D loss: -1738545.5] [G loss: -2402733.75]\n",
            "Epoch 26: [D loss: -2837142.5] [G loss: -1625230.5]\n",
            "Epoch 27: [D loss: -4098522.0] [G loss: -697566.4375]\n",
            "Epoch 28: [D loss: -5782182.5] [G loss: -373921.71875]\n",
            "Epoch 29: [D loss: -7350123.0] [G loss: -353476.28125]\n",
            "Epoch 30: [D loss: -8750090.0] [G loss: -331122.375]\n",
            "Epoch 31: [D loss: -10588874.0] [G loss: -307311.46875]\n",
            "Epoch 32: [D loss: -13533942.0] [G loss: -282971.90625]\n",
            "Epoch 33: [D loss: -16143372.0] [G loss: -259066.5]\n",
            "Epoch 34: [D loss: -19459848.0] [G loss: -238168.375]\n",
            "Epoch 35: [D loss: -22845164.0] [G loss: -218993.265625]\n",
            "Epoch 36: [D loss: -26918398.0] [G loss: -204143.765625]\n",
            "Epoch 37: [D loss: -30019410.0] [G loss: -198700.015625]\n",
            "Epoch 38: [D loss: -34450736.0] [G loss: -203800.609375]\n",
            "Epoch 39: [D loss: -39113196.0] [G loss: -221437.125]\n",
            "Epoch 40: [D loss: -42137112.0] [G loss: -255521.484375]\n",
            "Epoch 41: [D loss: 3204480.0] [G loss: -53096644.0]\n",
            "Epoch 42: [D loss: 25914644.0] [G loss: -74119872.0]\n",
            "Epoch 43: [D loss: 21955720.0] [G loss: -69382720.0]\n",
            "Epoch 44: [D loss: 18471072.0] [G loss: -65040196.0]\n",
            "Epoch 45: [D loss: 18825172.0] [G loss: -61095620.0]\n",
            "Epoch 46: [D loss: 15250028.0] [G loss: -57418872.0]\n",
            "Epoch 47: [D loss: 12364416.0] [G loss: -53958808.0]\n",
            "Epoch 48: [D loss: 9956916.0] [G loss: -50602052.0]\n",
            "Epoch 49: [D loss: 9444020.0] [G loss: -47286568.0]\n",
            "Epoch 50: [D loss: 7333124.0] [G loss: -43923664.0]\n",
            "Epoch 51: [D loss: 222716.0] [G loss: -31236484.0]\n",
            "Epoch 52: [D loss: -4942870.0] [G loss: -23757248.0]\n",
            "Epoch 53: [D loss: -9544253.0] [G loss: -16593478.0]\n",
            "Epoch 54: [D loss: -14874532.0] [G loss: -9358992.0]\n",
            "Epoch 55: [D loss: -20349898.0] [G loss: -2021584.25]\n",
            "Epoch 56: [D loss: -25245038.0] [G loss: 5404488.0]\n",
            "Epoch 57: [D loss: -30477984.0] [G loss: 12918200.0]\n",
            "Epoch 58: [D loss: -41097708.0] [G loss: 20603218.0]\n",
            "Epoch 59: [D loss: -46809744.0] [G loss: 28470060.0]\n",
            "Epoch 60: [D loss: 5566048.0] [G loss: -22792600.0]\n",
            "Epoch 61: [D loss: 827210.0] [G loss: -18893880.0]\n",
            "Epoch 62: [D loss: -8938372.0] [G loss: -15521730.0]\n",
            "Epoch 63: [D loss: -9865875.0] [G loss: -12661740.0]\n",
            "Epoch 64: [D loss: -17673388.0] [G loss: -9938396.0]\n",
            "Epoch 65: [D loss: -23527972.0] [G loss: -7072893.0]\n",
            "Epoch 66: [D loss: -25798426.0] [G loss: -3863262.5]\n",
            "Epoch 67: [D loss: -24596440.0] [G loss: -9748927.0]\n",
            "Epoch 68: [D loss: -25567412.0] [G loss: -15177062.0]\n",
            "Epoch 69: [D loss: -33637176.0] [G loss: -13701255.0]\n",
            "Epoch 70: [D loss: -37821732.0] [G loss: -12165529.0]\n",
            "Epoch 71: [D loss: -43626428.0] [G loss: -10720032.0]\n",
            "Epoch 72: [D loss: -48080296.0] [G loss: -9362900.0]\n",
            "Epoch 73: [D loss: -52443924.0] [G loss: -8028697.0]\n",
            "Epoch 74: [D loss: -57392620.0] [G loss: -6650903.0]\n",
            "Epoch 75: [D loss: -65537688.0] [G loss: -5165392.5]\n",
            "Epoch 76: [D loss: -71594112.0] [G loss: -3497634.25]\n",
            "Epoch 77: [D loss: -77536744.0] [G loss: -1376842.875]\n",
            "Epoch 78: [D loss: -92450656.0] [G loss: 5678279.5]\n",
            "Epoch 79: [D loss: -104755176.0] [G loss: 12111633.0]\n",
            "Epoch 80: [D loss: -112478160.0] [G loss: 16553194.0]\n",
            "Epoch 81: [D loss: -130928064.0] [G loss: 19647136.0]\n",
            "Epoch 82: [D loss: -128998864.0] [G loss: 22786036.0]\n",
            "Epoch 83: [D loss: -154698912.0] [G loss: 26056738.0]\n",
            "Epoch 84: [D loss: -166524992.0] [G loss: 29498274.0]\n",
            "Epoch 85: [D loss: -176643424.0] [G loss: 33135376.0]\n",
            "Epoch 86: [D loss: -190503536.0] [G loss: 36933604.0]\n",
            "Epoch 87: [D loss: -207163520.0] [G loss: 40897092.0]\n",
            "Epoch 88: [D loss: -219007600.0] [G loss: 45035136.0]\n",
            "Epoch 89: [D loss: -244412448.0] [G loss: 49390720.0]\n",
            "Epoch 90: [D loss: -259454208.0] [G loss: 53968584.0]\n",
            "Epoch 91: [D loss: -261624352.0] [G loss: 58692864.0]\n",
            "Epoch 92: [D loss: -287574496.0] [G loss: 63744352.0]\n",
            "Epoch 93: [D loss: -297713344.0] [G loss: 68630824.0]\n",
            "Epoch 94: [D loss: 143178656.0] [G loss: -390729248.0]\n",
            "Epoch 95: [D loss: 123743632.0] [G loss: -376458368.0]\n",
            "Epoch 96: [D loss: 112168416.0] [G loss: -362668256.0]\n",
            "Epoch 97: [D loss: 101854848.0] [G loss: -349612928.0]\n",
            "Epoch 98: [D loss: 107444880.0] [G loss: -337123072.0]\n",
            "Epoch 99: [D loss: 83633168.0] [G loss: -325133696.0]\n",
            "Epoch 100: [D loss: 85148800.0] [G loss: -313592576.0]\n",
            "Epoch 101: [D loss: 82538368.0] [G loss: -302403872.0]\n",
            "Epoch 102: [D loss: 81897920.0] [G loss: -291512096.0]\n",
            "Epoch 103: [D loss: 63654160.0] [G loss: -281003392.0]\n",
            "Epoch 104: [D loss: 49169600.0] [G loss: -257628432.0]\n",
            "Epoch 105: [D loss: 34263760.0] [G loss: -231219312.0]\n",
            "Epoch 106: [D loss: 27238560.0] [G loss: -209243648.0]\n",
            "Epoch 107: [D loss: 15386352.0] [G loss: -187989792.0]\n",
            "Epoch 108: [D loss: 1423984.0] [G loss: -167310768.0]\n",
            "Epoch 109: [D loss: -7370432.0] [G loss: -146805296.0]\n",
            "Epoch 110: [D loss: -17986920.0] [G loss: -126346112.0]\n",
            "Epoch 111: [D loss: -29005824.0] [G loss: -105902304.0]\n",
            "Epoch 112: [D loss: -42036368.0] [G loss: -85370664.0]\n",
            "Epoch 113: [D loss: -53209084.0] [G loss: -64700232.0]\n",
            "Epoch 114: [D loss: -63903288.0] [G loss: -43891280.0]\n",
            "Epoch 115: [D loss: -71009816.0] [G loss: -22862376.0]\n",
            "Epoch 116: [D loss: -91988696.0] [G loss: -1610373.0]\n",
            "Epoch 117: [D loss: -106728344.0] [G loss: 19896080.0]\n",
            "Epoch 118: [D loss: -107929264.0] [G loss: 41576032.0]\n",
            "Epoch 119: [D loss: -127927968.0] [G loss: 63604232.0]\n",
            "Epoch 120: [D loss: -124555024.0] [G loss: 85918216.0]\n",
            "Epoch 121: [D loss: -143749872.0] [G loss: 108543496.0]\n",
            "Epoch 122: [D loss: -161593040.0] [G loss: 131575816.0]\n",
            "Epoch 123: [D loss: -179037232.0] [G loss: 155058320.0]\n",
            "Epoch 124: [D loss: -198859664.0] [G loss: 178816016.0]\n",
            "Epoch 125: [D loss: -203433680.0] [G loss: 203210896.0]\n",
            "Epoch 126: [D loss: -233567920.0] [G loss: 228145952.0]\n",
            "Epoch 127: [D loss: -248052784.0] [G loss: 253676528.0]\n",
            "Epoch 128: [D loss: -244339856.0] [G loss: 279883520.0]\n",
            "Epoch 129: [D loss: -276911936.0] [G loss: 306517728.0]\n",
            "Epoch 130: [D loss: -271950368.0] [G loss: 334038560.0]\n",
            "Epoch 131: [D loss: -288064512.0] [G loss: 362094880.0]\n",
            "Epoch 132: [D loss: -312948032.0] [G loss: 391080448.0]\n",
            "Epoch 133: [D loss: -348619456.0] [G loss: 420742592.0]\n",
            "Epoch 134: [D loss: -332934752.0] [G loss: 442513856.0]\n",
            "Epoch 135: [D loss: -344060224.0] [G loss: 457511392.0]\n",
            "Epoch 136: [D loss: -398788416.0] [G loss: 473190688.0]\n",
            "Epoch 137: [D loss: -416337440.0] [G loss: 490421440.0]\n",
            "Epoch 138: [D loss: -400880864.0] [G loss: 509574912.0]\n",
            "Epoch 139: [D loss: -477913536.0] [G loss: 530017760.0]\n",
            "Epoch 140: [D loss: -460424128.0] [G loss: 552224832.0]\n",
            "Epoch 141: [D loss: -486537408.0] [G loss: 574624256.0]\n",
            "Epoch 142: [D loss: -485548032.0] [G loss: 597963264.0]\n",
            "Epoch 143: [D loss: -557963968.0] [G loss: 621931072.0]\n",
            "Epoch 144: [D loss: -558088384.0] [G loss: 646638912.0]\n",
            "Epoch 145: [D loss: -569458048.0] [G loss: 671073216.0]\n",
            "Epoch 146: [D loss: -621786880.0] [G loss: 696113088.0]\n",
            "Epoch 147: [D loss: -610805120.0] [G loss: 721681024.0]\n",
            "Epoch 148: [D loss: -671856576.0] [G loss: 747493248.0]\n",
            "Epoch 149: [D loss: -659374144.0] [G loss: 773825280.0]\n"
          ]
        }
      ]
    },
    {
      "cell_type": "code",
      "source": [
        "import matplotlib.pyplot as plt\n",
        "\n",
        "def generate_and_save_images(generator, num_images=25, noise_dim=100, class_label=1):\n",
        "    z = torch.randn(num_images, noise_dim).to(device)\n",
        "    labels = torch.full((num_images,), class_label, dtype=torch.long).to(device)\n",
        "    gen_imgs = generator(z, labels).cpu().detach()\n",
        "\n",
        "    fig, axs = plt.subplots(5, 5, figsize=(5, 5))\n",
        "    for i in range(5):\n",
        "        for j in range(5):\n",
        "            axs[i, j].imshow(gen_imgs[i * 5 + j].permute(1, 2, 0) * 0.5 + 0.5)\n",
        "            axs[i, j].axis('off')\n",
        "    plt.show()\n",
        "\n",
        "generate_and_save_images(generator, 25)\n"
      ],
      "metadata": {
        "colab": {
          "base_uri": "https://localhost:8080/",
          "height": 422
        },
        "id": "LYyUqyLUoFGm",
        "outputId": "e06cd681-6dfd-42c0-b449-71e3fd02cbed"
      },
      "execution_count": 7,
      "outputs": [
        {
          "output_type": "display_data",
          "data": {
            "text/plain": [
              "<Figure size 500x500 with 25 Axes>"
            ],
            "image/png": "[encoded data removed]"
          },
          "metadata": {}
        }
      ]
    },
    {
      "cell_type": "code",
      "source": [
        "from torchvision.models import inception_v3\n",
        "from torch.autograd import Variable\n",
        "from scipy.stats import entropy\n",
        "\n",
        "inception_model = inception_v3(pretrained=True).to(device)\n",
        "inception_model.eval()\n",
        "\n",
        "def inception_score(images, inception_model, num_splits=10):\n",
        "    # Resize images to Inception expected size\n",
        "    images_resized = torch.nn.functional.interpolate(images, size=(299, 299))\n",
        "    preds = inception_model(images_resized).detach().cpu().numpy()\n",
        "    split_scores = []\n",
        "\n",
        "    for k in range(num_splits):\n",
        "        part = preds[k * (images.shape[0] // num_splits): (k + 1) * (images.shape[0] // num_splits), :]\n",
        "        p_y = np.mean(part, axis=0)\n",
        "        scores = [entropy(p_y, p) for p in part]\n",
        "        split_scores.append(np.exp(np.mean(scores)))\n",
        "\n",
        "    return np.mean(split_scores), np.std(split_scores)\n",
        "\n",
        "# Compute IS for generated images\n",
        "gen_imgs = generator(torch.randn(5000, 100).to(device), torch.full((5000,), 1, dtype=torch.long).to(device))\n",
        "IS, IS_std = inception_score(gen_imgs, inception_model)\n",
        "print(f\"Inception Score: {IS} ± {IS_std}\")\n"
      ],
      "metadata": {
        "colab": {
          "base_uri": "https://localhost:8080/"
        },
        "id": "fyU-8DJHowYI",
        "outputId": "2af3073f-6428-43cf-e99b-8881d11dc288"
      },
      "execution_count": null,
      "outputs": [
        {
          "output_type": "stream",
          "name": "stderr",
          "text": [
            "/usr/local/lib/python3.10/dist-packages/torchvision/models/_utils.py:208: UserWarning: The parameter 'pretrained' is deprecated since 0.13 and may be removed in the future, please use 'weights' instead.\n",
            "  warnings.warn(\n",
            "/usr/local/lib/python3.10/dist-packages/torchvision/models/_utils.py:223: UserWarning: Arguments other than a weight enum or `None` for 'weights' are deprecated since 0.13 and may be removed in the future. The current behavior is equivalent to passing `weights=Inception_V3_Weights.IMAGENET1K_V1`. You can also use `weights=Inception_V3_Weights.DEFAULT` to get the most up-to-date weights.\n",
            "  warnings.warn(msg)\n",
            "Downloading: \"https://download.pytorch.org/models/inception_v3_google-0cc3c7bd.pth\" to /root/.cache/torch/hub/checkpoints/inception_v3_google-0cc3c7bd.pth\n",
            "100%|██████████| 104M/104M [00:00<00:00, 188MB/s] \n"
          ]
        }
      ]
    },
    {
      "cell_type": "code",
      "source": [
        "from pytorch_fid import fid_score\n",
        "\n",
        "# Compute FID between real and generated automobile images\n",
        "real_images_path = \"./data/real_automobiles\"\n",
        "generated_images_path = \"./data/generated_automobiles\"\n",
        "\n",
        "fid_value = fid_score.calculate_fid_given_paths([real_images_path, generated_images_path], batch_size=50, device=device, dims=2048)\n",
        "print(f\"FID: {fid_value}\")\n"
      ],
      "metadata": {
        "id": "fMptRn5ixdaP"
      },
      "execution_count": null,
      "outputs": []
    },
    {
      "cell_type": "code",
      "source": [
        "from pytorch_fid import fid_score\n",
        "\n",
        "# Compute FID between real and generated automobile images\n",
        "real_images_path = \"./data/real_automobiles\"\n",
        "generated_images_path = \"./data/generated_automobiles\"\n",
        "\n",
        "fid_value = fid_score.calculate_fid_given_paths([real_images_path, generated_images_path], batch_size=50, device=device, dims=2048)\n",
        "print(f\"FID: {fid_value}\")\n"
      ],
      "metadata": {
        "id": "Yq_7BEEgylss"
      },
      "execution_count": null,
      "outputs": []
    }
  ]
}
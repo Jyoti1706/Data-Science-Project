{
 "cells": [
  {
   "cell_type": "code",
   "execution_count": 41,
   "metadata": {},
   "outputs": [],
   "source": [
    "import pandas as pd\n",
    "import matplotlib.pyplot as plt\n",
    "import numpy as np\n",
    "import seaborn as sns\n",
    "\n",
    "import xgboost as xgb\n",
    "from sklearn.model_selection import GridSearchCV"
   ]
  },
  {
   "cell_type": "code",
   "execution_count": 42,
   "metadata": {},
   "outputs": [],
   "source": [
    "test = pd.read_csv(\"Test.csv\")\n",
    "train = pd.read_csv(\"Train.csv\")\n",
    "test.Product_Category = None\n",
    "#train = 5719"
   ]
  },
  {
   "cell_type": "code",
   "execution_count": 43,
   "metadata": {},
   "outputs": [
    {
     "name": "stderr",
     "output_type": "stream",
     "text": [
      "C:\\Users\\Jyoti\\Anaconda3\\lib\\site-packages\\ipykernel_launcher.py:1: FutureWarning: Sorting because non-concatenation axis is not aligned. A future version\n",
      "of pandas will change to not sort by default.\n",
      "\n",
      "To accept the future behavior, pass 'sort=False'.\n",
      "\n",
      "To retain the current behavior and silence the warning, pass 'sort=True'.\n",
      "\n",
      "  \"\"\"Entry point for launching an IPython kernel.\n"
     ]
    }
   ],
   "source": [
    "df = pd.concat([train, test],axis=0)"
   ]
  },
  {
   "cell_type": "code",
   "execution_count": 44,
   "metadata": {},
   "outputs": [
    {
     "data": {
      "text/html": [
       "<div>\n",
       "<style scoped>\n",
       "    .dataframe tbody tr th:only-of-type {\n",
       "        vertical-align: middle;\n",
       "    }\n",
       "\n",
       "    .dataframe tbody tr th {\n",
       "        vertical-align: top;\n",
       "    }\n",
       "\n",
       "    .dataframe thead th {\n",
       "        text-align: right;\n",
       "    }\n",
       "</style>\n",
       "<table border=\"1\" class=\"dataframe\">\n",
       "  <thead>\n",
       "    <tr style=\"text-align: right;\">\n",
       "      <th></th>\n",
       "      <th>GL_Code</th>\n",
       "      <th>Inv_Amt</th>\n",
       "      <th>Inv_Id</th>\n",
       "      <th>Item_Description</th>\n",
       "      <th>Product_Category</th>\n",
       "      <th>Vendor_Code</th>\n",
       "    </tr>\n",
       "  </thead>\n",
       "  <tbody>\n",
       "    <tr>\n",
       "      <th>0</th>\n",
       "      <td>GL-6050100</td>\n",
       "      <td>6.973473</td>\n",
       "      <td>1</td>\n",
       "      <td>AETNA VARIABLE FUND - Apr-2002 - Store Managem...</td>\n",
       "      <td>CLASS-784</td>\n",
       "      <td>VENDOR-61</td>\n",
       "    </tr>\n",
       "    <tr>\n",
       "      <th>1</th>\n",
       "      <td>GL-6050100</td>\n",
       "      <td>25.053841</td>\n",
       "      <td>2</td>\n",
       "      <td>AETNA VARIABLE FUND - Nov-2000 - Store Managem...</td>\n",
       "      <td>CLASS-784</td>\n",
       "      <td>VENDOR-61</td>\n",
       "    </tr>\n",
       "    <tr>\n",
       "      <th>2</th>\n",
       "      <td>GL-6050100</td>\n",
       "      <td>53.573737</td>\n",
       "      <td>3</td>\n",
       "      <td>FAIRCHILD CORP - Nov-2001 - Store Management R...</td>\n",
       "      <td>CLASS-784</td>\n",
       "      <td>VENDOR-449</td>\n",
       "    </tr>\n",
       "    <tr>\n",
       "      <th>3</th>\n",
       "      <td>GL-6050100</td>\n",
       "      <td>67.388827</td>\n",
       "      <td>4</td>\n",
       "      <td>CALIFORNIA REAL ESTATE INVESTMENT TRUST - Aug-...</td>\n",
       "      <td>CLASS-784</td>\n",
       "      <td>VENDOR-682</td>\n",
       "    </tr>\n",
       "    <tr>\n",
       "      <th>4</th>\n",
       "      <td>GL-6050100</td>\n",
       "      <td>74.262047</td>\n",
       "      <td>5</td>\n",
       "      <td>CALIFORNIA REAL ESTATE INVESTMENT TRUST - Mar-...</td>\n",
       "      <td>CLASS-784</td>\n",
       "      <td>VENDOR-682</td>\n",
       "    </tr>\n",
       "  </tbody>\n",
       "</table>\n",
       "</div>"
      ],
      "text/plain": [
       "      GL_Code    Inv_Amt  Inv_Id  \\\n",
       "0  GL-6050100   6.973473       1   \n",
       "1  GL-6050100  25.053841       2   \n",
       "2  GL-6050100  53.573737       3   \n",
       "3  GL-6050100  67.388827       4   \n",
       "4  GL-6050100  74.262047       5   \n",
       "\n",
       "                                    Item_Description Product_Category  \\\n",
       "0  AETNA VARIABLE FUND - Apr-2002 - Store Managem...        CLASS-784   \n",
       "1  AETNA VARIABLE FUND - Nov-2000 - Store Managem...        CLASS-784   \n",
       "2  FAIRCHILD CORP - Nov-2001 - Store Management R...        CLASS-784   \n",
       "3  CALIFORNIA REAL ESTATE INVESTMENT TRUST - Aug-...        CLASS-784   \n",
       "4  CALIFORNIA REAL ESTATE INVESTMENT TRUST - Mar-...        CLASS-784   \n",
       "\n",
       "  Vendor_Code  \n",
       "0   VENDOR-61  \n",
       "1   VENDOR-61  \n",
       "2  VENDOR-449  \n",
       "3  VENDOR-682  \n",
       "4  VENDOR-682  "
      ]
     },
     "execution_count": 44,
     "metadata": {},
     "output_type": "execute_result"
    }
   ],
   "source": [
    "df.head()"
   ]
  },
  {
   "cell_type": "code",
   "execution_count": 45,
   "metadata": {},
   "outputs": [
    {
     "name": "stdout",
     "output_type": "stream",
     "text": [
      "<class 'pandas.core.frame.DataFrame'>\n",
      "Int64Index: 8011 entries, 0 to 2291\n",
      "Data columns (total 6 columns):\n",
      "GL_Code             8011 non-null object\n",
      "Inv_Amt             8011 non-null float64\n",
      "Inv_Id              8011 non-null int64\n",
      "Item_Description    8011 non-null object\n",
      "Product_Category    5719 non-null object\n",
      "Vendor_Code         8011 non-null object\n",
      "dtypes: float64(1), int64(1), object(4)\n",
      "memory usage: 438.1+ KB\n"
     ]
    }
   ],
   "source": [
    "df.info()"
   ]
  },
  {
   "cell_type": "code",
   "execution_count": 46,
   "metadata": {},
   "outputs": [
    {
     "data": {
      "text/plain": [
       "Index(['GL_Code', 'Inv_Amt', 'Inv_Id', 'Item_Description', 'Product_Category',\n",
       "       'Vendor_Code'],\n",
       "      dtype='object')"
      ]
     },
     "execution_count": 46,
     "metadata": {},
     "output_type": "execute_result"
    }
   ],
   "source": [
    "df.columns"
   ]
  },
  {
   "cell_type": "code",
   "execution_count": 47,
   "metadata": {},
   "outputs": [],
   "source": [
    "#df.groupby([\"Vendor_Code_filtered\",\"Product_Category_filtered\"]).count()"
   ]
  },
  {
   "cell_type": "markdown",
   "metadata": {},
   "source": [
    "### Data Wrangling\n",
    "\n",
    "> Created 4 fields from Item Description column of the data set\n",
    "> 1. Company Name\n",
    "> 2. Month\n",
    "> 3. Year\n",
    "> 4. Group\n",
    "\n",
    "> After separating out this column we will analyse the affect of these column into Product category latter in this notebook and predict the output using these fields.\n",
    "\n",
    "> Note: there were few item descriptions data which has extra hyphens in between the company name or group so we took care of that"
   ]
  },
  {
   "cell_type": "code",
   "execution_count": 48,
   "metadata": {},
   "outputs": [
    {
     "data": {
      "text/plain": [
       "0    AETNA VARIABLE FUND - Apr-2002 - Store Managem...\n",
       "1    AETNA VARIABLE FUND - Nov-2000 - Store Managem...\n",
       "2    FAIRCHILD CORP - Nov-2001 - Store Management R...\n",
       "3    CALIFORNIA REAL ESTATE INVESTMENT TRUST - Aug-...\n",
       "4    CALIFORNIA REAL ESTATE INVESTMENT TRUST - Mar-...\n",
       "Name: Item_Description, dtype: object"
      ]
     },
     "execution_count": 48,
     "metadata": {},
     "output_type": "execute_result"
    }
   ],
   "source": [
    "# checking the pattern\n",
    "df['Item_Description'].head()"
   ]
  },
  {
   "cell_type": "code",
   "execution_count": 49,
   "metadata": {},
   "outputs": [],
   "source": [
    "# Creating new fields  from item_Description\n",
    "Comp_Name = []\n",
    "Month = []\n",
    "Year = []\n",
    "Group = []\n",
    "mon = [\"JAN\",\"FEB\",\"MAR\",\"APR\",\"MAY\",\"JUN\",\"JUL\",\"AUG\",\"SEP\",\"OCT\",\"NOV\",\"DEC\"]\n",
    "\n",
    "for idx,i in enumerate(df['Item_Description']):\n",
    "    s = i.split(\"-\")\n",
    "    l = len(s)\n",
    "    splitidx=0\n",
    "    for jidx,j in enumerate(s):\n",
    "        j = j.upper().strip()\n",
    "        if j in mon:\n",
    "            splitidx = jidx\n",
    "            break\n",
    "    cmp=\"\"\n",
    "    grp=\"\"\n",
    "    for i in range(0,splitidx):\n",
    "        cmp=cmp+s[i]\n",
    "    Comp_Name.append(cmp)\n",
    "    Month.append(s[splitidx])\n",
    "    Year.append(s[splitidx+1])\n",
    "    for i in range(splitidx+2,l):\n",
    "        grp=grp+s[i]\n",
    "    Group.append(grp)\n",
    "df['Comp_Name']=Comp_Name\n",
    "df['Month']=Month\n",
    "df['Year']=Year\n",
    "df['Group']= Group\n",
    "        \n",
    "\n",
    "    "
   ]
  },
  {
   "cell_type": "code",
   "execution_count": 50,
   "metadata": {},
   "outputs": [
    {
     "data": {
      "text/html": [
       "<div>\n",
       "<style scoped>\n",
       "    .dataframe tbody tr th:only-of-type {\n",
       "        vertical-align: middle;\n",
       "    }\n",
       "\n",
       "    .dataframe tbody tr th {\n",
       "        vertical-align: top;\n",
       "    }\n",
       "\n",
       "    .dataframe thead th {\n",
       "        text-align: right;\n",
       "    }\n",
       "</style>\n",
       "<table border=\"1\" class=\"dataframe\">\n",
       "  <thead>\n",
       "    <tr style=\"text-align: right;\">\n",
       "      <th></th>\n",
       "      <th>GL_Code</th>\n",
       "      <th>Inv_Amt</th>\n",
       "      <th>Inv_Id</th>\n",
       "      <th>Item_Description</th>\n",
       "      <th>Product_Category</th>\n",
       "      <th>Vendor_Code</th>\n",
       "      <th>Comp_Name</th>\n",
       "      <th>Month</th>\n",
       "      <th>Year</th>\n",
       "      <th>Group</th>\n",
       "    </tr>\n",
       "  </thead>\n",
       "  <tbody>\n",
       "    <tr>\n",
       "      <th>552</th>\n",
       "      <td>GL-6101400</td>\n",
       "      <td>74.686875</td>\n",
       "      <td>764</td>\n",
       "      <td>AMERACE CORP 1967 QUAL STK OPT PL &amp; 1972 QUAL-...</td>\n",
       "      <td>CLASS-913</td>\n",
       "      <td>VENDOR-159</td>\n",
       "      <td>AMERACE CORP 1967 QUAL STK OPT PL &amp; 1972 QUALN...</td>\n",
       "      <td>Jun</td>\n",
       "      <td>2002</td>\n",
       "      <td>Store Construction Fixtures Store Fixtures St...</td>\n",
       "    </tr>\n",
       "  </tbody>\n",
       "</table>\n",
       "</div>"
      ],
      "text/plain": [
       "        GL_Code    Inv_Amt  Inv_Id  \\\n",
       "552  GL-6101400  74.686875     764   \n",
       "\n",
       "                                      Item_Description Product_Category  \\\n",
       "552  AMERACE CORP 1967 QUAL STK OPT PL & 1972 QUAL-...        CLASS-913   \n",
       "\n",
       "    Vendor_Code                                          Comp_Name Month  \\\n",
       "552  VENDOR-159  AMERACE CORP 1967 QUAL STK OPT PL & 1972 QUALN...   Jun   \n",
       "\n",
       "      Year                                              Group  \n",
       "552  2002    Store Construction Fixtures Store Fixtures St...  "
      ]
     },
     "execution_count": 50,
     "metadata": {},
     "output_type": "execute_result"
    }
   ],
   "source": [
    "# checking extra hypens rows data,if split happened correctly or not for those\n",
    "#df[df['Comp_Name'].str.contains(\"ASSOCIATED\")]\n",
    "df[df['Comp_Name'].str.contains(\"AMERACE\")]\n",
    "\n"
   ]
  },
  {
   "cell_type": "code",
   "execution_count": 51,
   "metadata": {},
   "outputs": [],
   "source": [
    "#Removing Class from Vendor Code\n",
    "li = []\n",
    "for i in df[\"Vendor_Code\"]:\n",
    "    temp1,temp2=i.split(\"-\")\n",
    "    li.append(temp2)\n",
    "df[\"Vendor_Code_filtered\"] = li"
   ]
  },
  {
   "cell_type": "code",
   "execution_count": 52,
   "metadata": {},
   "outputs": [],
   "source": [
    "df.drop(['Vendor_Code','Item_Description','Inv_Id'],axis=1,inplace = True)"
   ]
  },
  {
   "cell_type": "code",
   "execution_count": 53,
   "metadata": {},
   "outputs": [],
   "source": [
    "l=['GL_Code', 'Comp_Name', 'Month', 'Year',\n",
    "       'Group', 'Vendor_Code_filtered']"
   ]
  },
  {
   "cell_type": "code",
   "execution_count": 54,
   "metadata": {},
   "outputs": [],
   "source": [
    "df=pd.get_dummies(df, columns=l)"
   ]
  },
  {
   "cell_type": "code",
   "execution_count": 55,
   "metadata": {},
   "outputs": [
    {
     "name": "stdout",
     "output_type": "stream",
     "text": [
      "<class 'pandas.core.frame.DataFrame'>\n",
      "Int64Index: 8011 entries, 0 to 2291\n",
      "Columns: 3235 entries, Inv_Amt to Vendor_Code_filtered_999\n",
      "dtypes: float64(1), object(1), uint8(3233)\n",
      "memory usage: 24.9+ MB\n"
     ]
    }
   ],
   "source": [
    "df.info()"
   ]
  },
  {
   "cell_type": "code",
   "execution_count": 61,
   "metadata": {},
   "outputs": [],
   "source": [
    "#separating Test and Train\n",
    "train = df[:train.shape[0]]\n",
    "test = df[train.shape[0]:]"
   ]
  },
  {
   "cell_type": "code",
   "execution_count": 62,
   "metadata": {},
   "outputs": [
    {
     "data": {
      "text/plain": [
       "<bound method NDFrame.head of         Inv_Amt Product_Category  GL_Code_GL-2182000  GL_Code_GL-6020600  \\\n",
       "0      6.973473        CLASS-784                   0                   0   \n",
       "1     25.053841        CLASS-784                   0                   0   \n",
       "2     53.573737        CLASS-784                   0                   0   \n",
       "3     67.388827        CLASS-784                   0                   0   \n",
       "4     74.262047        CLASS-784                   0                   0   \n",
       "5     52.448071        CLASS-784                   0                   0   \n",
       "6     97.217357        CLASS-784                   0                   0   \n",
       "7     74.614845        CLASS-784                   0                   0   \n",
       "8     25.147176        CLASS-784                   0                   0   \n",
       "9     18.728399        CLASS-784                   0                   0   \n",
       "10    53.620834        CLASS-784                   0                   0   \n",
       "11    18.852744        CLASS-784                   0                   0   \n",
       "12    59.200734        CLASS-784                   0                   0   \n",
       "13     9.334981        CLASS-784                   0                   0   \n",
       "14     5.520218        CLASS-784                   0                   0   \n",
       "15    76.581397        CLASS-784                   0                   0   \n",
       "16    32.042612        CLASS-784                   0                   0   \n",
       "17    22.020404        CLASS-489                   1                   0   \n",
       "18    90.005483        CLASS-489                   1                   0   \n",
       "19    28.947290        CLASS-489                   1                   0   \n",
       "20    99.775565        CLASS-489                   1                   0   \n",
       "21    52.106023        CLASS-913                   0                   0   \n",
       "22    88.634969        CLASS-913                   0                   0   \n",
       "23    44.483803        CLASS-368                   0                   0   \n",
       "24    30.405418        CLASS-368                   0                   0   \n",
       "25    32.457612        CLASS-913                   0                   0   \n",
       "26    33.229680        CLASS-816                   0                   1   \n",
       "27    46.578878        CLASS-816                   0                   1   \n",
       "28    27.006609        CLASS-629                   0                   0   \n",
       "29    57.609305        CLASS-629                   0                   0   \n",
       "...         ...              ...                 ...                 ...   \n",
       "5689  41.535794        CLASS-230                   0                   0   \n",
       "5690  26.371963        CLASS-671                   0                   0   \n",
       "5691  69.949309        CLASS-913                   0                   0   \n",
       "5692  91.289388        CLASS-230                   0                   0   \n",
       "5693  30.770910        CLASS-913                   0                   0   \n",
       "5694  70.805908        CLASS-230                   0                   0   \n",
       "5695  89.863399        CLASS-230                   0                   0   \n",
       "5696  85.772159        CLASS-758                   1                   0   \n",
       "5697  46.085768        CLASS-571                   0                   0   \n",
       "5698  20.615058        CLASS-571                   0                   0   \n",
       "5699  19.232263        CLASS-571                   0                   0   \n",
       "5700  35.348075        CLASS-571                   0                   0   \n",
       "5701  42.386252        CLASS-571                   0                   0   \n",
       "5702  43.777860        CLASS-571                   0                   0   \n",
       "5703  69.362030        CLASS-571                   0                   0   \n",
       "5704  91.993488        CLASS-571                   0                   0   \n",
       "5705  35.397801        CLASS-571                   0                   0   \n",
       "5706  56.726023        CLASS-571                   0                   0   \n",
       "5707  53.491370        CLASS-571                   0                   0   \n",
       "5708  71.135070        CLASS-571                   0                   0   \n",
       "5709  22.509020        CLASS-571                   0                   0   \n",
       "5710  64.596747        CLASS-571                   0                   0   \n",
       "5711  90.848917        CLASS-571                   0                   0   \n",
       "5712  72.487088        CLASS-571                   0                   0   \n",
       "5713  71.813110        CLASS-571                   0                   0   \n",
       "5714  89.409831        CLASS-571                   0                   0   \n",
       "5715  35.066517        CLASS-571                   0                   0   \n",
       "5716  51.270765        CLASS-571                   0                   0   \n",
       "5717  42.693898        CLASS-571                   0                   0   \n",
       "5718  99.841762        CLASS-571                   0                   0   \n",
       "\n",
       "      GL_Code_GL-6050100  GL_Code_GL-6050310  GL_Code_GL-6060100  \\\n",
       "0                      1                   0                   0   \n",
       "1                      1                   0                   0   \n",
       "2                      1                   0                   0   \n",
       "3                      1                   0                   0   \n",
       "4                      1                   0                   0   \n",
       "5                      1                   0                   0   \n",
       "6                      1                   0                   0   \n",
       "7                      1                   0                   0   \n",
       "8                      1                   0                   0   \n",
       "9                      1                   0                   0   \n",
       "10                     1                   0                   0   \n",
       "11                     1                   0                   0   \n",
       "12                     1                   0                   0   \n",
       "13                     1                   0                   0   \n",
       "14                     1                   0                   0   \n",
       "15                     1                   0                   0   \n",
       "16                     1                   0                   0   \n",
       "17                     0                   0                   0   \n",
       "18                     0                   0                   0   \n",
       "19                     0                   0                   0   \n",
       "20                     0                   0                   0   \n",
       "21                     0                   0                   0   \n",
       "22                     0                   0                   0   \n",
       "23                     0                   1                   0   \n",
       "24                     0                   1                   0   \n",
       "25                     0                   0                   0   \n",
       "26                     0                   0                   0   \n",
       "27                     0                   0                   0   \n",
       "28                     0                   0                   0   \n",
       "29                     0                   0                   0   \n",
       "...                  ...                 ...                 ...   \n",
       "5689                   0                   0                   0   \n",
       "5690                   0                   1                   0   \n",
       "5691                   0                   0                   0   \n",
       "5692                   0                   0                   0   \n",
       "5693                   0                   0                   0   \n",
       "5694                   0                   0                   0   \n",
       "5695                   0                   0                   0   \n",
       "5696                   0                   0                   0   \n",
       "5697                   0                   0                   0   \n",
       "5698                   0                   0                   0   \n",
       "5699                   0                   0                   0   \n",
       "5700                   0                   0                   0   \n",
       "5701                   0                   0                   0   \n",
       "5702                   0                   0                   0   \n",
       "5703                   0                   0                   0   \n",
       "5704                   0                   0                   0   \n",
       "5705                   0                   0                   0   \n",
       "5706                   0                   0                   0   \n",
       "5707                   0                   0                   0   \n",
       "5708                   0                   0                   0   \n",
       "5709                   0                   0                   0   \n",
       "5710                   0                   0                   0   \n",
       "5711                   0                   0                   0   \n",
       "5712                   0                   0                   0   \n",
       "5713                   0                   0                   0   \n",
       "5714                   0                   0                   0   \n",
       "5715                   0                   0                   0   \n",
       "5716                   0                   0                   0   \n",
       "5717                   0                   0                   0   \n",
       "5718                   0                   0                   0   \n",
       "\n",
       "      GL_Code_GL-6100410  GL_Code_GL-6100500  GL_Code_GL-6101400  ...  \\\n",
       "0                      0                   0                   0  ...   \n",
       "1                      0                   0                   0  ...   \n",
       "2                      0                   0                   0  ...   \n",
       "3                      0                   0                   0  ...   \n",
       "4                      0                   0                   0  ...   \n",
       "5                      0                   0                   0  ...   \n",
       "6                      0                   0                   0  ...   \n",
       "7                      0                   0                   0  ...   \n",
       "8                      0                   0                   0  ...   \n",
       "9                      0                   0                   0  ...   \n",
       "10                     0                   0                   0  ...   \n",
       "11                     0                   0                   0  ...   \n",
       "12                     0                   0                   0  ...   \n",
       "13                     0                   0                   0  ...   \n",
       "14                     0                   0                   0  ...   \n",
       "15                     0                   0                   0  ...   \n",
       "16                     0                   0                   0  ...   \n",
       "17                     0                   0                   0  ...   \n",
       "18                     0                   0                   0  ...   \n",
       "19                     0                   0                   0  ...   \n",
       "20                     0                   0                   0  ...   \n",
       "21                     0                   0                   1  ...   \n",
       "22                     0                   0                   1  ...   \n",
       "23                     0                   0                   0  ...   \n",
       "24                     0                   0                   0  ...   \n",
       "25                     0                   0                   1  ...   \n",
       "26                     0                   0                   0  ...   \n",
       "27                     0                   0                   0  ...   \n",
       "28                     1                   0                   0  ...   \n",
       "29                     1                   0                   0  ...   \n",
       "...                  ...                 ...                 ...  ...   \n",
       "5689                   1                   0                   0  ...   \n",
       "5690                   0                   0                   0  ...   \n",
       "5691                   0                   0                   1  ...   \n",
       "5692                   1                   0                   0  ...   \n",
       "5693                   0                   0                   1  ...   \n",
       "5694                   1                   0                   0  ...   \n",
       "5695                   1                   0                   0  ...   \n",
       "5696                   0                   0                   0  ...   \n",
       "5697                   0                   0                   0  ...   \n",
       "5698                   0                   0                   0  ...   \n",
       "5699                   0                   0                   0  ...   \n",
       "5700                   0                   0                   0  ...   \n",
       "5701                   0                   0                   0  ...   \n",
       "5702                   0                   0                   0  ...   \n",
       "5703                   0                   0                   0  ...   \n",
       "5704                   0                   0                   0  ...   \n",
       "5705                   0                   0                   0  ...   \n",
       "5706                   0                   0                   0  ...   \n",
       "5707                   0                   0                   0  ...   \n",
       "5708                   0                   0                   0  ...   \n",
       "5709                   0                   0                   0  ...   \n",
       "5710                   0                   0                   0  ...   \n",
       "5711                   0                   0                   0  ...   \n",
       "5712                   0                   0                   0  ...   \n",
       "5713                   0                   0                   0  ...   \n",
       "5714                   0                   0                   0  ...   \n",
       "5715                   0                   0                   0  ...   \n",
       "5716                   0                   0                   0  ...   \n",
       "5717                   0                   0                   0  ...   \n",
       "5718                   0                   0                   0  ...   \n",
       "\n",
       "      Vendor_Code_filtered_990  Vendor_Code_filtered_991  \\\n",
       "0                            0                         0   \n",
       "1                            0                         0   \n",
       "2                            0                         0   \n",
       "3                            0                         0   \n",
       "4                            0                         0   \n",
       "5                            0                         0   \n",
       "6                            0                         0   \n",
       "7                            0                         0   \n",
       "8                            0                         0   \n",
       "9                            0                         0   \n",
       "10                           0                         0   \n",
       "11                           0                         0   \n",
       "12                           0                         0   \n",
       "13                           0                         0   \n",
       "14                           0                         0   \n",
       "15                           0                         0   \n",
       "16                           0                         0   \n",
       "17                           0                         0   \n",
       "18                           0                         0   \n",
       "19                           0                         0   \n",
       "20                           0                         0   \n",
       "21                           0                         0   \n",
       "22                           0                         0   \n",
       "23                           0                         0   \n",
       "24                           0                         0   \n",
       "25                           0                         0   \n",
       "26                           0                         0   \n",
       "27                           0                         0   \n",
       "28                           0                         0   \n",
       "29                           0                         0   \n",
       "...                        ...                       ...   \n",
       "5689                         0                         0   \n",
       "5690                         0                         0   \n",
       "5691                         0                         0   \n",
       "5692                         0                         0   \n",
       "5693                         0                         0   \n",
       "5694                         0                         0   \n",
       "5695                         0                         0   \n",
       "5696                         0                         0   \n",
       "5697                         0                         0   \n",
       "5698                         0                         0   \n",
       "5699                         0                         0   \n",
       "5700                         0                         0   \n",
       "5701                         0                         0   \n",
       "5702                         0                         0   \n",
       "5703                         0                         0   \n",
       "5704                         0                         0   \n",
       "5705                         0                         0   \n",
       "5706                         0                         0   \n",
       "5707                         0                         0   \n",
       "5708                         0                         0   \n",
       "5709                         0                         0   \n",
       "5710                         0                         0   \n",
       "5711                         0                         0   \n",
       "5712                         0                         0   \n",
       "5713                         0                         0   \n",
       "5714                         0                         0   \n",
       "5715                         0                         0   \n",
       "5716                         0                         0   \n",
       "5717                         0                         0   \n",
       "5718                         0                         0   \n",
       "\n",
       "      Vendor_Code_filtered_992  Vendor_Code_filtered_993  \\\n",
       "0                            0                         0   \n",
       "1                            0                         0   \n",
       "2                            0                         0   \n",
       "3                            0                         0   \n",
       "4                            0                         0   \n",
       "5                            0                         0   \n",
       "6                            0                         0   \n",
       "7                            0                         0   \n",
       "8                            0                         0   \n",
       "9                            0                         0   \n",
       "10                           0                         0   \n",
       "11                           0                         0   \n",
       "12                           0                         0   \n",
       "13                           0                         0   \n",
       "14                           0                         0   \n",
       "15                           0                         0   \n",
       "16                           0                         0   \n",
       "17                           0                         0   \n",
       "18                           0                         0   \n",
       "19                           0                         0   \n",
       "20                           0                         0   \n",
       "21                           0                         0   \n",
       "22                           0                         0   \n",
       "23                           0                         0   \n",
       "24                           0                         0   \n",
       "25                           0                         0   \n",
       "26                           0                         0   \n",
       "27                           0                         0   \n",
       "28                           0                         0   \n",
       "29                           0                         0   \n",
       "...                        ...                       ...   \n",
       "5689                         0                         0   \n",
       "5690                         0                         0   \n",
       "5691                         0                         0   \n",
       "5692                         0                         0   \n",
       "5693                         0                         0   \n",
       "5694                         0                         0   \n",
       "5695                         0                         0   \n",
       "5696                         0                         0   \n",
       "5697                         0                         0   \n",
       "5698                         0                         0   \n",
       "5699                         0                         0   \n",
       "5700                         0                         0   \n",
       "5701                         0                         0   \n",
       "5702                         0                         0   \n",
       "5703                         0                         0   \n",
       "5704                         0                         0   \n",
       "5705                         0                         0   \n",
       "5706                         0                         0   \n",
       "5707                         0                         0   \n",
       "5708                         0                         0   \n",
       "5709                         0                         0   \n",
       "5710                         0                         0   \n",
       "5711                         0                         0   \n",
       "5712                         0                         0   \n",
       "5713                         0                         0   \n",
       "5714                         0                         0   \n",
       "5715                         0                         0   \n",
       "5716                         0                         0   \n",
       "5717                         0                         0   \n",
       "5718                         0                         0   \n",
       "\n",
       "      Vendor_Code_filtered_994  Vendor_Code_filtered_995  \\\n",
       "0                            0                         0   \n",
       "1                            0                         0   \n",
       "2                            0                         0   \n",
       "3                            0                         0   \n",
       "4                            0                         0   \n",
       "5                            0                         0   \n",
       "6                            0                         0   \n",
       "7                            0                         0   \n",
       "8                            0                         0   \n",
       "9                            0                         0   \n",
       "10                           0                         0   \n",
       "11                           0                         0   \n",
       "12                           0                         0   \n",
       "13                           0                         0   \n",
       "14                           0                         0   \n",
       "15                           0                         0   \n",
       "16                           0                         0   \n",
       "17                           0                         0   \n",
       "18                           0                         0   \n",
       "19                           0                         0   \n",
       "20                           0                         0   \n",
       "21                           0                         0   \n",
       "22                           0                         0   \n",
       "23                           0                         0   \n",
       "24                           0                         0   \n",
       "25                           0                         0   \n",
       "26                           0                         0   \n",
       "27                           0                         0   \n",
       "28                           0                         0   \n",
       "29                           0                         0   \n",
       "...                        ...                       ...   \n",
       "5689                         0                         0   \n",
       "5690                         0                         0   \n",
       "5691                         0                         0   \n",
       "5692                         0                         0   \n",
       "5693                         0                         0   \n",
       "5694                         0                         0   \n",
       "5695                         0                         0   \n",
       "5696                         0                         0   \n",
       "5697                         0                         0   \n",
       "5698                         0                         0   \n",
       "5699                         0                         0   \n",
       "5700                         0                         0   \n",
       "5701                         0                         0   \n",
       "5702                         0                         0   \n",
       "5703                         0                         0   \n",
       "5704                         0                         0   \n",
       "5705                         0                         0   \n",
       "5706                         0                         0   \n",
       "5707                         0                         0   \n",
       "5708                         0                         0   \n",
       "5709                         0                         0   \n",
       "5710                         0                         0   \n",
       "5711                         0                         0   \n",
       "5712                         0                         0   \n",
       "5713                         0                         0   \n",
       "5714                         0                         0   \n",
       "5715                         0                         0   \n",
       "5716                         0                         0   \n",
       "5717                         0                         0   \n",
       "5718                         0                         0   \n",
       "\n",
       "      Vendor_Code_filtered_996  Vendor_Code_filtered_997  \\\n",
       "0                            0                         0   \n",
       "1                            0                         0   \n",
       "2                            0                         0   \n",
       "3                            0                         0   \n",
       "4                            0                         0   \n",
       "5                            0                         0   \n",
       "6                            0                         0   \n",
       "7                            0                         0   \n",
       "8                            0                         0   \n",
       "9                            0                         0   \n",
       "10                           0                         0   \n",
       "11                           0                         0   \n",
       "12                           0                         0   \n",
       "13                           0                         0   \n",
       "14                           0                         0   \n",
       "15                           0                         0   \n",
       "16                           0                         0   \n",
       "17                           0                         0   \n",
       "18                           0                         0   \n",
       "19                           0                         0   \n",
       "20                           0                         0   \n",
       "21                           0                         0   \n",
       "22                           0                         0   \n",
       "23                           0                         0   \n",
       "24                           0                         0   \n",
       "25                           0                         0   \n",
       "26                           0                         0   \n",
       "27                           0                         0   \n",
       "28                           0                         0   \n",
       "29                           0                         0   \n",
       "...                        ...                       ...   \n",
       "5689                         0                         0   \n",
       "5690                         0                         0   \n",
       "5691                         0                         0   \n",
       "5692                         0                         0   \n",
       "5693                         0                         0   \n",
       "5694                         0                         0   \n",
       "5695                         0                         0   \n",
       "5696                         0                         0   \n",
       "5697                         0                         0   \n",
       "5698                         0                         0   \n",
       "5699                         0                         0   \n",
       "5700                         0                         0   \n",
       "5701                         0                         0   \n",
       "5702                         0                         0   \n",
       "5703                         0                         0   \n",
       "5704                         0                         0   \n",
       "5705                         0                         0   \n",
       "5706                         0                         0   \n",
       "5707                         0                         0   \n",
       "5708                         0                         0   \n",
       "5709                         0                         0   \n",
       "5710                         0                         0   \n",
       "5711                         0                         0   \n",
       "5712                         0                         0   \n",
       "5713                         0                         0   \n",
       "5714                         0                         0   \n",
       "5715                         0                         0   \n",
       "5716                         0                         0   \n",
       "5717                         0                         0   \n",
       "5718                         0                         0   \n",
       "\n",
       "      Vendor_Code_filtered_998  Vendor_Code_filtered_999  \n",
       "0                            0                         0  \n",
       "1                            0                         0  \n",
       "2                            0                         0  \n",
       "3                            0                         0  \n",
       "4                            0                         0  \n",
       "5                            0                         0  \n",
       "6                            0                         0  \n",
       "7                            0                         0  \n",
       "8                            0                         0  \n",
       "9                            0                         0  \n",
       "10                           0                         0  \n",
       "11                           0                         0  \n",
       "12                           0                         0  \n",
       "13                           0                         0  \n",
       "14                           0                         0  \n",
       "15                           0                         0  \n",
       "16                           0                         0  \n",
       "17                           0                         0  \n",
       "18                           0                         0  \n",
       "19                           0                         0  \n",
       "20                           0                         0  \n",
       "21                           0                         0  \n",
       "22                           0                         0  \n",
       "23                           0                         0  \n",
       "24                           0                         0  \n",
       "25                           0                         0  \n",
       "26                           0                         0  \n",
       "27                           0                         0  \n",
       "28                           0                         0  \n",
       "29                           0                         0  \n",
       "...                        ...                       ...  \n",
       "5689                         0                         0  \n",
       "5690                         0                         0  \n",
       "5691                         0                         0  \n",
       "5692                         0                         0  \n",
       "5693                         0                         0  \n",
       "5694                         0                         0  \n",
       "5695                         0                         0  \n",
       "5696                         0                         0  \n",
       "5697                         0                         0  \n",
       "5698                         0                         0  \n",
       "5699                         0                         0  \n",
       "5700                         0                         0  \n",
       "5701                         0                         0  \n",
       "5702                         0                         0  \n",
       "5703                         0                         0  \n",
       "5704                         0                         0  \n",
       "5705                         0                         0  \n",
       "5706                         0                         0  \n",
       "5707                         0                         0  \n",
       "5708                         0                         0  \n",
       "5709                         0                         0  \n",
       "5710                         0                         0  \n",
       "5711                         0                         0  \n",
       "5712                         0                         0  \n",
       "5713                         0                         0  \n",
       "5714                         0                         0  \n",
       "5715                         0                         0  \n",
       "5716                         0                         0  \n",
       "5717                         0                         0  \n",
       "5718                         0                         0  \n",
       "\n",
       "[5719 rows x 3235 columns]>"
      ]
     },
     "execution_count": 62,
     "metadata": {},
     "output_type": "execute_result"
    }
   ],
   "source": [
    "train.head"
   ]
  },
  {
   "cell_type": "code",
   "execution_count": 57,
   "metadata": {},
   "outputs": [
    {
     "ename": "AttributeError",
     "evalue": "'float' object has no attribute 'split'",
     "output_type": "error",
     "traceback": [
      "\u001b[1;31m---------------------------------------------------------------------------\u001b[0m",
      "\u001b[1;31mAttributeError\u001b[0m                            Traceback (most recent call last)",
      "\u001b[1;32m<ipython-input-57-56d32cc13d2a>\u001b[0m in \u001b[0;36m<module>\u001b[1;34m\u001b[0m\n\u001b[0;32m      2\u001b[0m \u001b[0mli\u001b[0m \u001b[1;33m=\u001b[0m \u001b[1;33m[\u001b[0m\u001b[1;33m]\u001b[0m\u001b[1;33m\u001b[0m\u001b[1;33m\u001b[0m\u001b[0m\n\u001b[0;32m      3\u001b[0m \u001b[1;32mfor\u001b[0m \u001b[0mi\u001b[0m \u001b[1;32min\u001b[0m \u001b[0mdf\u001b[0m\u001b[1;33m[\u001b[0m\u001b[1;34m\"Product_Category\"\u001b[0m\u001b[1;33m]\u001b[0m\u001b[1;33m:\u001b[0m\u001b[1;33m\u001b[0m\u001b[1;33m\u001b[0m\u001b[0m\n\u001b[1;32m----> 4\u001b[1;33m     \u001b[0mtemp1\u001b[0m\u001b[1;33m,\u001b[0m\u001b[0mtemp2\u001b[0m\u001b[1;33m=\u001b[0m\u001b[0mi\u001b[0m\u001b[1;33m.\u001b[0m\u001b[0msplit\u001b[0m\u001b[1;33m(\u001b[0m\u001b[1;34m\"-\"\u001b[0m\u001b[1;33m)\u001b[0m\u001b[1;33m\u001b[0m\u001b[1;33m\u001b[0m\u001b[0m\n\u001b[0m\u001b[0;32m      5\u001b[0m     \u001b[0mli\u001b[0m\u001b[1;33m.\u001b[0m\u001b[0mappend\u001b[0m\u001b[1;33m(\u001b[0m\u001b[0mtemp2\u001b[0m\u001b[1;33m)\u001b[0m\u001b[1;33m\u001b[0m\u001b[1;33m\u001b[0m\u001b[0m\n\u001b[0;32m      6\u001b[0m \u001b[0mdf\u001b[0m\u001b[1;33m[\u001b[0m\u001b[1;34m\"Product_Category_filtered\"\u001b[0m\u001b[1;33m]\u001b[0m \u001b[1;33m=\u001b[0m \u001b[0mli\u001b[0m\u001b[1;33m\u001b[0m\u001b[1;33m\u001b[0m\u001b[0m\n",
      "\u001b[1;31mAttributeError\u001b[0m: 'float' object has no attribute 'split'"
     ]
    }
   ],
   "source": [
    "#Removing Class from Category\n",
    "li = []\n",
    "for i in df[\"Product_Category\"]:\n",
    "    temp1,temp2=i.split(\"-\")\n",
    "    li.append(temp2)\n",
    "df[\"Product_Category_filtered\"] = li"
   ]
  },
  {
   "cell_type": "code",
   "execution_count": 36,
   "metadata": {},
   "outputs": [
    {
     "data": {
      "text/plain": [
       "Index(['GL_Code', 'Inv_Amt', 'Inv_Id', 'Item_Description', 'Product_Category',\n",
       "       'Vendor_Code', 'Vendor_Code_filtered', 'Comp_Name', 'Month', 'Year',\n",
       "       'Group'],\n",
       "      dtype='object')"
      ]
     },
     "execution_count": 36,
     "metadata": {},
     "output_type": "execute_result"
    }
   ],
   "source": [
    "df.columns"
   ]
  },
  {
   "cell_type": "markdown",
   "metadata": {},
   "source": [
    "> Dropping Old Columns"
   ]
  },
  {
   "cell_type": "code",
   "execution_count": 14,
   "metadata": {},
   "outputs": [
    {
     "data": {
      "text/plain": [
       "9"
      ]
     },
     "execution_count": 14,
     "metadata": {},
     "output_type": "execute_result"
    }
   ],
   "source": [
    "train['GL_Code'].nunique()"
   ]
  },
  {
   "cell_type": "markdown",
   "metadata": {},
   "source": [
    "### Looking into Data and Visualizing various relationship between columns and output"
   ]
  },
  {
   "cell_type": "code",
   "execution_count": 39,
   "metadata": {},
   "outputs": [
    {
     "ename": "KeyError",
     "evalue": "'Product_Category_filtered'",
     "output_type": "error",
     "traceback": [
      "\u001b[1;31m---------------------------------------------------------------------------\u001b[0m",
      "\u001b[1;31mKeyError\u001b[0m                                  Traceback (most recent call last)",
      "\u001b[1;32m~\\Anaconda3\\lib\\site-packages\\pandas\\core\\indexes\\base.py\u001b[0m in \u001b[0;36mget_loc\u001b[1;34m(self, key, method, tolerance)\u001b[0m\n\u001b[0;32m   2656\u001b[0m             \u001b[1;32mtry\u001b[0m\u001b[1;33m:\u001b[0m\u001b[1;33m\u001b[0m\u001b[1;33m\u001b[0m\u001b[0m\n\u001b[1;32m-> 2657\u001b[1;33m                 \u001b[1;32mreturn\u001b[0m \u001b[0mself\u001b[0m\u001b[1;33m.\u001b[0m\u001b[0m_engine\u001b[0m\u001b[1;33m.\u001b[0m\u001b[0mget_loc\u001b[0m\u001b[1;33m(\u001b[0m\u001b[0mkey\u001b[0m\u001b[1;33m)\u001b[0m\u001b[1;33m\u001b[0m\u001b[1;33m\u001b[0m\u001b[0m\n\u001b[0m\u001b[0;32m   2658\u001b[0m             \u001b[1;32mexcept\u001b[0m \u001b[0mKeyError\u001b[0m\u001b[1;33m:\u001b[0m\u001b[1;33m\u001b[0m\u001b[1;33m\u001b[0m\u001b[0m\n",
      "\u001b[1;32mpandas/_libs/index.pyx\u001b[0m in \u001b[0;36mpandas._libs.index.IndexEngine.get_loc\u001b[1;34m()\u001b[0m\n",
      "\u001b[1;32mpandas/_libs/index.pyx\u001b[0m in \u001b[0;36mpandas._libs.index.IndexEngine.get_loc\u001b[1;34m()\u001b[0m\n",
      "\u001b[1;32mpandas/_libs/hashtable_class_helper.pxi\u001b[0m in \u001b[0;36mpandas._libs.hashtable.PyObjectHashTable.get_item\u001b[1;34m()\u001b[0m\n",
      "\u001b[1;32mpandas/_libs/hashtable_class_helper.pxi\u001b[0m in \u001b[0;36mpandas._libs.hashtable.PyObjectHashTable.get_item\u001b[1;34m()\u001b[0m\n",
      "\u001b[1;31mKeyError\u001b[0m: 'Product_Category_filtered'",
      "\nDuring handling of the above exception, another exception occurred:\n",
      "\u001b[1;31mKeyError\u001b[0m                                  Traceback (most recent call last)",
      "\u001b[1;32m<ipython-input-39-6105c39d6835>\u001b[0m in \u001b[0;36m<module>\u001b[1;34m\u001b[0m\n\u001b[1;32m----> 1\u001b[1;33m \u001b[0mli\u001b[0m \u001b[1;33m=\u001b[0m \u001b[0mdf\u001b[0m\u001b[1;33m[\u001b[0m\u001b[1;34m'Product_Category_filtered'\u001b[0m\u001b[1;33m]\u001b[0m\u001b[1;33m.\u001b[0m\u001b[0munique\u001b[0m\u001b[1;33m(\u001b[0m\u001b[1;33m)\u001b[0m\u001b[1;33m\u001b[0m\u001b[1;33m\u001b[0m\u001b[0m\n\u001b[0m",
      "\u001b[1;32m~\\Anaconda3\\lib\\site-packages\\pandas\\core\\frame.py\u001b[0m in \u001b[0;36m__getitem__\u001b[1;34m(self, key)\u001b[0m\n\u001b[0;32m   2925\u001b[0m             \u001b[1;32mif\u001b[0m \u001b[0mself\u001b[0m\u001b[1;33m.\u001b[0m\u001b[0mcolumns\u001b[0m\u001b[1;33m.\u001b[0m\u001b[0mnlevels\u001b[0m \u001b[1;33m>\u001b[0m \u001b[1;36m1\u001b[0m\u001b[1;33m:\u001b[0m\u001b[1;33m\u001b[0m\u001b[1;33m\u001b[0m\u001b[0m\n\u001b[0;32m   2926\u001b[0m                 \u001b[1;32mreturn\u001b[0m \u001b[0mself\u001b[0m\u001b[1;33m.\u001b[0m\u001b[0m_getitem_multilevel\u001b[0m\u001b[1;33m(\u001b[0m\u001b[0mkey\u001b[0m\u001b[1;33m)\u001b[0m\u001b[1;33m\u001b[0m\u001b[1;33m\u001b[0m\u001b[0m\n\u001b[1;32m-> 2927\u001b[1;33m             \u001b[0mindexer\u001b[0m \u001b[1;33m=\u001b[0m \u001b[0mself\u001b[0m\u001b[1;33m.\u001b[0m\u001b[0mcolumns\u001b[0m\u001b[1;33m.\u001b[0m\u001b[0mget_loc\u001b[0m\u001b[1;33m(\u001b[0m\u001b[0mkey\u001b[0m\u001b[1;33m)\u001b[0m\u001b[1;33m\u001b[0m\u001b[1;33m\u001b[0m\u001b[0m\n\u001b[0m\u001b[0;32m   2928\u001b[0m             \u001b[1;32mif\u001b[0m \u001b[0mis_integer\u001b[0m\u001b[1;33m(\u001b[0m\u001b[0mindexer\u001b[0m\u001b[1;33m)\u001b[0m\u001b[1;33m:\u001b[0m\u001b[1;33m\u001b[0m\u001b[1;33m\u001b[0m\u001b[0m\n\u001b[0;32m   2929\u001b[0m                 \u001b[0mindexer\u001b[0m \u001b[1;33m=\u001b[0m \u001b[1;33m[\u001b[0m\u001b[0mindexer\u001b[0m\u001b[1;33m]\u001b[0m\u001b[1;33m\u001b[0m\u001b[1;33m\u001b[0m\u001b[0m\n",
      "\u001b[1;32m~\\Anaconda3\\lib\\site-packages\\pandas\\core\\indexes\\base.py\u001b[0m in \u001b[0;36mget_loc\u001b[1;34m(self, key, method, tolerance)\u001b[0m\n\u001b[0;32m   2657\u001b[0m                 \u001b[1;32mreturn\u001b[0m \u001b[0mself\u001b[0m\u001b[1;33m.\u001b[0m\u001b[0m_engine\u001b[0m\u001b[1;33m.\u001b[0m\u001b[0mget_loc\u001b[0m\u001b[1;33m(\u001b[0m\u001b[0mkey\u001b[0m\u001b[1;33m)\u001b[0m\u001b[1;33m\u001b[0m\u001b[1;33m\u001b[0m\u001b[0m\n\u001b[0;32m   2658\u001b[0m             \u001b[1;32mexcept\u001b[0m \u001b[0mKeyError\u001b[0m\u001b[1;33m:\u001b[0m\u001b[1;33m\u001b[0m\u001b[1;33m\u001b[0m\u001b[0m\n\u001b[1;32m-> 2659\u001b[1;33m                 \u001b[1;32mreturn\u001b[0m \u001b[0mself\u001b[0m\u001b[1;33m.\u001b[0m\u001b[0m_engine\u001b[0m\u001b[1;33m.\u001b[0m\u001b[0mget_loc\u001b[0m\u001b[1;33m(\u001b[0m\u001b[0mself\u001b[0m\u001b[1;33m.\u001b[0m\u001b[0m_maybe_cast_indexer\u001b[0m\u001b[1;33m(\u001b[0m\u001b[0mkey\u001b[0m\u001b[1;33m)\u001b[0m\u001b[1;33m)\u001b[0m\u001b[1;33m\u001b[0m\u001b[1;33m\u001b[0m\u001b[0m\n\u001b[0m\u001b[0;32m   2660\u001b[0m         \u001b[0mindexer\u001b[0m \u001b[1;33m=\u001b[0m \u001b[0mself\u001b[0m\u001b[1;33m.\u001b[0m\u001b[0mget_indexer\u001b[0m\u001b[1;33m(\u001b[0m\u001b[1;33m[\u001b[0m\u001b[0mkey\u001b[0m\u001b[1;33m]\u001b[0m\u001b[1;33m,\u001b[0m \u001b[0mmethod\u001b[0m\u001b[1;33m=\u001b[0m\u001b[0mmethod\u001b[0m\u001b[1;33m,\u001b[0m \u001b[0mtolerance\u001b[0m\u001b[1;33m=\u001b[0m\u001b[0mtolerance\u001b[0m\u001b[1;33m)\u001b[0m\u001b[1;33m\u001b[0m\u001b[1;33m\u001b[0m\u001b[0m\n\u001b[0;32m   2661\u001b[0m         \u001b[1;32mif\u001b[0m \u001b[0mindexer\u001b[0m\u001b[1;33m.\u001b[0m\u001b[0mndim\u001b[0m \u001b[1;33m>\u001b[0m \u001b[1;36m1\u001b[0m \u001b[1;32mor\u001b[0m \u001b[0mindexer\u001b[0m\u001b[1;33m.\u001b[0m\u001b[0msize\u001b[0m \u001b[1;33m>\u001b[0m \u001b[1;36m1\u001b[0m\u001b[1;33m:\u001b[0m\u001b[1;33m\u001b[0m\u001b[1;33m\u001b[0m\u001b[0m\n",
      "\u001b[1;32mpandas/_libs/index.pyx\u001b[0m in \u001b[0;36mpandas._libs.index.IndexEngine.get_loc\u001b[1;34m()\u001b[0m\n",
      "\u001b[1;32mpandas/_libs/index.pyx\u001b[0m in \u001b[0;36mpandas._libs.index.IndexEngine.get_loc\u001b[1;34m()\u001b[0m\n",
      "\u001b[1;32mpandas/_libs/hashtable_class_helper.pxi\u001b[0m in \u001b[0;36mpandas._libs.hashtable.PyObjectHashTable.get_item\u001b[1;34m()\u001b[0m\n",
      "\u001b[1;32mpandas/_libs/hashtable_class_helper.pxi\u001b[0m in \u001b[0;36mpandas._libs.hashtable.PyObjectHashTable.get_item\u001b[1;34m()\u001b[0m\n",
      "\u001b[1;31mKeyError\u001b[0m: 'Product_Category_filtered'"
     ]
    }
   ],
   "source": [
    "li = df['Product_Category_filtered'].unique()"
   ]
  },
  {
   "cell_type": "code",
   "execution_count": 16,
   "metadata": {},
   "outputs": [
    {
     "ename": "ValueError",
     "evalue": "invalid literal for int() with base 10: 'CLASS-784'",
     "output_type": "error",
     "traceback": [
      "\u001b[1;31m---------------------------------------------------------------------------\u001b[0m",
      "\u001b[1;31mValueError\u001b[0m                                Traceback (most recent call last)",
      "\u001b[1;32m<ipython-input-16-dd6167d5e4c4>\u001b[0m in \u001b[0;36m<module>\u001b[1;34m\u001b[0m\n\u001b[0;32m      1\u001b[0m \u001b[0mintli\u001b[0m \u001b[1;33m=\u001b[0m \u001b[1;33m[\u001b[0m\u001b[1;33m]\u001b[0m\u001b[1;33m\u001b[0m\u001b[1;33m\u001b[0m\u001b[0m\n\u001b[0;32m      2\u001b[0m \u001b[1;32mfor\u001b[0m \u001b[0mi\u001b[0m \u001b[1;32min\u001b[0m \u001b[0mli\u001b[0m\u001b[1;33m:\u001b[0m\u001b[1;33m\u001b[0m\u001b[1;33m\u001b[0m\u001b[0m\n\u001b[1;32m----> 3\u001b[1;33m     \u001b[0mintli\u001b[0m\u001b[1;33m.\u001b[0m\u001b[0mappend\u001b[0m\u001b[1;33m(\u001b[0m\u001b[0mint\u001b[0m\u001b[1;33m(\u001b[0m\u001b[0mi\u001b[0m\u001b[1;33m)\u001b[0m\u001b[1;33m)\u001b[0m\u001b[1;33m\u001b[0m\u001b[1;33m\u001b[0m\u001b[0m\n\u001b[0m\u001b[0;32m      4\u001b[0m \u001b[0mli\u001b[0m\u001b[1;33m=\u001b[0m\u001b[1;33m[\u001b[0m\u001b[1;33m]\u001b[0m\u001b[1;33m\u001b[0m\u001b[1;33m\u001b[0m\u001b[0m\n\u001b[0;32m      5\u001b[0m \u001b[0mintli\u001b[0m \u001b[1;33m=\u001b[0m \u001b[0msorted\u001b[0m\u001b[1;33m(\u001b[0m\u001b[0mintli\u001b[0m\u001b[1;33m)\u001b[0m\u001b[1;33m\u001b[0m\u001b[1;33m\u001b[0m\u001b[0m\n",
      "\u001b[1;31mValueError\u001b[0m: invalid literal for int() with base 10: 'CLASS-784'"
     ]
    }
   ],
   "source": [
    "intli = []\n",
    "for i in li:\n",
    "    intli.append(int(i))\n",
    "li=[]\n",
    "intli = sorted(intli)\n",
    "for i in intli:\n",
    "    li.append(str(i))\n",
    "print(li)"
   ]
  },
  {
   "cell_type": "code",
   "execution_count": 164,
   "metadata": {},
   "outputs": [
    {
     "data": {
      "text/plain": [
       "<matplotlib.axes._subplots.AxesSubplot at 0x19ec9608e48>"
      ]
     },
     "execution_count": 164,
     "metadata": {},
     "output_type": "execute_result"
    },
    {
     "data": {
      "image/png": "[encoded data removed]",
      "text/plain": [
       "<Figure size 1490.4x739.44 with 1 Axes>"
      ]
     },
     "metadata": {},
     "output_type": "display_data"
    }
   ],
   "source": [
    "sns.set(rc={'figure.figsize':(20.7,10.27)})\n",
    "sns.countplot(x = \"Product_Category_filtered\", data=df,order=li)"
   ]
  },
  {
   "cell_type": "markdown",
   "metadata": {},
   "source": [
    "### Observation\n",
    "> the data is biased as can be seen, the data for product category 569, 323, 75,177 etc are in majority. because of which we will get biased results.\n"
   ]
  },
  {
   "cell_type": "code",
   "execution_count": 92,
   "metadata": {},
   "outputs": [],
   "source": [
    "#df.groupby('Product_Category_filtered').head()"
   ]
  },
  {
   "cell_type": "code",
   "execution_count": 17,
   "metadata": {},
   "outputs": [
    {
     "name": "stdout",
     "output_type": "stream",
     "text": [
      "<class 'pandas.core.frame.DataFrame'>\n",
      "Int64Index: 8011 entries, 0 to 2291\n",
      "Data columns (total 9 columns):\n",
      "GL_Code                 8011 non-null object\n",
      "Inv_Amt                 8011 non-null float64\n",
      "Inv_Id                  8011 non-null int64\n",
      "Product_Category        5719 non-null object\n",
      "Vendor_Code_filtered    8011 non-null object\n",
      "Comp_Name               8011 non-null object\n",
      "Month                   8011 non-null object\n",
      "Year                    8011 non-null object\n",
      "Group                   8011 non-null object\n",
      "dtypes: float64(1), int64(1), object(7)\n",
      "memory usage: 625.9+ KB\n"
     ]
    }
   ],
   "source": [
    "df.info()"
   ]
  },
  {
   "cell_type": "code",
   "execution_count": 19,
   "metadata": {},
   "outputs": [
    {
     "data": {
      "text/plain": [
       "(38, 38)"
      ]
     },
     "execution_count": 19,
     "metadata": {},
     "output_type": "execute_result"
    }
   ],
   "source": [
    "df['Product_Category'].nunique(), df['Group'].nunique()"
   ]
  },
  {
   "cell_type": "code",
   "execution_count": 21,
   "metadata": {},
   "outputs": [],
   "source": [
    "l11 = df['Group']\n",
    "l12 = df['Product_Category']\n",
    "li3 = l11+\" \"+l12"
   ]
  },
  {
   "cell_type": "code",
   "execution_count": 22,
   "metadata": {},
   "outputs": [
    {
     "data": {
      "text/plain": [
       "39"
      ]
     },
     "execution_count": 22,
     "metadata": {},
     "output_type": "execute_result"
    }
   ],
   "source": [
    "len(set(li3))"
   ]
  },
  {
   "cell_type": "code",
   "execution_count": 23,
   "metadata": {},
   "outputs": [
    {
     "ename": "ValueError",
     "evalue": "cannot index with vector containing NA / NaN values",
     "output_type": "error",
     "traceback": [
      "\u001b[1;31m---------------------------------------------------------------------------\u001b[0m",
      "\u001b[1;31mValueError\u001b[0m                                Traceback (most recent call last)",
      "\u001b[1;32m<ipython-input-23-b4ce82b21448>\u001b[0m in \u001b[0;36m<module>\u001b[1;34m\u001b[0m\n\u001b[1;32m----> 1\u001b[1;33m \u001b[1;32mfor\u001b[0m \u001b[0mi\u001b[0m \u001b[1;32min\u001b[0m \u001b[0mdf\u001b[0m\u001b[1;33m[\u001b[0m\u001b[0mdf\u001b[0m\u001b[1;33m[\u001b[0m\u001b[1;34m'Product_Category'\u001b[0m\u001b[1;33m]\u001b[0m\u001b[1;33m.\u001b[0m\u001b[0mstr\u001b[0m\u001b[1;33m.\u001b[0m\u001b[0mcontains\u001b[0m\u001b[1;33m(\u001b[0m\u001b[1;34m\"784\"\u001b[0m\u001b[1;33m)\u001b[0m\u001b[1;33m]\u001b[0m\u001b[1;33m[\u001b[0m\u001b[1;34m'Group'\u001b[0m\u001b[1;33m]\u001b[0m\u001b[1;33m:\u001b[0m\u001b[1;33m\u001b[0m\u001b[1;33m\u001b[0m\u001b[0m\n\u001b[0m\u001b[0;32m      2\u001b[0m     \u001b[0mprint\u001b[0m\u001b[1;33m(\u001b[0m\u001b[0mi\u001b[0m\u001b[1;33m)\u001b[0m\u001b[1;33m\u001b[0m\u001b[1;33m\u001b[0m\u001b[0m\n",
      "\u001b[1;32m~\\Anaconda3\\lib\\site-packages\\pandas\\core\\frame.py\u001b[0m in \u001b[0;36m__getitem__\u001b[1;34m(self, key)\u001b[0m\n\u001b[0;32m   2915\u001b[0m \u001b[1;33m\u001b[0m\u001b[0m\n\u001b[0;32m   2916\u001b[0m         \u001b[1;31m# Do we have a (boolean) 1d indexer?\u001b[0m\u001b[1;33m\u001b[0m\u001b[1;33m\u001b[0m\u001b[1;33m\u001b[0m\u001b[0m\n\u001b[1;32m-> 2917\u001b[1;33m         \u001b[1;32mif\u001b[0m \u001b[0mcom\u001b[0m\u001b[1;33m.\u001b[0m\u001b[0mis_bool_indexer\u001b[0m\u001b[1;33m(\u001b[0m\u001b[0mkey\u001b[0m\u001b[1;33m)\u001b[0m\u001b[1;33m:\u001b[0m\u001b[1;33m\u001b[0m\u001b[1;33m\u001b[0m\u001b[0m\n\u001b[0m\u001b[0;32m   2918\u001b[0m             \u001b[1;32mreturn\u001b[0m \u001b[0mself\u001b[0m\u001b[1;33m.\u001b[0m\u001b[0m_getitem_bool_array\u001b[0m\u001b[1;33m(\u001b[0m\u001b[0mkey\u001b[0m\u001b[1;33m)\u001b[0m\u001b[1;33m\u001b[0m\u001b[1;33m\u001b[0m\u001b[0m\n\u001b[0;32m   2919\u001b[0m \u001b[1;33m\u001b[0m\u001b[0m\n",
      "\u001b[1;32m~\\Anaconda3\\lib\\site-packages\\pandas\\core\\common.py\u001b[0m in \u001b[0;36mis_bool_indexer\u001b[1;34m(key)\u001b[0m\n\u001b[0;32m    122\u001b[0m             \u001b[1;32mif\u001b[0m \u001b[1;32mnot\u001b[0m \u001b[0mlib\u001b[0m\u001b[1;33m.\u001b[0m\u001b[0mis_bool_array\u001b[0m\u001b[1;33m(\u001b[0m\u001b[0mkey\u001b[0m\u001b[1;33m)\u001b[0m\u001b[1;33m:\u001b[0m\u001b[1;33m\u001b[0m\u001b[1;33m\u001b[0m\u001b[0m\n\u001b[0;32m    123\u001b[0m                 \u001b[1;32mif\u001b[0m \u001b[0misna\u001b[0m\u001b[1;33m(\u001b[0m\u001b[0mkey\u001b[0m\u001b[1;33m)\u001b[0m\u001b[1;33m.\u001b[0m\u001b[0many\u001b[0m\u001b[1;33m(\u001b[0m\u001b[1;33m)\u001b[0m\u001b[1;33m:\u001b[0m\u001b[1;33m\u001b[0m\u001b[1;33m\u001b[0m\u001b[0m\n\u001b[1;32m--> 124\u001b[1;33m                     \u001b[1;32mraise\u001b[0m \u001b[0mValueError\u001b[0m\u001b[1;33m(\u001b[0m\u001b[0mna_msg\u001b[0m\u001b[1;33m)\u001b[0m\u001b[1;33m\u001b[0m\u001b[1;33m\u001b[0m\u001b[0m\n\u001b[0m\u001b[0;32m    125\u001b[0m                 \u001b[1;32mreturn\u001b[0m \u001b[1;32mFalse\u001b[0m\u001b[1;33m\u001b[0m\u001b[1;33m\u001b[0m\u001b[0m\n\u001b[0;32m    126\u001b[0m             \u001b[1;32mreturn\u001b[0m \u001b[1;32mTrue\u001b[0m\u001b[1;33m\u001b[0m\u001b[1;33m\u001b[0m\u001b[0m\n",
      "\u001b[1;31mValueError\u001b[0m: cannot index with vector containing NA / NaN values"
     ]
    }
   ],
   "source": [
    "for i in df[df['Product_Category_filtered'].str.contains(\"784\")]['Group']:\n",
    "    print(i)"
   ]
  },
  {
   "cell_type": "code",
   "execution_count": 45,
   "metadata": {},
   "outputs": [],
   "source": []
  },
  {
   "cell_type": "code",
   "execution_count": null,
   "metadata": {},
   "outputs": [],
   "source": [
    "cv_params = {'max_depth': [3,5,7], 'min_child_weight': [1,3,5]}\n",
    "ind_params = {'learning_rate': 0.1, 'n_estimators': 10, 'seed':0, 'subsample': 0.8, 'colsample_bytree': 0.8, \n",
    "             'objective': 'multi:softmax'}\n",
    "optimized_GBM = GridSearchCV(xgb.XGBClassifier(**ind_params), \n",
    "                            cv_params, \n",
    "                             scoring = 'accuracy', cv = 10, n_jobs = -1)"
   ]
  },
  {
   "cell_type": "code",
   "execution_count": 69,
   "metadata": {},
   "outputs": [
    {
     "name": "stdout",
     "output_type": "stream",
     "text": [
      "['Inv_Amt', 'GL_Code_GL-2182000', 'GL_Code_GL-6020600', 'GL_Code_GL-6050100', 'GL_Code_GL-6050310', 'GL_Code_GL-6060100', 'GL_Code_GL-6100410', 'GL_Code_GL-6100500', 'GL_Code_GL-6101400', 'GL_Code_GL-6121905', 'Comp_Name_1838 BOND DEBENTURE TRADING FUND ', 'Comp_Name_1ST SOURCE CORP ', 'Comp_Name_A. G. EDWARDS & SONS, INC. ', 'Comp_Name_AAR CORP ', 'Comp_Name_AB BOND FUND, INC. ', 'Comp_Name_AB DISCOVERY GROWTH FUND, INC. ', 'Comp_Name_AB GROWTH & INCOME FUND INC ', 'Comp_Name_AB LIQUIDATING CORP ', 'Comp_Name_ABBOTT LABORATORIES ', 'Comp_Name_ABCO INC ', 'Comp_Name_ABEL NOSER CORP /BD ', 'Comp_Name_ABERCROMBIE & FITCH CO ', 'Comp_Name_ABERDEEN IDAHO MINING CO ', 'Comp_Name_ABRAHAM & CO INC /BD ', 'Comp_Name_ABRAMS INDUSTRIES INC ', 'Comp_Name_ABRAMS, ALLAN EDWARD ', 'Comp_Name_ABT ASSOCIATES INC ', 'Comp_Name_ACACIA NATIONAL LIFE INSURANCE CO ', 'Comp_Name_ACADEMIC COMPUTER SYSTEMS INC ', 'Comp_Name_ACCEL INTERNATIONAL CORP ', 'Comp_Name_ACCESS CORP ', 'Comp_Name_ACCRUED EQUITIES INC. ', 'Comp_Name_ACE HARDWARE CORP ', 'Comp_Name_ACETO CORP ', 'Comp_Name_ACF INDUSTRIES INC ', 'Comp_Name_ACMAT CORP ', 'Comp_Name_ACMC INC ', 'Comp_Name_ACME CLEVELAND CORP ', 'Comp_Name_ACME ELECTRIC CORP ', 'Comp_Name_ACME ELECTRIC CORP EMPLOYEE STOCK PURCHASE PLAN ', 'Comp_Name_ACME METALS INC /DE/ ', 'Comp_Name_ACME UNITED CORP ', 'Comp_Name_ACORN INVESTMENT TRUST ', 'Comp_Name_ACTERNA CORP ', 'Comp_Name_ACTION INDUSTRIES INC ', 'Comp_Name_ACTIVA MUTUAL FUND TRUST ', 'Comp_Name_ACTUANT CORP ', 'Comp_Name_ADAGE INC ', 'Comp_Name_ADAMS DIVERSIFIED EQUITY FUND, INC. ', 'Comp_Name_ADAMS RESOURCES & ENERGY INC ', 'Comp_Name_ADDMASTER CORP ', 'Comp_Name_ADMINISTRATIVE DATA MANAGEMENT CORP /TA ', 'Comp_Name_ADMINISTRATIVE SYSTEMS INC ', 'Comp_Name_ADVANCE CIRCUITS INC ', 'Comp_Name_ADVANCE ROSS CORP ', 'Comp_Name_ADVANCED COMPUTER TECHNIQUES CORP ', 'Comp_Name_ADVANCED DIGITAL SYSTEMS INC ', 'Comp_Name_ADVANCED MICRO DEVICES INC ', 'Comp_Name_ADVANTAGE CAPITAL CORP /BD ', 'Comp_Name_ADVANZEON SOLUTIONS, INC. ', 'Comp_Name_AEI SECURITIES INC /BD ', 'Comp_Name_AEIRE CORP ', 'Comp_Name_AEL INDUSTRIES INC ', 'Comp_Name_AELTUS INVESTMENT MANAGEMENT INC ', 'Comp_Name_AEP TEXAS CENTRAL CO ', 'Comp_Name_AERO SYSTEMS ENGINEERING INC ', 'Comp_Name_AEROFLEX INC ', 'Comp_Name_AEROSONIC CORP /FL/ ', 'Comp_Name_AEROTELESIS INC ', 'Comp_Name_AEROVOX CORP ', 'Comp_Name_AETNA INCOME SHARES ', 'Comp_Name_AETNA LIFE & CASUALTY CO ', 'Comp_Name_AETNA VARIABLE ENCORE FUND INC ', 'Comp_Name_AETNA VARIABLE FUND ', 'Comp_Name_AFA PROTECTIVE SYSTEMS INC ', 'Comp_Name_AFFILIATED COMPUTER SERVICES INC ', 'Comp_Name_AFFILIATED FUND INC ', 'Comp_Name_AFLAC INC ', 'Comp_Name_AFLAC PLC ', 'Comp_Name_AFRIKANDER LEASE LIMITED /ADR/ ', 'Comp_Name_AFRIKANDER LEASE LTD /ADR/ ', 'Comp_Name_AGE HIGH INCOME FUND INC ', 'Comp_Name_AGF INVESTMENT CORP /BD ', 'Comp_Name_AGF SECURITIES INC /BD ', 'Comp_Name_AGL SEPARATE ACCOUNT A ', 'Comp_Name_AGNICO EAGLE MINES , LTD. ', 'Comp_Name_AGNICO EAGLE MINES LTD ', 'Comp_Name_AGNICO EAGLE MINES LTD. ', 'Comp_Name_AGRI DYNAMICS INC ', 'Comp_Name_AGRICULTURAL EQUIPMENT CORP ', 'Comp_Name_AGRILINK FOODS INC ', 'Comp_Name_AGWAY INC ', 'Comp_Name_AIC INTERNATIONAL INC ', 'Comp_Name_AIG EQUITY SALES CORP. ', 'Comp_Name_AIG SUNAMERICA LIFE ASSURANCE CO ', 'Comp_Name_AIM FUNDS GROUP (INVESCO FUNDS GROUP) ', 'Comp_Name_AINSBROOKE CORP ', 'Comp_Name_AIR PRODUCTS & CHEMICALS INC /DE/ ', 'Comp_Name_AIRBORNE FREIGHT CORP /DE/ ', 'Comp_Name_AIRTEX PRODUCTS INC ', 'Comp_Name_AKORN INC ', 'Comp_Name_AKZO NOBEL NV ', 'Comp_Name_ALABAMA GAS CORP ', 'Comp_Name_ALABAMA POWER CO ', 'Comp_Name_ALABAMA TELEPHONE CO INC ', 'Comp_Name_ALABAMA TEXTILE PRODUCTS CORP ', 'Comp_Name_ALASKA AIRLINES INC ', 'Comp_Name_ALASKA GOLD CO ', 'Comp_Name_ALASKA POWER & TELEPHONE CO ', 'Comp_Name_ALBA WALDENSIAN INC ', 'Comp_Name_ALBANY INTERNATIONAL CORP /NY/ ', 'Comp_Name_ALBERTO CULVER CO ', 'Comp_Name_ALBERTSONS INC /DE/ ', 'Comp_Name_ALCAN ALUMINIUM LTD /NEW ', 'Comp_Name_ALCO STANDARD CORP ', 'Comp_Name_ALCO STORES INC ', 'Comp_Name_ALCOA INC. ', 'Comp_Name_ALENICK JEROME B ', 'Comp_Name_ALEXANDER & ALEXANDER SERVICES INC ', 'Comp_Name_ALEXANDER & BALDWIN INC ', 'Comp_Name_ALEXANDER INVESTMENT SERVICES CO. ', 'Comp_Name_ALEXANDERS INC ', 'Comp_Name_ALFA LEISURE INC ', 'Comp_Name_ALGER FRED MANAGEMENT INC ', 'Comp_Name_ALGER FUND ', 'Comp_Name_ALGONQUIN GAS TRANSMISSION CO ', 'Comp_Name_ALGOREX CORP ', 'Comp_Name_ALICO INC ', 'Comp_Name_ALKON INDUSTRIES INC ', 'Comp_Name_ALL AMERICAN ASSURANCE CO ', 'Comp_Name_ALL AMERICAN GROUP INC ', 'Comp_Name_ALL FUNDS INC /BD ', 'Comp_Name_ALLCITY INSURANCE CO /NY/ ', 'Comp_Name_ALLCOMM MEDIA CORP ', 'Comp_Name_ALLECO INC ', 'Comp_Name_ALLEGHENY & WESTERN RAILWAY CO ', 'Comp_Name_ALLEGHENY ENERGY INC ', 'Comp_Name_ALLEN & CO INC /BD ', 'Comp_Name_ALLEN & CO PLC /BD ', 'Comp_Name_ALLEN ETHAN INC ', 'Comp_Name_ALLEN GROUP INC ', 'Comp_Name_ALLEN ORGAN CO ', 'Comp_Name_ALLIANCE GAMING CORP ', 'Comp_Name_ALLIED CAPITAL CORP ', 'Comp_Name_ALLIED CAPITAL CORP/OLD ', 'Comp_Name_ALLIED DEFENSE GROUP INC ', 'Comp_Name_ALLIED FARM EQUIPMENT INC 1975 QUALIFIED STOCK OPTION PLAN ', 'Comp_Name_ALLIED INVESTMENT CORP ', 'Comp_Name_ALLIED PRODUCTS CORP /DE/ ', 'Comp_Name_ALLIED TUBE & CONDUIT CORP ', 'Comp_Name_ALLIED VAN LINES INC ', 'Comp_Name_ALLIS CHALMERS CORP ', 'Comp_Name_ALLISON M E & CO INC/TX /BD ', 'Comp_Name_ALLISON WILLIAMS CO /BD ', 'Comp_Name_ALPHA INDUSTRIES INC ', 'Comp_Name_ALPINE GROUP INC /DE/ ', 'Comp_Name_ALTOBELLI RICHARD JOSEPH /BD ', 'Comp_Name_ALTOONA & LOGAN VALLEY ELECTRIC RAILWAY ', 'Comp_Name_ALUMINUM & CHEMICAL CORP ', 'Comp_Name_ALZA CORP ', 'Comp_Name_AM INTERNATIONAL INC ', 'Comp_Name_AMACAN RESOURCES CORP ', 'Comp_Name_AMALGAMATED AUTOMOTIVE INDUSTRIES INC ', 'Comp_Name_AMANA SOCIETY INC ', 'Comp_Name_AMAX INC /NY/ ', 'Comp_Name_AMBASE CORP ', 'Comp_Name_AMBASSADOR FOOD SERVICES CORP ', 'Comp_Name_AMCAP FUND INC ', 'Comp_Name_AMCAST INDUSTRIAL CORP ', 'Comp_Name_AMCOMP INC ', 'Comp_Name_AMCORD INC ', 'Comp_Name_AMDAHL CORP ', 'Comp_Name_AMDURA CORP ', 'Comp_Name_AMELCO CORP ', 'Comp_Name_AMERAC ENERGY CORP ', 'Comp_Name_AMERACE CORP 1967 QUAL STK OPT PL & 1972 QUALNONQUAL STK O ', 'Comp_Name_AMERADA HESS CORP ', 'Comp_Name_AMERCO /NV/ ', 'Comp_Name_AMEREN ILLINOIS CO ', 'Comp_Name_AMERICA & ISRAEL GROWTH FUND INC ', 'Comp_Name_AMERICA CAPITAL CORP ', 'Comp_Name_AMERICAN AIRLINES GROUP INC. ', 'Comp_Name_AMERICAN AIRLINES INC ', 'Comp_Name_AMERICAN ALLOY CORP ', 'Comp_Name_AMERICAN AUTOMOTIVE CORP ', 'Comp_Name_AMERICAN BALANCED FUND INC ', 'Comp_Name_AMERICAN BANCORPORATION /OH/ ', 'Comp_Name_AMERICAN BANCSERVICES INC TA /TA ', 'Comp_Name_AMERICAN BANKERS INSURANCE CO OF FLORIDA ', 'Comp_Name_AMERICAN BILTRITE INC ', 'Comp_Name_AMERICAN BUILDINGS CORP. ', 'Comp_Name_AMERICAN BUSINESS PRODUCTS INC ', 'Comp_Name_AMERICAN CAPITAL BOND FUND INC ', 'Comp_Name_AMERICAN CAPITAL CONVERTIBLE SECURITIES INC /TX ', 'Comp_Name_AMERICAN CAPITAL EMERGING GROWTH FUND INC ', 'Comp_Name_AMERICAN CAPITAL ENTERPRISE FUND INC ', 'Comp_Name_AMERICAN CAPITAL EXCHANGE FUND ', 'Comp_Name_AMERICAN CAPITAL RESERVE FUND INC ', 'Comp_Name_AMERICAN CATTLE CO ', 'Comp_Name_AMERICAN CENTURY CAPITAL PRESERVATION FUND INC ', 'Comp_Name_AMERICAN CONSUMERS INC ', 'Comp_Name_AMERICAN CRYSTAL SUGAR CO /MN/ ', 'Comp_Name_AMERICAN CYANAMID CO ', 'Comp_Name_AMERICAN CYTOGENETICS INC ', 'Comp_Name_AMERICAN ELECTRIC POWER CO INC ', 'Comp_Name_AMERICAN ENTERPRISE DEVELOPMENT CORP ', 'Comp_Name_AMERICAN EXPRESS CO ', 'Comp_Name_AMERICAN EXPRESS CREDIT CORP ', 'Comp_Name_AMERICAN FABRICATORS INC ', 'Comp_Name_AMERICAN FAMILY LIFE INSURANCE CO /WI ', 'Comp_Name_AMERICAN FIDELITY ASSURANCE CO /ADV ', 'Comp_Name_AMERICAN FIDELITY CORP ', 'Comp_Name_AMERICAN FIDELITY SECURITIES, INC. ', 'Comp_Name_AMERICAN FIDELITY SEPARATE ACCOUNT A ', 'Comp_Name_AMERICAN FILTRONA CORP ', 'Comp_Name_AMERICAN FINANCIAL CORP ', 'Comp_Name_AMERICAN FUNDS & TRUSTS INC /BD ', 'Comp_Name_AMERICAN FUNDS SERVICE CO /TA ', 'Comp_Name_AMERICAN GENERAL CORP /TX/ ', 'Comp_Name_AMERICAN GENERAL FINANCE CORP ', 'Comp_Name_AMERICAN GENERAL FINANCE INC ', 'Comp_Name_AMERICAN GENERAL LIFE INSURANCE CO ', 'Comp_Name_AMERICAN GEOLOGICAL ENTERPRISES INC ', 'Comp_Name_AMERICAN GREETINGS CORP ', 'Comp_Name_AMERICAN GROWTH FUND INC ', 'Comp_Name_AMERICAN GROWTH FUND SPONSORS, INC. ', 'Comp_Name_AMERICAN GROWTH FUND SPONSORS, PLC. ', 'Comp_Name_AMERICAN HERITAGE LIFE INVESTMENT CORP ', 'Comp_Name_AMERICAN HOME ASSURANCE CO ', 'Comp_Name_AMERICAN HOME PRODUCTS CORP ', 'Comp_Name_AMERICAN HOSPITAL MANAGEMENT CORP ', 'Comp_Name_AMERICAN HOUSING PARTNERS ', 'Comp_Name_AMERICAN INCOME FUND INC ', 'Comp_Name_AMERICAN INDEMNITY FINANCIAL CORP ', 'Comp_Name_AMERICAN INSURANCE UNION BUILDING FIRST BONDHOLDERS COMMITTE ', 'Comp_Name_AMERICAN INTERNATIONAL GROUP INC ', 'Comp_Name_AMERICAN INTERNATIONAL VENTURES INC /DE/ ', 'Comp_Name_AMERICAN ISRAELI PAPER MILLS LIMITED ', 'Comp_Name_AMERICAN LEADERS FUND INC ', 'Comp_Name_AMERICAN LIBERTY FINANCIAL CORP ', 'Comp_Name_AMERICAN LIST CORP ', 'Comp_Name_AMERICAN LOCKER GROUP INC ', 'Comp_Name_AMERICAN MAIZE PRODUCTS CO ', 'Comp_Name_AMERICAN MEDICO INC ', 'Comp_Name_AMERICAN MORTGAGE & INVESTMENT CO ', 'Comp_Name_AMERICAN MUTUAL FUND INC ', 'Comp_Name_AMERICAN MUTUAL FUNDS SERVICE INC ', 'Comp_Name_AMERICAN NATIONAL GROWTH FUND INC ', 'Comp_Name_AMERICAN NATIONAL INCOME FUND INC ', 'Comp_Name_AMERICAN NUCLEAR CORP ', 'Comp_Name_AMERICAN PAD & PAPER CO ', 'Comp_Name_AMERICAN PRECISION INDUSTRIES INC ', 'Comp_Name_AMERICAN RECREATION CENTERS INC ', 'Comp_Name_AMERICAN REGISTRAR & TRANSFER CO /TA ', 'Comp_Name_AMERICAN SCIENCE & ENGINEERING INC ', 'Comp_Name_AMERICAN SECURITIES BD CO., L.P. ', 'Comp_Name_AMERICAN SECURITIES INVESTMENT CO ', 'Comp_Name_AMERICAN SHIP BUILDING CO ', 'Comp_Name_AMERICAN STANDARD INC ', 'Comp_Name_AMERICAN STATES INSURANCE CO ', 'Comp_Name_AMERICAN STOCK TRANSFER & TRUST CO /TA ', 'Comp_Name_AMERICAN TELEPHONE & TELEGRAPH CO ', 'Comp_Name_AMERICAN TELEVISION & COMMUNICATIONS CORP ', 'Comp_Name_AMERICAN URANIUM CORP ', 'Comp_Name_AMERICAN VANGUARD CORP ', 'Comp_Name_AMERICANA FUND INC ', 'Comp_Name_AMERON INC ', 'Comp_Name_AMERON PLC ', 'Comp_Name_AMES DEPARTMENT STORES INC ', 'Comp_Name_AMES HARRY G ', 'Comp_Name_AMETECH INC ', 'Comp_Name_AMETEK INC ', 'Comp_Name_AMHN, INC. ', 'Comp_Name_AMI INDUSTRIES INC ', 'Comp_Name_AMOSKEAG CO ', 'Comp_Name_AMP INC ', 'Comp_Name_AMPCO PITTSBURGH CORP ', 'Comp_Name_AMPEX CORP ', 'Comp_Name_AMREP CORP. ', 'Comp_Name_AMSOUTH BANCORPORATION ', 'Comp_Name_AMSTED INDUSTRIES INC /DE/ ', 'Comp_Name_AMVESTORS FINANCIAL CORP ', 'Comp_Name_AMVESTORS INVESTMENT GROUP INC /BD ', 'Comp_Name_ANACOMP INC ', 'Comp_Name_ANALOG DEVICES INC ', 'Comp_Name_ANALOGIC CORP ', 'Comp_Name_ANALYSTS INTERNATIONAL CORP ', 'Comp_Name_ANAREN INC ', 'Comp_Name_ANCHOR CAPITAL ACCUMULATION TRUST ', 'Comp_Name_ANDERSEN GROUP INC ', 'Comp_Name_ANDERSON & STRUDWICK, INCORPORATED ', 'Comp_Name_ANDERSON COOK CO INC ', 'Comp_Name_ANDERSON INDUSTRIES INC ', 'Comp_Name_ANDERSONS ', 'Comp_Name_ANDREA ELECTRONICS CORP ', 'Comp_Name_ANDREW COUNTY AMERICAN LEGION MEMORIAL P ', 'Comp_Name_ANGELICA CORP /NEW/ ', 'Comp_Name_ANGELOFF CO /BD ', 'Comp_Name_ANHEUSER BUSCH INC ', 'Comp_Name_ANNAPOLIS INDUSTRIAL LOAN CO ', 'Comp_Name_ANOROC PRODUCTS INC ', 'Comp_Name_ANTHONY C D CO ', 'Comp_Name_ANTHONY C R CO ', 'Comp_Name_ANTHONY INDUSTRIES INC ', 'Comp_Name_ANTHONY INDUSTRIES INC. ', 'Comp_Name_ANTICLINE URANIUM INC ', 'Comp_Name_APACHE CORP ', 'Comp_Name_APOGEE ENTERPRISES INC ', 'Comp_Name_APPALACHIAN POWER CO ', 'Comp_Name_APPAREL AMERICA INC ', 'Comp_Name_APPAREL RETAILERS INC ', 'Comp_Name_APPLIED MAGNETICS CORP ', 'Comp_Name_APPLIED MATERIALS INC /DE ', 'Comp_Name_APPLIED MINERALS, INC. ', 'Comp_Name_AQUA CHEM INC ', 'Comp_Name_AQUILA DISTRIBUTORS INC /BD ', 'Comp_Name_ARA SERVICES INC ', 'Comp_Name_ARABIAN AMERICAN DEVELOPMENT CO ', 'Comp_Name_ARBATAX INTERNATIONAL INC ', 'Comp_Name_ARBOR INC ', 'Comp_Name_ARCHER DANIELS MIDLAND CO ', 'Comp_Name_ARCHON INC ', 'Comp_Name_ARGENTINA REPUBLIC OF ', 'Comp_Name_ARGON ST, INC. ', 'Comp_Name_ARGONAUT ENERGY CORP ', 'Comp_Name_ARGUS INVESTORS COUNSEL INC ', 'Comp_Name_ARISTAR INC ', 'Comp_Name_ARIZONA HELICOPTER SERVICE GUARANTOR ', 'Comp_Name_ARIZONA PUBLIC SERVICE CO ', 'Comp_Name_ARK BAKERS INC ', 'Comp_Name_ARKANSAS BEST HOLDINGS CORP /DE/ ', 'Comp_Name_ARKANSAS POWER & LIGHT CO ', 'Comp_Name_ARKLA INC ', 'Comp_Name_ARKWIN INDUSTRIES INC ', 'Comp_Name_ARLEN CORP ', 'Comp_Name_ARLISS PLASTICS CORP ', 'Comp_Name_ARMATRON INTERNATIONAL INC ', 'Comp_Name_ARMCO INC ', 'Comp_Name_ARMSTRONG ASSOCIATES INC ', 'Comp_Name_ARMSTRONG MANUFACTURING CO ', 'Comp_Name_ARMSTRONG WORLD INDUSTRIES INC ', 'Comp_Name_ARNHOLD & S BLEICHROEDER , INC. /BD ', 'Comp_Name_ARNHOLD & S BLEICHROEDER INC /BD ', 'Comp_Name_ARROW AUTOMOTIVE INDUSTRIES INC ', 'Comp_Name_ARROW ELECTRONICS , INC. ', 'Comp_Name_ARROW ELECTRONICS INC ', 'Comp_Name_ARROW ELECTRONICS PLC ', 'Comp_Name_ARTESYN TECHNOLOGIES INC ', 'Comp_Name_ARTISTIC GREETINGS INC ', 'Comp_Name_ARTS WAY MANUFACTURING CO INC ', 'Comp_Name_ARVIN INDUSTRIES INC ', 'Comp_Name_ASA LTD ', 'Comp_Name_ASA LTD. ', 'Comp_Name_ASAHI GLASS CO LTD/ADR/ ', 'Comp_Name_ASARCO INC ', 'Comp_Name_ASHLAND INC ', 'Comp_Name_ASHLAND PLC ', 'Comp_Name_ASHTON HARRIS J ', 'Comp_Name_ASI TECHNOLOGY CORP ', 'Comp_Name_ASIA SUPERNET CORP ', 'Comp_Name_ASSET PLANNING CORPORATION ', 'Comp_Name_ASSOCIATED BANCCORP ', 'Comp_Name_ASSOCIATED DRY GOODS CORP 1969 QUALIFIED ', 'Comp_Name_ASSOCIATED FINANCIAL SERVICES INC /BD ', 'Comp_Name_ASSOCIATED FINANCIAL SERVICES INC. /BD ', 'Comp_Name_ASSOCIATED INVESTMENT SERVICES, INC. ', 'Comp_Name_ASSOCIATES CORPORATION OF NORTH AMERICA ', 'Comp_Name_ASSOCIATES FIRST CAPITAL CORP ', 'Comp_Name_ASSURANCEAMERICA CORP ', 'Comp_Name_ASTREX INC. ', 'Comp_Name_ASTRO MED INC /NEW/ ', 'Comp_Name_ASTRONICS CORP ', 'Comp_Name_ASTROSYSTEMS INC ', 'Comp_Name_ASTUTE INVESTORS CORP /BD ', 'Comp_Name_ATCHISON TOPEKA & SANTA FE RAILWAY CO ', 'Comp_Name_ATHEY PRODUCTS CORP ', 'Comp_Name_ATHLONE INDUSTRIES INC ', 'Comp_Name_ATKINSON GUY F CO OF CALIFORNIA ', 'Comp_Name_ATLANTA GAS LIGHT CO ', 'Comp_Name_ATLANTA MOTOR SPEEDWAY INC ', 'Comp_Name_ATLANTIC AMERICAN CORP ', 'Comp_Name_ATLANTIC CITY ELECTRIC CO ', 'Comp_Name_ATLANTIS INTERNATIONAL CORP ', 'Comp_Name_ATLAS CONSOLIDATED MINING & DEVELOPMENT CORP ', 'Comp_Name_ATLAS CORP ', 'Comp_Name_ATLAS STOCK TRANSFER CORP /TA ', 'Comp_Name_ATWOOD OCEANICS INC ', 'Comp_Name_ATWOOD OCEANICS INC QUALIFIED STOCK OPTION PLANS ', 'Comp_Name_AUGAT INC ', 'Comp_Name_AUL AMERICAN LIFE POOLED EQUITY FUND B ', 'Comp_Name_AURORA CORP ', 'Comp_Name_AUTHENTICOLOR , INC. ', 'Comp_Name_AUTHENTICOLOR INC ', 'Comp_Name_AUTHENTICOLOR INC. ', 'Comp_Name_AUTO GRAPHICS INC ', 'Comp_Name_AUTOMATIC DATA PROCESSING INC ', 'Comp_Name_AUTOMATION INTERNATIONAL INC ', 'Comp_Name_AUTOTRONIC SYSTEMS INC ', 'Comp_Name_AVALON CORP ', 'Comp_Name_AVALON INVESTMENT & SECURITIES GROUP INC /BD ', 'Comp_Name_AVCO FINANCIAL SERVICES INC ', 'Comp_Name_AVEMCO CORP ', 'Comp_Name_AVERY DENNISON CORP ', 'Comp_Name_AVNET INC ', 'Comp_Name_AVON OVERSEAS CAPITAL CORP ', 'Comp_Name_AVON PRODUCTS INC ', 'Comp_Name_AXA ADVISORS, LLC ', 'Comp_Name_AXIA INC ', 'Comp_Name_AYDIN CORP ', 'Comp_Name_AZTEC EQUITIES CORP ', 'Comp_Name_AZTEC MANUFACTURING CO ', 'Comp_Name_BABSON CAPITAL MANAGEMENT LLC ', 'Comp_Name_BABSON D L BOND TRUST ', 'Comp_Name_BABSON DAVID L GROWTH FUND INC ', 'Comp_Name_BADGER METER INC ', 'Comp_Name_BADGER PAPER MILLS INC ', 'Comp_Name_BAGDAD CHASE INC ', 'Comp_Name_BAILARD BIEHL & KAISER INC /ADV ', 'Comp_Name_BAIN & CO INC ', 'Comp_Name_BAIRD PATRICK & CO INC ', 'Comp_Name_BAKER FENTRESS & CO ET AL ', 'Comp_Name_BAKER MICHAEL CORP ', 'Comp_Name_BAKER OIL TOOLS INC 1972 KEY EMPLOYEE ST ', 'Comp_Name_BALANCED SECURITY PLANNING INC /BD ', 'Comp_Name_BALCHEM CORP ', 'Comp_Name_BALDOR ELECTRIC CO ', 'Comp_Name_BALDWIN & LYONS INC ', 'Comp_Name_BALDWIN MONTROSE CHEMICAL CO INC RESTRIC ', 'Comp_Name_BALFOUR INVESTORS INC /BD ', 'Comp_Name_BALL CORP ', 'Comp_Name_BALLY ENTERTAINMENT CORP ', 'Comp_Name_BALLY MANUFACTURING CORP EMPLOYEES STOCK ', 'Comp_Name_BALTEK CORP ', 'Comp_Name_BALTIMORE CASTINGS CORP ', 'Comp_Name_BALTIMORE GAS & ELECTRIC CO ', 'Comp_Name_BANCORPSOUTH DEALER BANK DEPARTMENT /MSD ', 'Comp_Name_BANCROFT CONVERTIBLE FUND INC ', 'Comp_Name_BANCSHARES INC ', 'Comp_Name_BANDAG INC ', 'Comp_Name_BANGOR HYDRO ELECTRIC CO ', 'Comp_Name_BANK FIDUCIARY EQUITY FUND ', 'Comp_Name_BANK OF AMERICA NA /MSD ', 'Comp_Name_BANK OF MONTREAL ', 'Comp_Name_BANK OF NEW YORK CO INC ', 'Comp_Name_BANK OF NOVA SCOTIA / ', 'Comp_Name_BANK OF OKLAHOMA NATIONAL ASSOCIATION / ', 'Comp_Name_BANK OF TOKYO LTD/ADR/ ', 'Comp_Name_BANKAMERICA CORP ', 'Comp_Name_BANKCOM CORP ', 'Comp_Name_BANKERS & INVESTORS CO /BD ', 'Comp_Name_BANKERS FIDELITY LIFE INSURANCE CO ', 'Comp_Name_BANKERS LIFE INSURANCE CO OF INDIANAPOLIS ', 'Comp_Name_BANKERS SECURITY VARIABLE ANNUITY FUNDS D E F G H & I ', 'Comp_Name_BANKERS STORE INC ', 'Comp_Name_BANKERS TRUST CORP ', 'Comp_Name_BANNER LIFE INSURANCE CO ', 'Comp_Name_BANTA CORP ', 'Comp_Name_BARAGA COUNTY LIGHT & POWER CO ', 'Comp_Name_BARCLAY INVESTMENTS INC /BD ', 'Comp_Name_BARD C R INC /NJ/ ', 'Comp_Name_BARECAP INC ', 'Comp_Name_BARNES GROUP INC ', 'Comp_Name_BARNETT BANKS INC ', 'Comp_Name_BARNWELL INDUSTRIES INC ', 'Comp_Name_BARR BROTHERS & CO., INC. ', 'Comp_Name_BARR LABORATORIES INC ', 'Comp_Name_BARRIE MILTON R CO INC ', 'Comp_Name_BARRINGER TECHNOLOGIES INC ', 'Comp_Name_BARRY R G CORP /DE/ ', 'Comp_Name_BARTLETT & CO /OH/ /ADV ', 'Comp_Name_BASE TEN SYSTEMS INC ', 'Comp_Name_BASF AKTEINGESELLSCHAFT /ADR/ ', 'Comp_Name_BASFIN CORP ', 'Comp_Name_BASIC EARTH SCIENCE SYSTEMS INC ', 'Comp_Name_BASIC INVESTORS INC. ', 'Comp_Name_BASIL INVESTMENT CORP /BD ', 'Comp_Name_BASSETT FURNITURE INDUSTRIES INC ', 'Comp_Name_BATES CHARLES HOWARD ', 'Comp_Name_BAUMANN INVESTMENT CO ', 'Comp_Name_BAUSCH & LOMB INC ', 'Comp_Name_BAXTER FRANK ', 'Comp_Name_BAXTER INTERNATIONAL INC ', 'Comp_Name_BAY STATE GAS CO /NEW/ ', 'Comp_Name_BAYBANKS INC ', 'Comp_Name_BB&T FINANCIAL CORP ', 'Comp_Name_BBN CORP ', 'Comp_Name_BCG SECURITIES INC /BD ', 'Comp_Name_BCS HOLDINGS, LLC ', 'Comp_Name_BDI INVESTMENT CORP ', 'Comp_Name_BEACON HILL MUTUAL FUND INC ', 'Comp_Name_BEACON INVESTMENT CO /BD ', 'Comp_Name_BEAR STEARNS & CO /BD ', 'Comp_Name_BEAU CHER PRODUCTIONS ', 'Comp_Name_BECHTEL FINANCING SERVICES LLC /BD ', 'Comp_Name_BECK MACK & OLIVER LLC ', 'Comp_Name_BECKER WALT & ASSOCIATES INC /BD ', 'Comp_Name_BECTON DICKINSON & CO ', 'Comp_Name_BEEKMAN SECURITIES CORP /BD ', 'Comp_Name_BEESON THOMAS W ', 'Comp_Name_BELDEN & BLAKE & CO LTD PARTNERSHIP 26 ', 'Comp_Name_BELDING HEMINWAY CO INC /DE/ ', 'Comp_Name_BELL ATLANTIC DELAWARE INC ', 'Comp_Name_BELL ATLANTIC MARYLAND INC ', 'Comp_Name_BELL ATLANTIC PENNSYLVANIA INC ', 'Comp_Name_BELL ATLANTIC VIRGINIA INC ', 'Comp_Name_BELL ATLANTIC WASHINGTON DC INC ', 'Comp_Name_BELL ATLANTIC WEST VIRGINIA INC / ', 'Comp_Name_BELLAMAH, NEUHAUSER & BARRETT, INC. ', 'Comp_Name_BELO & CO ', 'Comp_Name_BEMIS CO INC ', 'Comp_Name_BENEFICIAL CORP ', 'Comp_Name_BENGUET CORP ', 'Comp_Name_BENTHOS INC ', 'Comp_Name_BERGEN BRUNSWIG CORP ', 'Comp_Name_BERGHOFF & CO INC /IL/ /BD ', 'Comp_Name_BERGSTROM CAPITAL CORP ', 'Comp_Name_BERKLEY W R CORP ', 'Comp_Name_BERKLINE CORP ', 'Comp_Name_BERKSHIRE EQUITY SALES INC /BD ', 'Comp_Name_BESSEMER SECURITIES CORP ', 'Comp_Name_BESSEMER TRUST CO ', 'Comp_Name_BEST FRANK E INC ', 'Comp_Name_BEST LOCK CORP ', 'Comp_Name_BEST PRODUCTS CO INC ', 'Comp_Name_BEST UNIVERSAL LOCK CO ', 'Comp_Name_BESTFOODS ', 'Comp_Name_BESTWAY , INC. ', 'Comp_Name_BESTWAY INC ', 'Comp_Name_BETHLEHEM CORP ', 'Comp_Name_BETHLEHEM STEEL CORP /DE/ ', 'Comp_Name_BETZ LABORATORIES INC ', 'Comp_Name_BEVERLY BANCORPORATION INC ', 'Comp_Name_BEVERLY HILLS BANCORP ', 'Comp_Name_BEXY COMMUNICATIONS INC ', 'Comp_Name_BEYER & COMPANY ', 'Comp_Name_BIC CORP ', 'Comp_Name_BIDDEFORD & SACO WATER CO ', 'Comp_Name_BIG V SUPERMARKETS INC ', 'Comp_Name_BINKS MANUFACTURING CO ', 'Comp_Name_BIO RAD LABORATORIES INC ', 'Comp_Name_BIOSPHERICS INC ', 'Comp_Name_BIRD CORP ', 'Comp_Name_BIRKELBACH & CO /BD ', 'Comp_Name_BIRMINGHAM UTILITIES INC ', 'Comp_Name_BISHOP ROSEN & CO INC ', 'Comp_Name_BLACK & DECKER CORP ', 'Comp_Name_BLACK GIANT OIL CO ', 'Comp_Name_BLACK HILLS CORP ', 'Comp_Name_BLACK JAMES I & CO ', 'Comp_Name_BLACKBURN & CO INC /BD ', 'Comp_Name_BLACKSTONE VALLEY ELECTRIC CO ', 'Comp_Name_BLESSINGS CORP ', 'Comp_Name_BLOCK DRUG CO INC ', 'Comp_Name_BLOUNT INC ', 'Comp_Name_BLUE RIDGE REAL ESTATE CO ', 'Comp_Name_BLUEFIELD GAS CO ', 'Comp_Name_BLUESTONE SECURITIES CORPORATION ', 'Comp_Name_BNS CO ', 'Comp_Name_BNSF RAILWAY CO ', 'Comp_Name_BOB EVANS FARMS INC ', 'Comp_Name_BODELL OVERCASH ANDERSON & CO., INC. ', 'Comp_Name_BOEING CO ', 'Comp_Name_BOENNING & SCATTERGOOD, INC. ', 'Comp_Name_BOGUE ELECTRIC MANUFACTURING CO ', 'Comp_Name_BOISE CASCADE CORP ', 'Comp_Name_BONANZA GOLD INC ', 'Comp_Name_BOND FUND OF AMERICA INC ', 'Comp_Name_BOND PORTFOLIO FOR ENDOWMENTS INC ', 'Comp_Name_BOOK CORP OF AMERICA ', 'Comp_Name_BOONTON ELECTRONICS CORP ', 'Comp_Name_BOOZ ALLEN & HAMILTON INC ', 'Comp_Name_BORDEN CHEMICAL INC ', 'Comp_Name_BORMANS INC /DE/ ', 'Comp_Name_BORNS & CO ', 'Comp_Name_BORST INVESTMENT PLANNING SERVICES INC /BD ', 'Comp_Name_BOSSIER BANK & TRUST INVESTMENT DIVISION /MSD ', 'Comp_Name_BOSTON CO ASSET MANAGEMENT LLC ', 'Comp_Name_BOSTON CO FINANCIAL STRATEGIES INC ', 'Comp_Name_BOSTON CO INC ', 'Comp_Name_BOSTON CO OF SOUTHERN CALIFORNIA ', 'Comp_Name_BOSTON EDISON CO ', 'Comp_Name_BOSTON GAS CO ', 'Comp_Name_BOSTON INSTITUTIONAL SERVICES INC /BD ', 'Comp_Name_BOTZUM C A & CO\\\\\\\\\\\\\\\\CA /BD ', 'Comp_Name_BOWL AMERICA INC ', 'Comp_Name_BOWLES FLUIDICS CORP ', 'Comp_Name_BOWLINE CORP ', 'Comp_Name_BOWMAR INSTRUMENT CORP ', 'Comp_Name_BOWNE & CO INC ', 'Comp_Name_BRADLEY REAL ESTATE INC ', 'Comp_Name_BRADLEY WOODS & CO. LTD. ', 'Comp_Name_BRANDT ROBERT & CO /BD ', 'Comp_Name_BRE PROPERTIES INC ', 'Comp_Name_BRECCIA INTERNATIONAL MINERALS INC ', 'Comp_Name_BRENCO INC ', 'Comp_Name_BRENNAN THOMAS M ', 'Comp_Name_BRENNER INDUSTRIES INC ', 'Comp_Name_BRENTON BANKS INC ', 'Comp_Name_BRESLER & REINER INC ', 'Comp_Name_BREWSTER SECURITIES INC /BD ', 'Comp_Name_BRIDGES INVESTMENT COUNSEL INC /ADV ', 'Comp_Name_BRIDGES INVESTMENT FUND INC ', 'Comp_Name_BRIDGFORD FOODS CORP ', 'Comp_Name_BRIGGS & STRATTON CORP ', 'Comp_Name_BRIGHTON SECURITIES CORP /BD ', 'Comp_Name_BRIMBERG & CO LP /BD ', 'Comp_Name_BRISTOL MYERS SQUIBB CO ', 'Comp_Name_BRITISH AMERICAN INSURANCE CO LTD ', 'Comp_Name_BRITISH COLUMBIA PROVINCE OF ', 'Comp_Name_BRITTINGHAM INC /BD ', 'Comp_Name_BRL ENTERPRISES INC ', 'Comp_Name_BROCK EXPLORATION CORP ', 'Comp_Name_BRODIE EXPLORATION CORP ', 'Comp_Name_BROMAR INC ', 'Comp_Name_BROOKLYN UNION GAS CO ', 'Comp_Name_BROOKS BOBBIE INC ', 'Comp_Name_BROOKS FASHION STORES , INC. ', 'Comp_Name_BROOKS FASHION STORES INC ', 'Comp_Name_BROOKS FASHION STORES PLC ', 'Comp_Name_BROTHER INDUSTRIES LTD/ADR/ ', 'Comp_Name_BROWN ASSOCIATES INC /BD ', 'Comp_Name_BROWN BROTHERS HARRIMAN & CO ', 'Comp_Name_BROWN FORMAN CORP ', 'Comp_Name_BROWN GROUP INC ', 'Comp_Name_BROWN STEPHEN L ', 'Comp_Name_BROWN TOM INC /DE ', 'Comp_Name_BROWN, LISLE/CUMMINGS, INC. ', 'Comp_Name_BROWNING FERRIS INDUSTRIES INC ', 'Comp_Name_BRT APARTMENTS CORP. ', 'Comp_Name_BRUNDAGE STORY & ROSE LLC ', 'Comp_Name_BRUNOS INC ', 'Comp_Name_BRUNSWICK CORP ', 'Comp_Name_BRUSH WELLMAN INC ', 'Comp_Name_BRYAN STEAM CORP ', 'Comp_Name_BTR REALTY INC ', 'Comp_Name_BUELL SECURITIES CORP /BD ', 'Comp_Name_BULL & BEAR FUNDS II INC ', 'Comp_Name_BULL INC /BD ', 'Comp_Name_BULLION MONARCH CO ', 'Comp_Name_BULOVA CORP ', 'Comp_Name_BUREAU OF NATIONAL AFFAIRS INC ', 'Comp_Name_BURKE JB & CO /CT /BD ', 'Comp_Name_BURKE LAWTON BREWER & BURKE /BD ', 'Comp_Name_BURKE MILLS INC ', 'Comp_Name_BURNHAM FUND INC ', 'Comp_Name_BURNS JOHN F ', 'Comp_Name_BURNUP & SIMS INC ', 'Comp_Name_BURTSCHY LAWRENCE ROBERT /ADV ', 'Comp_Name_BUSH J & CO INC /CT/ ', 'Comp_Name_BUTLER INTERNATIONAL INC ', 'Comp_Name_BUTLER MANUFACTURING CO ', 'Comp_Name_BUTLER NATIONAL CORP ', 'Comp_Name_BUTTERFIELD JACK V INVESTMENT CO/MI /BD ', 'Comp_Name_BYNUM OIL CORP ', 'Comp_Name_C & L SECURITIES CORPORATION ', 'Comp_Name_C. J. M. PLANNING CORP. ', 'Comp_Name_C. R. DAVIS & COMPANY ', 'Comp_Name_CABE W T & CO INC /BD ', 'Comp_Name_CABOT CORP ', 'Comp_Name_CACI INTERNATIONAL INC /DE/ ', 'Comp_Name_CACI INTERNATIONAL INC. /DE/ ', 'Comp_Name_CAESARS WORLD INC ', 'Comp_Name_CAGLES INC ', 'Comp_Name_CAI CORP ', 'Comp_Name_CAL MAINE FOODS INC ', 'Comp_Name_CALDWELL WILEY N ', 'Comp_Name_CALIBRAX CAPITAL PARTNERS, LLC ', 'Comp_Name_CALIFORNIA ENGELS MINING CO ', 'Comp_Name_CALIFORNIA JOCKEY CLUB ', 'Comp_Name_CALIFORNIA REAL ESTATE INVESTMENT TRUST ', 'Comp_Name_CALIFORNIA WATER SERVICE CO ', 'Comp_Name_CALLON PETROLEUM CO/MS ', 'Comp_Name_CALMAT CO ', 'Comp_Name_CALPROP CORP ', 'Comp_Name_CALYON SECURITIES (USA) INC ', 'Comp_Name_CAMBEX CORP ', 'Comp_Name_CAMBRIDGE ELECTRIC LIGHT CO ', 'Comp_Name_CAMCO FINANCIAL CORP ', 'Comp_Name_CAMELOT CORP ', 'Comp_Name_CAMERON, MURPHY & SPANGLER, INC. ', 'Comp_Name_CAMPBELL ADVISORS INC ', 'Comp_Name_CAMPBELL KENNETH L ', 'Comp_Name_CAMPBELL RESOURCES INC ', 'Comp_Name_CAMPBELL SOUP CO ', 'Comp_Name_CAMPBELL SOUP CO CAMPBELLS SOUPS 1969 1974 & 1979 STK OPT & ', 'Comp_Name_CANADA DRY BOTTLING CO OF FLORIDA INC ', 'Comp_Name_CANADA SOUTHERN PETROLEUM LTD ', 'Comp_Name_CANADIAN IMPERIAL BANK OF COMMERCE ', 'Comp_Name_CANADIAN NATIONAL RAILWAY CO ', 'Comp_Name_CANADIAN OCCIDENTAL PETROLEUM LTD ', 'Comp_Name_CANADIAN PACIFIC RAILWAY CO/CN ', 'Comp_Name_CANADIAN UTILITIES LTD ', 'Comp_Name_CANAL CORP ', 'Comp_Name_CANAL ELECTRIC CO ', 'Comp_Name_CANANDAIGUA BRANDS INC ', 'Comp_Name_CANNARSA DAVID INVESTMENTS /BD ', 'Comp_Name_CANNELL PETER B & CO INC ', 'Comp_Name_CANON INC ', 'Comp_Name_CANTEL INDUSTRIES INC ', 'Comp_Name_CANTOR FITZGERALD & CO. ', 'Comp_Name_CAPE SECURITIES INC /BD ', 'Comp_Name_CAPITAL CITIES ABC INC /NY/ ', 'Comp_Name_CAPITAL CONCEPTS INVESTMENT CORP. ', 'Comp_Name_CAPITAL CONSERVATION INC ', 'Comp_Name_CAPITAL DIRECTIONS INC /BD ', 'Comp_Name_CAPITAL EXCHANGE FUND INC ', 'Comp_Name_CAPITAL HOLDING CORP ', 'Comp_Name_CAPITAL INVESTMENT OF HAWAII INC ', 'Comp_Name_CAPITAL INVESTMENTS INC /BD ', 'Comp_Name_CAPITAL RESEARCH & MANAGEMENT CO ', 'Comp_Name_CAPITAL RESOURCES REAL ESTATE PARTNERSHIP II ', 'Comp_Name_CAPITAL SECURITIES INVESTMENT CORP ', 'Comp_Name_CAPITAL SOUTHWEST CORP ', 'Comp_Name_CAPITAL SOUTHWEST VENTURE CORP ', 'Comp_Name_CAPITOL TRANSAMERICA CORP ', 'Comp_Name_CARDIAC RESUSCITATOR CORP ', 'Comp_Name_CARDIFF COMMUNICATIONS INC ', 'Comp_Name_CARDINAL FUND INC ', 'Comp_Name_CARNEGIE FINANCIAL CORP /PA/ ', 'Comp_Name_CAROLAN & CO INC /BD ', 'Comp_Name_CAROLINA POWER & LIGHT CO ', 'Comp_Name_CARPENTER TECHNOLOGY CORP ', 'Comp_Name_CARR FRIESENHAHN & CO INC /BD ', 'Comp_Name_CARR SECURITIES CORPORATION ', 'Comp_Name_CARROLS CORP ', 'Comp_Name_CARSON BENJAMIN SR ', 'Comp_Name_CARTER DAY INDUSTRIES INC ', 'Comp_Name_CARTER SECURITIES CORP ', 'Comp_Name_CARTER WALLACE INC /DE/ ', 'Comp_Name_CARTY & CO INC /BD ', 'Comp_Name_CASCADE CORP ', 'Comp_Name_CASCADE NATURAL GAS CORP ', 'Comp_Name_CASH MANAGEMENT TRUST OF AMERICA ', 'Comp_Name_CASIO COMPUTER CO LTD/ADR/ ', 'Comp_Name_CASPERS TIN PLATE CO ', 'Comp_Name_CASSETTE EDUCATION SYSTEMS CORP ', 'Comp_Name_CASTLE A M & CO ', 'Comp_Name_CASTLE CONVERTIBLE FUND INC ', 'Comp_Name_CATERPILLAR , INC. ', 'Comp_Name_CATERPILLAR INC ', 'Comp_Name_CATERPILLAR TRACTOR CO RESTRICTED STOCK ', 'Comp_Name_CATO CORP ', 'Comp_Name_CAVU SECURITIES LLC ', 'Comp_Name_CAZENOVE INC /BD ', 'Comp_Name_CBS BROADCASTING INC ', 'Comp_Name_CCH INC ', 'Comp_Name_CCI FINANCIAL GROUP INC /OH/ /ADV ', 'Comp_Name_CCOM GROUP, INC. ', 'Comp_Name_CDI CORP ', 'Comp_Name_CECO ENVIRONMENTAL CORP ', 'Comp_Name_CEDAR POINT INC ', 'Comp_Name_CELANESE CORP ', 'Comp_Name_CENCOR INC ', 'Comp_Name_CENTEL CORP ', 'Comp_Name_CENTER STAR GOLD MINES INC ', 'Comp_Name_CENTEX CORP ', 'Comp_Name_CENTRAL & SOUTH WEST CORP ', 'Comp_Name_CENTRAL & SOUTH WEST SERVICES INC ', 'Comp_Name_CENTRAL BANCORP INC ', 'Comp_Name_CENTRAL COAL & COKE CORP ', 'Comp_Name_CENTRAL CORP /LA/ ', 'Comp_Name_CENTRAL HUDSON GAS & ELECTRIC CORP ', 'Comp_Name_CENTRAL ILLINOIS LIGHT CO ', 'Comp_Name_CENTRAL LOUISIANA ELECTRIC CO INC ', 'Comp_Name_CENTRAL MAINE POWER CO ', 'Comp_Name_CENTRAL OHIO COAL CO ', 'Comp_Name_CENTRAL SECURITIES CORP ', 'Comp_Name_CENTRAL STATES SECURITIES INC /BD ', 'Comp_Name_CENTRAL STEEL & WIRE CO ', 'Comp_Name_CENTRAL TELEPHONE CO ', 'Comp_Name_CENTRAL VERMONT PUBLIC SERVICE CORP ', 'Comp_Name_CENTURION GROWTH FUND INC ', 'Comp_Name_CENTURY BUSINESS CREDIT CORP ', 'Comp_Name_CENTURY LABORATORIES INC ', 'Comp_Name_CENTURY PROPERTIES EQUITY PARTNERSHIP 72 ', 'Comp_Name_CENTURY PROPERTIES PREFERRED PARTNERSHIP 72 ', 'Comp_Name_CENTURY REALTY TRUST ', 'Comp_Name_CENTURY SHARES TRUST ', 'Comp_Name_CENTURY TELEPHONE ENTERPRISES INC ', 'Comp_Name_CERADYNE INC ', 'Comp_Name_CERTRON CORP ', 'Comp_Name_CFI INDUSTRIES INC ', 'Comp_Name_CGG HOLDING (U.S.) INC. ', 'Comp_Name_CGS SCIENTIFIC CORP ', 'Comp_Name_CGU ASSET MANAGEMENT INC ', 'Comp_Name_CHAMPION HOME BUILDERS CO ', 'Comp_Name_CHAMPION INDUSTRIES INC ', 'Comp_Name_CHAMPION INTERNATIONAL CORP ', 'Comp_Name_CHAMPION PARTS INC ', 'Comp_Name_CHANNEL AMERICA BROADCASTING INC ', 'Comp_Name_CHAPARRAL RESOURCES INC ', 'Comp_Name_CHARLOTTE MOTOR SPEEDWAY INC ', 'Comp_Name_CHARMING SHOPPES INC ', 'Comp_Name_CHARTER COMMUNICATIONS INC ', 'Comp_Name_CHARTER FINANCIAL CORP ', 'Comp_Name_CHARTER MEDICAL CORP ', 'Comp_Name_CHASE BANK /MSD ', 'Comp_Name_CHASE GENERAL CORP ', 'Comp_Name_CHASE INVESTMENT COUNSEL CORP ', 'Comp_Name_CHASE MANHATTAN CORP ', 'Comp_Name_CHASE MANHATTAN CORP /DE/ ', 'Comp_Name_CHATTEM INC ', 'Comp_Name_CHEFFORD MASTER MANUFACTURING CO INC ', 'Comp_Name_CHEM NUT INC ', 'Comp_Name_CHEMED CORP ', 'Comp_Name_CHEMICAL FINANCIAL CORP ', 'Comp_Name_CHENAUR CORP ', 'Comp_Name_CHERRY CORP ', 'Comp_Name_CHESAPEAKE SHORES BEACH & COUNTRY CLUB I ', 'Comp_Name_CHESAPEAKE SYSTEMS CORP ', 'Comp_Name_CHESAPEAKE UTILITIES CORP ', 'Comp_Name_CHESTNUT STREET EXCHANGE FUND ', 'Comp_Name_CHICAGO MILWAUKEE CORP ', 'Comp_Name_CHICAGO RIVET & MACHINE CO ', 'Comp_Name_CHICAGO TITLE & TRUST CO ', 'Comp_Name_CHIEF CONSOLIDATED MINING CO ', 'Comp_Name_CHIKSAN TOOL CO ', 'Comp_Name_CHILE REPUBLIC OF ', 'Comp_Name_CHINA CHANGJIANG MINING & NEW ENERGY COMPANY, LTD. ', 'Comp_Name_CHOCK FULL O NUTS CORP ', 'Comp_Name_CHRIS CRAFT INDUSTRIES INC ', 'Comp_Name_CHRISTIANA COMPANIES INC ', 'Comp_Name_CHRYSLER FINANCIAL CORP ', 'Comp_Name_CHUBB CORP ', 'Comp_Name_CHURCH GREGORY ADAMS SECURITIES CORP /BD ', 'Comp_Name_CHURCH LOANS & INVESTMENTS TRUST ', 'Comp_Name_CHURCHILL DOWNS INC ', 'Comp_Name_CHYRON CORP ', 'Comp_Name_CIGNA ANNUITY FUNDS GROUP ', 'Comp_Name_CIMOTA ENTERPRISES INC ', 'Comp_Name_CINCINNATI BELL TELEPHONE CO /OH ', 'Comp_Name_CINCINNATI FINANCIAL CORP ', 'Comp_Name_CINCINNATI GAS & ELECTRIC CO ', 'Comp_Name_CIRCA PHARMACEUTICALS INC ', 'Comp_Name_CIRCLE FINE ART CORP ', 'Comp_Name_CIRCLE INCOME SHARES INC ', 'Comp_Name_CIRCUIT SCIENCE CORP ', 'Comp_Name_CIT GROUP HOLDINGS INC /DE/ ', 'Comp_Name_CITICORP ', 'Comp_Name_CITISTREET ADVISORS LLC /BD ', 'Comp_Name_CITIZENS BANK /MSD ', 'Comp_Name_CITIZENS COMMUNICATIONS CO ', 'Comp_Name_CITIZENS FINANCIAL CORP/OH/ ', 'Comp_Name_CITIZENS INC ', 'Comp_Name_CITY SECURITIES CORPORATION ', 'Comp_Name_CLAIRES STORES INC ', 'Comp_Name_CLARCOR INC. ', 'Comp_Name_CLARION CAPITAL CORP ', 'Comp_Name_CLARK MELVIN SECURITIES CORP /BD ', 'Comp_Name_CLARK REFINING & MARKETING INC ', 'Comp_Name_CLARK ROBERT J ', 'Comp_Name_CLARKE CORP ', 'Comp_Name_CLARKSON INDUSTRIES INC ', 'Comp_Name_CLARY CORP ', 'Comp_Name_CLEARY PETROLEUM CORP ', 'Comp_Name_CLEVELAND ELECTRIC ILLUMINATING CO ', 'Comp_Name_CLEVETRUST REALTY INVESTORS ', 'Comp_Name_CLINGER & CO INC /BD ', 'Comp_Name_CLOROX CO /DE/ ', 'Comp_Name_CM SECURITIES INC /BD ', 'Comp_Name_CMI CORP ', 'Comp_Name_CML VARIABLE ANNUITY ACCOUNT A ', 'Comp_Name_CML VARIABLE ANNUITY ACCOUNT B ', 'Comp_Name_CNA FINANCIAL CORP ', 'Comp_Name_CNA INCOME SHARES INC ', 'Comp_Name_CNA INVESTOR SERVICES INC /BD ', 'Comp_Name_CNA PLCOME SHARES PLC ', 'Comp_Name_CNF INC ', 'Comp_Name_COASTAL CARIBBEAN OILS & MINERALS LTD ', 'Comp_Name_COASTAL CORP ', 'Comp_Name_COASTAL FINANCE CORP ', 'Comp_Name_COBE LABORATORIES INC ', 'Comp_Name_COBRA ELECTRONICS CORP ', 'Comp_Name_COBURN & MEREDITH INC /BD ', 'Comp_Name_COCA COLA BOTTLING CO CONSOLIDATED (PRED) ', 'Comp_Name_COCA COLA CO ', 'Comp_Name_COEUR D ALENES CO ', 'Comp_Name_COGNITRONICS CORP ', 'Comp_Name_COGO GROUP INC. ', 'Comp_Name_COHERENT INC ', 'Comp_Name_COHU INC ', 'Comp_Name_COLEMAN & CO SECURITIES INC ', 'Comp_Name_COLEMAN CO INC ', 'Comp_Name_COLGATE PALMOLIVE CO ', 'Comp_Name_COLLAGEN AESTHETICS INC ', 'Comp_Name_COLLINS & AIKMAN CORP/NY/ ', 'Comp_Name_COLLINS & CO LLC /BD ', 'Comp_Name_COLLINS INDUSTRIES INC ', 'Comp_Name_COLONIAL BANCORP INC QUALIFIED STOCK OPT ', 'Comp_Name_COLONIAL SECURITIES INC /BD ', 'Comp_Name_COLONIAL TRUST I ', 'Comp_Name_COLONIAL TRUST III ', 'Comp_Name_COLUMBIA DAILY INCOME CO ', 'Comp_Name_COLUMBIA ENERGY GROUP ', 'Comp_Name_COLUMBIA GAS SYSTEM SERVICE CORP ', 'Comp_Name_COLUMBIA GROWTH FUND INC ', 'Comp_Name_COLUMBIA MANAGEMENT ADVISORS INC ', 'Comp_Name_COLUMBUS SOUTHERN POWER CO /OH/ ', 'Comp_Name_COMARCO INC ', 'Comp_Name_COMBINED INSURANCE CO OF AMERICA ', 'Comp_Name_COMCAST CORP ', 'Comp_Name_COMERICA INC /NEW/ ', 'Comp_Name_COMFORCE CORP ', 'Comp_Name_COMINCO , LTD. ', 'Comp_Name_COMINCO LTD ', 'Comp_Name_COMINCO LTD. ', 'Comp_Name_COMMERCE BANCSHARES INC /MO/ ', 'Comp_Name_COMMERCE BANKSHARES INC ', 'Comp_Name_COMMERCE SECURITIES CORP /BD ', 'Comp_Name_COMMERCIAL BANCORPORATION OF COLORADO ', 'Comp_Name_COMMERCIAL INTERNATIONAL CORP ', 'Comp_Name_COMMERCIAL INTERTECH CORP ', 'Comp_Name_COMMERCIAL METALS CO ', 'Comp_Name_COMMONWEALTH BANK OF AUSTRALIA ', 'Comp_Name_COMMONWEALTH EDISON CO ', 'Comp_Name_COMMONWEALTH GAS CO ', 'Comp_Name_COMMONWEALTH INDUSTRIES CORP ', 'Comp_Name_COMMONWEALTH INVESTORS GROUP ', 'Comp_Name_COMMUNICATIONS SYSTEMS INC/MN ', 'Comp_Name_COMMUNITY HEALTH SYSTEMS INC/OLD/ ', 'Comp_Name_COMMUNITY PSYCHIATRIC CENTERS /NV/ ', 'Comp_Name_COMNET CORP ', 'Comp_Name_COMP U CHECK INC ', 'Comp_Name_COMPASS BANCSHARES INC ', 'Comp_Name_COMPASS BANK CORRESPONDENT & INVESTMENT SERVICES DIVISION ', 'Comp_Name_COMPOSITE EQUITY SERIES INC ', 'Comp_Name_COMPOSITE INCOME FUND INC ', 'Comp_Name_COMPREHENSIVE CAPITAL CORP /BD ', 'Comp_Name_COMPUDYNE CORP ', 'Comp_Name_COMPUSERVE CORP ', 'Comp_Name_COMPUTER AUTOMATION INC ', 'Comp_Name_COMPUTER DATA SYSTEMS INC ', 'Comp_Name_COMPUTER HORIZONS CORP ', 'Comp_Name_COMPUTER IDENTICS CORP /MA/ ', 'Comp_Name_COMPUTER PRODUCTIONS INC ', 'Comp_Name_COMPUTER SCIENCES CORP ', 'Comp_Name_COMPUTER TASK GROUP INC ', 'Comp_Name_COMPUTER TRANSCEIVER SYSTEMS INC ', 'Comp_Name_COMSAT CORP ', 'Comp_Name_COMSTOCK RESOURCES INC ', 'Comp_Name_COMTECH TELECOMMUNICATIONS CORP /DE/ ', 'Comp_Name_CONAGRA BRANDS INC. ', 'Comp_Name_CONCEPT SERVICES ', 'Comp_Name_CONCERT NETWORK INC ', 'Comp_Name_CONCORD FABRICS INC ', 'Comp_Name_CONCORD FUND INC ', 'Comp_Name_CONE MILLS CORP ', 'Comp_Name_CONGOLEUM CORP ', 'Comp_Name_CONNECTICUT GENERAL LIFE INSURANCE CO ', 'Comp_Name_CONNECTICUT LIGHT & POWER CO ', 'Comp_Name_CONNECTICUT NATURAL GAS CORP ', 'Comp_Name_CONNECTICUT YANKEE ATOMIC POWER CO ', 'Comp_Name_CONNERS & CO., INC. ', 'Comp_Name_CONNOISSEURS CLUB INC ', 'Comp_Name_CONOLOG CORP ', 'Comp_Name_CONSIL CORP ', 'Comp_Name_CONSOLIDATED COAL CO ', 'Comp_Name_CONSOLIDATED EDISON CO OF NEW YORK INC ', 'Comp_Name_CONSOLIDATED NATURAL GAS CO/VA ', 'Comp_Name_CONSOLIDATED NATURAL GAS SERVICE CO ', 'Comp_Name_CONSOLIDATED PAPERS INC ', 'Comp_Name_CONSOLIDATED TOMOKA LAND CO ', 'Comp_Name_CONSTAR INTERNATIONAL INC ', 'Comp_Name_CONSUMERS WATER CO ', 'Comp_Name_CONTEL OF CALIFORNIA INC ', 'Comp_Name_CONTINENTAL ASSURANCE CO ', 'Comp_Name_CONTINENTAL ASSURANCE CO SEPARATE ACCOUNT B ', 'Comp_Name_CONTINENTAL BANK CORP ', 'Comp_Name_CONTINENTAL CAPITAL CORP /CA ', 'Comp_Name_CONTINENTAL CASUALTY CO ', 'Comp_Name_CONTINENTAL CONVEYOR & EQUIPMENT CO ', 'Comp_Name_CONTINENTAL CORP ', 'Comp_Name_CONTINENTAL GENERAL INSURANCE CO ', 'Comp_Name_CONTINENTAL HERITAGE CORP ', 'Comp_Name_CONTINENTAL INFORMATION SYSTEMS CORP ', 'Comp_Name_CONTINENTAL INSURANCE CO ', 'Comp_Name_CONTINENTAL INVESTMENT CORP /GA/ ', 'Comp_Name_CONTINENTAL MATERIALS CORP ', 'Comp_Name_CONTINENTAL MUTUAL INVESTMENT FUND INC ', 'Comp_Name_CONTINENTAL REAL ESTATE PARTNERS LTD ', 'Comp_Name_CONTINENTAL STOCK TRANSFER & TRUST CO /TA ', 'Comp_Name_CONTRAN CORP ', 'Comp_Name_COOK INLET REGION INC ', 'Comp_Name_COOKE & BIELER INC ', 'Comp_Name_COOLIDGE LAWRENCE ET AL ', 'Comp_Name_COOPER INDUSTRIES INC ', 'Comp_Name_COOPER INDUSTRIES INC. ', 'Comp_Name_COOPER INVESTMENT CO INC /BD ', 'Comp_Name_COOPER INVESTMENT CO INC. /BD ', 'Comp_Name_COOPER LABORATORIES INC STOCKHOLDERS LIQUIDATING TRUST ', 'Comp_Name_COOPER TIRE & RUBBER CO ', 'Comp_Name_COORS ADOLPH CO ', 'Comp_Name_COPPER CORP ', 'Comp_Name_COPPERWELD CORP ', 'Comp_Name_COPPS CORP ', 'Comp_Name_CORBY CAPITAL MARKETS, INC. ', 'Comp_Name_CORDILLERA CORP ', 'Comp_Name_CORDIS CORP ', 'Comp_Name_CORNERSTONE TOTAL RETURN FUND INC ', 'Comp_Name_CORNET STORES ', 'Comp_Name_CORNING INC /NY ', 'Comp_Name_CORNING NATURAL GAS CORP ', 'Comp_Name_CORPORATE BOND TRUST SERIES 5 ', 'Comp_Name_CORPORATE FUND ACCUMULATION PROGRAM INC ', 'Comp_Name_CORPORATE INCOME FUND SEVENTY NINTH SHORT TERM SERIES ', 'Comp_Name_CORPORATE INVESTMENT TRUST FUND FIRST MONTHLY PAYMENT SERIE ', 'Comp_Name_CORPORATE SECURITIES TRUST INTERMEDIATE TERM DEBT SERIES 1 ', \"Comp_Name_COSSE' INTERNATIONAL SECURITIES, INC. \", 'Comp_Name_COSTA INC ', 'Comp_Name_COTTER & CO ', 'Comp_Name_COTTON STATES LIFE INSURANCE CO / ', 'Comp_Name_COUGHLIN & COMPANY INC. ', 'Comp_Name_COUNTRY CAPITAL MANAGEMENT COMPANY ', 'Comp_Name_COUNTRY CUPBOARD INC ', 'Comp_Name_COUNTRY GROWTH FUND INC ', 'Comp_Name_COUNTRYBASKET INDEX FUND INC /NY/ ', 'Comp_Name_COUNTRYWIDE CREDIT INDUSTRIES INC ', 'Comp_Name_COURIER CORP ', 'Comp_Name_COUSINS PROPERTIES INC ', 'Comp_Name_COVENTRY CARE INC ', 'Comp_Name_COVISTA COMMUNICATIONS INC ', 'Comp_Name_COVISTA COMMUNICATIONS PLC ', 'Comp_Name_COX COMMUNICATIONS INC /DE/ ', 'Comp_Name_COX COMMUNICATIONS INC /GA/ ', 'Comp_Name_CPI CORP ', 'Comp_Name_CPT HOLDINGS INC ', 'Comp_Name_CRACKER BARREL OLD COUNTRY STORE INC ', 'Comp_Name_CRANE CO /DE/ ', 'Comp_Name_CRAWFORD & CO ', 'Comp_Name_CRAWFORD STORES INC ', 'Comp_Name_CRAY RESEARCH INC ', 'Comp_Name_CREATIVE INVESTOR SERVICES INC /BD ', 'Comp_Name_CREDIT SUISSE (USA) INC ', 'Comp_Name_CRESTED CORP ', 'Comp_Name_CRESTEK INC /NJ/ ', 'Comp_Name_CROMPTON & KNOWLES CORP ', 'Comp_Name_CRONIN & CO INC /BD ', 'Comp_Name_CROWELL, WEEDON & CO. ', 'Comp_Name_CROWLEY MILNER & CO ', 'Comp_Name_CROWN CAPITAL SECURITIES LP /BD ', 'Comp_Name_CROWN CENTRAL PETROLEUM CORP /MD/ ', 'Comp_Name_CROWN CORK & SEAL CO INC ', 'Comp_Name_CROWN CRAFTS INC ', 'Comp_Name_CRSS INC ', 'Comp_Name_CRUTCHER RESOURCES CORP ', 'Comp_Name_CRYSTAL MOUNTAIN INC ', 'Comp_Name_CS CAPITAL CORP ', 'Comp_Name_CSS INDUSTRIES INC ', 'Comp_Name_CT COMMUNICATIONS INC ', 'Comp_Name_CT COMMUNICATIONS INC /NC ', 'Comp_Name_CTS CORP ', 'Comp_Name_CUBA REPUBLIC OF ', 'Comp_Name_CUBIC CORP /DE/ ', 'Comp_Name_CULBRO CORP ', 'Comp_Name_CUMMINS ENGINE CO INC ', 'Comp_Name_CURRAN JOHN P ', 'Comp_Name_CURRENT INCOME SHARES INC ', 'Comp_Name_CURTISS WRIGHT CORP ', 'Comp_Name_CUSTOMEDIX CORP ', 'Comp_Name_CUTCO INDUSTRIES INC ', 'Comp_Name_CV BROKERAGE, INC ', 'Comp_Name_CV REIT INC ', 'Comp_Name_D H BLAIR & CO INC /BD ', 'Comp_Name_D. L. BAKER & CO., INCORPORATED ', 'Comp_Name_D.A. DAVIDSON & CO. ', 'Comp_Name_DACCO INC ', 'Comp_Name_DAI ICHI KANGYO BANK LTD /ADR/ ', 'Comp_Name_DAI NIPPON PRINTING CO LTD CITIBANK N A /ADR/ ', 'Comp_Name_DAILY INCOME FUND INC ', 'Comp_Name_DAILY MONEY FUND/MA/ ', 'Comp_Name_DAIWA CAPITAL MARKETS AMERICA INC. ', 'Comp_Name_DAL PIAZ CLAUDIO /BD ', 'Comp_Name_DALY DONALD STANTON /BD ', 'Comp_Name_DALY JOHN J ', 'Comp_Name_DANA CORP ', 'Comp_Name_DANIEL INDUSTRIES INC ', 'Comp_Name_DANNERS INC ', 'Comp_Name_DART GROUP CORP ', 'Comp_Name_DART INDUSTRIES INC ', 'Comp_Name_DART PAPESH & CO INC /BD ', 'Comp_Name_DARWOOD ASSOCIATES INCORPORATED ', 'Comp_Name_DATA CARD CORP ', 'Comp_Name_DATA DIMENSIONS INC ', 'Comp_Name_DATA DOCUMENTS INC/DE/ ', 'Comp_Name_DATA GENERAL CORP ', 'Comp_Name_DATA PROBE INC ', 'Comp_Name_DATA SYSTEMS INC /OR/ ', 'Comp_Name_DATAMARINE INTERNATIONAL INC ', 'Comp_Name_DATAMETRICS CORP ', 'Comp_Name_DATARAM CORP ', 'Comp_Name_DATASCOPE CORP ', 'Comp_Name_DATATAB INC ', 'Comp_Name_DATRON SYSTEMS INC/DE ', 'Comp_Name_DATUM INC ', 'Comp_Name_DAUGHERTY COLE INC /BD ', 'Comp_Name_DAVENPORT & COMPANY LLC ', 'Comp_Name_DAVIDSON HAROLD & ASSOCIATES INC /ADV ', 'Comp_Name_DAVIS GEORGE ', 'Comp_Name_DAVIS WATER & WASTE INDUSTRIES INC ', 'Comp_Name_DAWSON JOHN & ASSOCIATES INC /IL/ ', 'Comp_Name_DAXOR CORP ', 'Comp_Name_DAY ROBERT /ADV ', 'Comp_Name_DAYTON & MICHIGAN RAILROAD CO ', 'Comp_Name_DAYTON HUDSON CORP ', 'Comp_Name_DAYTON POWER & LIGHT CO ', 'Comp_Name_DBA SYSTEMS INC ', 'Comp_Name_DC TRADING & DEVELOPMENT CORP ', 'Comp_Name_DCAP GROUP INC/ ', 'Comp_Name_DDL ELECTRONICS INC ', 'Comp_Name_DE ANZA PROPERTIES IX LIQUIDATING TRUST ', 'Comp_Name_DE ROSE INDUSTRIES INC ', 'Comp_Name_DEAN FOODS CO ', 'Comp_Name_DECORATOR INDUSTRIES INC ', 'Comp_Name_DEERE JOHN CAPITAL CORP ', 'Comp_Name_DEFINED ASSET FUNDS CORPORATE INCOME FD PREFERRED STK SER 5 ', 'Comp_Name_DEFINED ASSET FUNDS CORPORATE INCOME FD PREFERRED STK SER 6 ', 'Comp_Name_DEFINED ASSET FUNDS MUNICIPAL INVT TR FD MON PYMT SER 155 ', 'Comp_Name_DEFINED ASSET FUNDS MUNICIPAL INVT TR FD MON PYMT SER 156 ', 'Comp_Name_DEFINED ASSET FUNDS MUNICIPAL INVT TR FD NEW YORK SER 33 ', 'Comp_Name_DEL ELECTRONICS CORP ', 'Comp_Name_DEL LABORATORIES INC ', 'Comp_Name_DELAWARE GROUP DECATUR FUND INC ', 'Comp_Name_DELAWARE GROUP DELAWARE FUND INC ', 'Comp_Name_DELAWARE GROUP DELCHESTER HIGH YIELD BOND FUND INC ', 'Comp_Name_DELAWARE GROUP EQUITY FUNDS III INC ', 'Comp_Name_DELMARVA POWER & LIGHT CO /DE/ ', 'Comp_Name_DELTA AIR LINES INC /DE/ ', 'Comp_Name_DELTA FUNDS INC ', 'Comp_Name_DELTA STATES OIL INC ', 'Comp_Name_DELTONA CORP ', 'Comp_Name_DELUXE CORP ', 'Comp_Name_DEMPSEY & CO LLC /BD ', 'Comp_Name_DENISON H C CO ', 'Comp_Name_DENTSPLY INTERNATIONAL INC ', 'Comp_Name_DEPOSIT GUARANTY CORP ', 'Comp_Name_DEPOSITORS FUND OF BOSTON INC ', 'Comp_Name_DEPOSITORS FUND OF BOSTON PLC ', 'Comp_Name_DERAND REAL ESTATE INVESTMENT TRUST ', 'Comp_Name_DERBY REFINING CO THRIFT PLAN /DE/ ', 'Comp_Name_DESIGNATRONICS INC ', 'Comp_Name_DESIGNATRONICS PLC ', 'Comp_Name_DESOTO INC ', 'Comp_Name_DETECTION SYSTEMS INC ', 'Comp_Name_DETREX CORPORATION ', 'Comp_Name_DETROIT & CANADA TUNNEL CORP ', 'Comp_Name_DETROIT EDISON CO ', 'Comp_Name_DETWILER FENTON & CO. ', 'Comp_Name_DEUTSCHE BANK AG /ADR/ ', 'Comp_Name_DEVCON INTERNATIONAL CORP ', 'Comp_Name_DEVELOPMENT CORP FOR ISRAEL /BD ', 'Comp_Name_DEWEY ELECTRONICS CORP ', 'Comp_Name_DEX ONE CORP ', 'Comp_Name_DEXTER CORP ', 'Comp_Name_DI AN CONTROLS INC ', 'Comp_Name_DI GIORGIO CORP ', 'Comp_Name_DIAGNOSTIC RETRIEVAL SYSTEMS INC ', 'Comp_Name_DIAMANT INVESTMENT CORP /BD ', 'Comp_Name_DIAMOND BAY SECURITIES CORP. ', 'Comp_Name_DIAPULSE CORP OF AMERICA ', 'Comp_Name_DIBRELL BROTHERS INC ', 'Comp_Name_DICK A B CO ', 'Comp_Name_DIEBOLD INC ', 'Comp_Name_DIGITAL EQUIPMENT CORP ', 'Comp_Name_DIGITAL PRODUCTS CORP ', 'Comp_Name_DILLARD DEPARTMENT STORES INC ', 'Comp_Name_DIODES INC /DEL/ ', 'Comp_Name_DIONICS INC ', 'Comp_Name_DISCOVERY OIL LTD ', 'Comp_Name_DISNEY ENTERPRISES INC ', 'Comp_Name_DIVERSIFICATION FUND INC ', 'Comp_Name_DIVERSIFIED CAPITAL CORPORATION ', 'Comp_Name_DIVERSIFIED MARKETING SERVICES INC ', 'Comp_Name_DIVERSIFIED REALTY INC ', 'Comp_Name_DIVERSIFIED SECURITIES INC /BD ', 'Comp_Name_DIXIE GROUP INC ', 'Comp_Name_DIXIE NATIONAL CORP ', 'Comp_Name_DIXON TICONDEROGA CO ', 'Comp_Name_DMC GLOBAL INC. ', 'Comp_Name_DODGE & COX BALANCED FUND/CA ', 'Comp_Name_DODGE & COX STOCK FUND ', 'Comp_Name_DOFT & CO INC /BD ', 'Comp_Name_DOL RESOURCES INC ', 'Comp_Name_DOLE FOOD CO INC ', 'Comp_Name_DOLLAR DIRECTORS INC /BD ', 'Comp_Name_DOLLAR GENERAL CORP ', 'Comp_Name_DONALDSON CO INC ', 'Comp_Name_DONLEY OPTIONS INC /BD ', 'Comp_Name_DONNELLEY R R & SONS CO ', 'Comp_Name_DONNKENNY INC ', 'Comp_Name_DONSHIRE PLANNING CORPORATION ', 'Comp_Name_DORN & CO INC /BD ', 'Comp_Name_DORSEY & CO INC /BD ', 'Comp_Name_DOSKOCIL COMPANIES INC ', 'Comp_Name_DOUBLE EAGLE PETROLEUM & MINING CO ', 'Comp_Name_DOUGHTIES FOODS INC ', 'Comp_Name_DOUGLAS & CO. MUNICIPALS, INC. ', 'Comp_Name_DOUGLAS & LOMASON CO ', 'Comp_Name_DOVER CORP ', 'Comp_Name_DOW CHEMICAL CO /DE/ ', 'Comp_Name_DOW CORNING CORP ', 'Comp_Name_DOW JONES & CO INC ', 'Comp_Name_DR PEPPER CO ', 'Comp_Name_DRAGON MINING CORP ', 'Comp_Name_DRAVO CORP ', 'Comp_Name_DRESDNER BANK AG /FI ', 'Comp_Name_DRESNER ARTHUR S /BD ', 'Comp_Name_DRESSER INDUSTRIES INC /DE/ ', 'Comp_Name_DREXLER TECHNOLOGY CORP ', 'Comp_Name_DREYFUS A BONDS PLUS INC ', 'Comp_Name_DREYFUS CORP ', 'Comp_Name_DREYFUS FUND INC ', 'Comp_Name_DREYFUS GROWTH OPPORTUNITY FUND INC ', 'Comp_Name_DREYFUS LEVERAGE FUND INC /NY/ ', 'Comp_Name_DREYFUS LIQUID ASSETS INC ', 'Comp_Name_DREYFUS MONEY MARKET INSTRUMENTS INC ', 'Comp_Name_DREYFUS PREMIER THIRD CENTURY FUND INC ', 'Comp_Name_DRIVER HARRIS CO ', 'Comp_Name_DST SYSTEMS INC /TA ', 'Comp_Name_DUCOMMUN INC /DE/ ', 'Comp_Name_DUKE ENERGY CAROLINAS, LLC ', 'Comp_Name_DULLNIG GEORGE E & CO /BD ', 'Comp_Name_DUNES HOTELS & CASINOS INC ', 'Comp_Name_DUPLAN CORP STOCK OPTION PLANS ', 'Comp_Name_DUPLEX PRODUCTS INC ', 'Comp_Name_DUPONT E I DE NEMOURS & CO ', 'Comp_Name_DUPREE & CO INC /BD ', 'Comp_Name_DUQUESNE LIGHT CO ', 'Comp_Name_DURCO INTERNATIONAL INC ', 'Comp_Name_DURR FILLAUER MEDICAL INC ', 'Comp_Name_DVORAK STEPHEN CHARLES /BD ', 'Comp_Name_DYNAMIC AMERICAN CORP ', 'Comp_Name_DYNAMICS CORP OF AMERICA ', 'Comp_Name_DYNAMICS RESEARCH CORP ', 'Comp_Name_DYNASIL CORP OF AMERICA ', 'Comp_Name_DYNATRONICS INC ', 'Comp_Name_DYNCORP ', 'Comp_Name_DYNETICS INC ', 'Comp_Name_E SYSTEMS INC ', 'Comp_Name_EAC INDUSTRIES INC ', 'Comp_Name_EAGLE EXPLORATION CO ', 'Comp_Name_EAGLE FOOD CENTERS INC ', 'Comp_Name_EAGLE GROWTH SHARES INC ', 'Comp_Name_EAGLE GROWTH SHARES INVESTING PROGRAMS ', 'Comp_Name_EAGLE PICHER INC ', 'Comp_Name_EALING CORP ', 'Comp_Name_EARTH SCIENCES INC ', 'Comp_Name_EARTHGRAINS CO ', 'Comp_Name_EAST COAST ELECTRIC CO ', 'Comp_Name_EAST TENNESSEE NATURAL GAS CO ', 'Comp_Name_EASTCO INDUSTRIAL SAFETY CORP ', 'Comp_Name_EASTERN AIR LINES INC ', 'Comp_Name_EASTERN CO ', 'Comp_Name_EASTERN EDISON CO ', 'Comp_Name_EASTERN GAS & WATER INVESTMENT CO ', 'Comp_Name_EASTERN UTILITIES ASSOCIATES ', 'Comp_Name_EASTERN UTILITIES INVESTING CORP ', 'Comp_Name_EASTMAN KODAK CO ', 'Comp_Name_EATON CORP ', 'Comp_Name_EATON VANCE CASH MANAGEMENT FUND ', 'Comp_Name_EATON VANCE SECURITIES TRUST ', 'Comp_Name_EATON VANCE SPECIAL INVESTMENT TRUST ', 'Comp_Name_ECC INTERNATIONAL CORP ', 'Comp_Name_ECHELON CORP ', 'Comp_Name_ECHLIN INC ', 'Comp_Name_ECKERD CORP ', 'Comp_Name_ECOLAB INC. ', 'Comp_Name_ECON O PAY INC ', 'Comp_Name_ECONOMIC DEVELOPMENT CORP ', 'Comp_Name_ECONOMOU FINANCIAL & DEVELOPMENT CORP ', 'Comp_Name_EDGE LTD ', 'Comp_Name_EDGEWOOD MANAGEMENT CO /ADV ', 'Comp_Name_EDISON BROTHERS STORES INC ', 'Comp_Name_EDISON SAULT ELECTRIC CO ', 'Comp_Name_EDO CORP ', 'Comp_Name_EDUCATIONAL DEVELOPMENT CORP ', 'Comp_Name_EDWARDS & HAMLY PARTICIPATIONS ', 'Comp_Name_EDWARDS ROBERT ', 'Comp_Name_EG&G INC ', 'Comp_Name_EICO ELECTRONIC INSTRUMENT CO INC ', 'Comp_Name_EIP MICROWAVE INC ', 'Comp_Name_EIS INTERNATIONAL INC /DE/ ', 'Comp_Name_EISAI CO LTD/ADR ', 'Comp_Name_EKCO GROUP INC /DE/ ', 'Comp_Name_EL CHEM MACHINERY INC ', 'Comp_Name_EL PASO CO ', 'Comp_Name_EL PASO ELECTRIC CO /TX/ ', 'Comp_Name_EL PASO NATURAL GAS CO ', 'Comp_Name_ELCO INDUSTRIES INC ', 'Comp_Name_ELCO SECURITIES ', 'Comp_Name_ELCOR CORP ', 'Comp_Name_ELDER BEERMAN STORES CORP ', 'Comp_Name_ELECTRIC M & R INC ', 'Comp_Name_ELECTRO CATHETER CORP ', 'Comp_Name_ELECTRO RENT CORP ', 'Comp_Name_ELECTROMAGNETIC SCIENCES INC ', 'Comp_Name_ELECTRONIC DATA SYSTEMS CORP ', 'Comp_Name_ELECTRONICS MISSILES & COMMUNICATIONS INC ', 'Comp_Name_ELFUN TRUSTS ', 'Comp_Name_ELGIN NATIONAL INDUSTRIES INC ', 'Comp_Name_ELIZABETHTOWN GAS CO ', 'Comp_Name_ELIZABETHTOWN WATER CO /NJ/ ', 'Comp_Name_ELK HORN COAL CORP ', 'Comp_Name_ELSCINT LTD ', 'Comp_Name_EMC ENERGIES INC ', 'Comp_Name_EMERSON ELECTRIC CO ', 'Comp_Name_EMERSON RADIO CORP ', 'Comp_Name_EMEX CORP ', 'Comp_Name_EMONS TRANSPORTATION GROUP INC ', 'Comp_Name_EMPIRE DISTRICT ELECTRIC CO ', 'Comp_Name_EMPIRE GAS CORP /MO/ ', 'Comp_Name_EMPIRE SECURITIES CORPORATION OF SOUTHERN CALIFORNIA ', 'Comp_Name_EMPIRE STATE BUILDING ASSOCIATES L.L.C. ', 'Comp_Name_EMPLOYERS LIFE INSURANCE CO ', 'Comp_Name_ENDOWMENTS /DE ', 'Comp_Name_ENERGETICS INC/DE ', 'Comp_Name_ENERGY CONVERSION DEVICES INC ', 'Comp_Name_ENERGY CONVERSION DEVICES PLC ', 'Comp_Name_ENERGY CORP OF AMERICA ', 'Comp_Name_ENERGY RECOVERY INC ', 'Comp_Name_ENERGY RESERVES GROUP INC ', 'Comp_Name_ENERGY VENTURES INC /DE/ ', 'Comp_Name_ENGEL JOHN WILLIAM /BD ', 'Comp_Name_ENGELMAN SECURITIES INC /BD ', 'Comp_Name_ENGEMANN ASSET MANAGEMENT ', 'Comp_Name_ENGEX INC ', 'Comp_Name_ENNIS BUSINESS FORMS INC ', 'Comp_Name_ENSERCH CORP ', 'Comp_Name_ENTERPRISE GROUP OF FUNDS II INC ', 'Comp_Name_ENTRX CORP ', 'Comp_Name_ENTWISTLE CO ', 'Comp_Name_ENVIRODYNE INDUSTRIES INC ', 'Comp_Name_ENVIRONMENT ONE CORP ', 'Comp_Name_ENVIRONMENTAL TECTONICS CORP ', 'Comp_Name_EON CORP ', 'Comp_Name_EPKO SHOES INC PLANS ', 'Comp_Name_EQT CORP ', 'Comp_Name_EQUIFAX INC ', 'Comp_Name_EQUITABLE TRUST CO ', 'Comp_Name_EQUITRUST SERIES FUND INC ', 'Comp_Name_EQUITY OIL CO ', 'Comp_Name_EQUITY PLANNING SECURITIES CORP /BD ', 'Comp_Name_EQUITY SERVICES, INC. ', 'Comp_Name_ERICO PRODUCTS INC ', 'Comp_Name_ERIE COUNTY INVESTMENT CO /CO/ ', 'Comp_Name_ERIE FAMILY LIFE INSURANCE CO ', 'Comp_Name_ERLY INDUSTRIES INC ', 'Comp_Name_ERO INDUSTRIES INC ', 'Comp_Name_ESCALADE INC ', 'Comp_Name_ESMARK INC ', 'Comp_Name_ESPEY MANUFACTURING & ELECTRONICS CORP ', 'Comp_Name_ESQUIRE RADIO & ELECTRONICS INC ', 'Comp_Name_ESSEX GROUP INC ', 'Comp_Name_ESTABROOK CAPITAL MANAGEMENT INC ', 'Comp_Name_ESTERLINE TECHNOLOGIES CORP ', 'Comp_Name_ETHYL CORP ', 'Comp_Name_ETZ LAVUD LTD ', 'Comp_Name_EUA SERVICE CORP ', 'Comp_Name_EUROLINK SECURITIES INC. ', 'Comp_Name_EUROPEAN AMERICAN BANK /MSD ', 'Comp_Name_EUROPEAN INVESTMENT BANK ', 'Comp_Name_EVANS INC ', 'Comp_Name_EVANS ROGER ', 'Comp_Name_EVEREST & JENNINGS INTERNATIONAL LTD ', 'Comp_Name_EXCALIBUR HOLDINGS INC ', 'Comp_Name_EXCHANGE CORP ', 'Comp_Name_EXCHANGE FUND OF BOSTON INC ', 'Comp_Name_EXETER & HAMPTON ELECTRIC CO ', 'Comp_Name_EXOLON ESK CO ', 'Comp_Name_EXOTECH INC ', 'Comp_Name_EXOTICO INC ', 'Comp_Name_EXXON CORP ', 'Comp_Name_F&M NATIONAL CORP ', 'Comp_Name_F&M TAX EXEMPT BOND FUND FIRST SERIES ', 'Comp_Name_FAB INDUSTRIES INC ', 'Comp_Name_FABRI CENTERS OF AMERICA INC ', 'Comp_Name_FAGENSON & CO., INC. ', 'Comp_Name_FAIR GROUNDS CORP ', 'Comp_Name_FAIRCHILD CORP ', 'Comp_Name_FAIRCHILD INDUSTRIES INC /DE/ ', 'Comp_Name_FAIRMOUNT CHEMICAL CO INC ', 'Comp_Name_FALCON PRODUCTS INC /DE/ ', 'Comp_Name_FALCONBRIDGE LTD ', 'Comp_Name_FALL RIVER GAS CO ', 'Comp_Name_FAM DISTRIBUTORS INC /BD ', 'Comp_Name_FAMILY DOLLAR STORES INC ', 'Comp_Name_FAMILY INCOME PLANNING INC /BD ', 'Comp_Name_FANSTEEL INC ', 'Comp_Name_FARAH INC ', 'Comp_Name_FARM FISH INC ', 'Comp_Name_FARMER BROTHERS CO ', 'Comp_Name_FARMERS GROUP INC ', 'Comp_Name_FARMLAND INDUSTRIES INC ', 'Comp_Name_FARMLAND SECURITIES CO /BD ', 'Comp_Name_FARR CO ', 'Comp_Name_FARREL CORP ', 'Comp_Name_FAYS INC ', 'Comp_Name_FAYS PLC ', 'Comp_Name_FEDERAL INSURANCE CO ', 'Comp_Name_FEDERAL KEMPER LIFE ASSURANCE CO ', 'Comp_Name_FEDERAL LIFE INSURANCE CO ', 'Comp_Name_FEDERAL LIFE VARIABLE ANNUITY ACCOUNT A ', 'Comp_Name_FEDERAL MOGUL CORP/MI/ ', 'Comp_Name_FEDERAL MORTGAGE CORP OF PUERTO RICO ', 'Comp_Name_FEDERAL PAPER BOARD CO INC ', 'Comp_Name_FEDERAL REALTY INVESTMENT TRUST ', 'Comp_Name_FEDERAL RESOURCES CORP ', 'Comp_Name_FEDERAL SCREW WORKS ', 'Comp_Name_FEDERATED ASSET ALLOCATION FUND ', 'Comp_Name_FEDERATED DEPARTMENT STORES INC ', 'Comp_Name_FEDERATED EXCHANGE FUND LTD ', 'Comp_Name_FEDERATED PURCHASER INC ', 'Comp_Name_FEDERATED SECURITIES CORP /BD ', 'Comp_Name_FEDERATED SECURITIES INC /BD ', 'Comp_Name_FELDT MANUFACTURING CO INC ', 'Comp_Name_FERGUSON ENTERPRISES INC ', 'Comp_Name_FERGUSON MARSHALL M ', 'Comp_Name_FERRIS BAKER WATTS INC /BD ', 'Comp_Name_FERRO CORP ', 'Comp_Name_FERRY CAP & SET SCREW CO ', 'Comp_Name_FERTIGHAUS DEVELOPMENT CORP ', 'Comp_Name_FIAT S P A /ADR/ ', 'Comp_Name_FIDELITY CAPITAL FUND INC ', 'Comp_Name_FIDELITY CAPITAL INVESTMENT PLANS ', 'Comp_Name_FIDELITY CONGRESS STREET FUND ', 'Comp_Name_FIDELITY CONTRAFUND ', 'Comp_Name_FIDELITY DESTINY PORTFOLIOS ', 'Comp_Name_FIDELITY DEVONSHIRE TRUST ', 'Comp_Name_FIDELITY DISTRIBUTORS CORPORATION ', 'Comp_Name_FIDELITY FIXED INCOME TRUST ', 'Comp_Name_FIDELITY HASTINGS STREET TRUST ', 'Comp_Name_FIDELITY INCOME FUND ', 'Comp_Name_FIDELITY MANAGEMENT & RESEARCH CO/MA/ ', 'Comp_Name_FIDELITY MUNICIPAL TRUST ', 'Comp_Name_FIDELITY SYSTEMATIC INVESTMENT PLANS ', 'Comp_Name_FIDELITY TREND FUND ', 'Comp_Name_FIDELITY TREND INVESTMENT PLANS ', 'Comp_Name_FIDELITY UNION STREET TRUST ', 'Comp_Name_FIDUCIARY COUNSELLING INC /ADV ', 'Comp_Name_FIDUCIARY EXCHANGE FUND INC ', 'Comp_Name_FIDUCIARY MANAGEMENT ASSOCIATES ', 'Comp_Name_FIDUCIARY TRUST CO ', 'Comp_Name_FIELDCREST CANNON INC ', 'Comp_Name_FIFTH AVENUE SECURITIES CORP ', 'Comp_Name_FIFTH DIMENSION INC ', 'Comp_Name_FIFTH THIRD BANCORP ', 'Comp_Name_FIFTH THIRD BANK ', 'Comp_Name_FINA INC ', 'Comp_Name_FINANCE CO OF PENNSYLVANIA ', 'Comp_Name_FINANCE CORP ', 'Comp_Name_FINANCE ENTERPRISES INC ', 'Comp_Name_FINANCIAL AMERICA SECURITIES INC /BD ', 'Comp_Name_FINANCIAL CORP OF SANTA BARBARA ', 'Comp_Name_FIRST INVESTORS SGL P&PPP FOR THE ACCU OF SH OF AMCAP FD INC ', 'Comp_Name_FIRST INVESTORS SGL P&PPP FOR THE ACCU OF SH OF AMCAP FD INC. ', 'Comp_Name_FIRST LEXINGTON CAPITAL CORP /ADV ', 'Comp_Name_FIRST WILSHIRE SECURITIES MANAGEMENT, INC. ', 'Comp_Name_FLANIGANS ENTERPRISES INC ', 'Comp_Name_FOOTHILL SECURITIES, INC. ', 'Comp_Name_FOREMOST CORP OF AMERICA ', 'Comp_Name_FORUM GROUP INC ', 'Comp_Name_FRANK CHAPPELLE & CO INC /BD ', 'Comp_Name_FRANKLIN ASSET ALLOCATION FUND ', 'Comp_Name_FUTURE COMMUNICATIONS INC ', 'Comp_Name_GENESCO INC ', 'Comp_Name_GOLDSMITH MILTON T /BD ', 'Comp_Name_GORDON HASKETT & CO /BD ', 'Comp_Name_GOVETT STRATEGIC INVESTMENT TRUST PLC /ADR/ ', 'Comp_Name_GREATE BAY CASINO CORP ', 'Comp_Name_GREEN DANIEL CO ', 'Comp_Name_GRISTEDES FOODS INC ', 'Comp_Name_GROSSMANS INC ', 'Comp_Name_H&R BLOCK INC ', 'Comp_Name_HANCOCK JOHN CURRENT INTEREST ', 'Comp_Name_HANCOCK JOHN INVESTMENT TRUST /MA/ ', 'Comp_Name_HAPOALIM SECURITIES USA, INC. ', 'Comp_Name_HARNISCHFEGER CORP /DE/ ', 'Comp_Name_HILLSHIRE BRANDS CO ', 'Comp_Name_HMS SECURITIES INC. ', 'Comp_Name_HORACE MANN LIFE INSURANCE CO ALLEGIANCE SEPARATE ACCOUNT A ', 'Comp_Name_HOWLAND CAPITAL MANAGEMENT INC /ADV ', 'Comp_Name_HUNTER RESOURCES INC ', 'Comp_Name_HYDRON TECHNOLOGIES INC ', 'Comp_Name_IMPALA PLATINUM HOLDINGS LTD/ADR/ ', 'Comp_Name_INDUSTRIAL SERVICES OF AMERICA INC /FL ', 'Comp_Name_ING CORPORATE LEADERS TRUST ', 'Comp_Name_INTERNET LAW LIBRARY INC ', 'Comp_Name_INTERSTATE BRANDS CORP/DE ', 'Comp_Name_INVESCO ADVISERS, INC. ', 'Comp_Name_IREX CORP ', 'Comp_Name_J D ANDREWS CO /BD ', 'Comp_Name_JULIUS BAER SECURITIES INC. ', 'Comp_Name_K TRON INTERNATIONAL INC ', 'Comp_Name_K. W. CHAMBERS & CO. ', 'Comp_Name_KCCI, LIMITED. ', 'Comp_Name_KCCI, LTD. ', 'Comp_Name_KELLER BRUCE /ADV ', 'Comp_Name_KEYSTONE LIQUID TRUST ', 'Comp_Name_L3 COMMUNICATIONS TITAN CORP ', 'Comp_Name_LAKE COLLEGE LLC ', 'Comp_Name_LANGDON P COOK & CO INC ', 'Comp_Name_LATSHAW ENTERPRISES INC /KS/ ', 'Comp_Name_LEXINGTON PRECISION CORP ', 'Comp_Name_LIFECORE BIOMEDICAL INC ', 'Comp_Name_LINCOLN FINANCIAL DISTRIBUTORS, INC. ', 'Comp_Name_LOCKER IRVING /BD ', 'Comp_Name_LOCUST STREET SECURITIES, INC. ', 'Comp_Name_LOWE BROCKENBROUGH & CO INC ', 'Comp_Name_LUBYS CAFETERIAS INC ', 'Comp_Name_LUMIERE SECURITIES INC ', 'Comp_Name_LYNTON GROUP INC ', 'Comp_Name_MAGNETIC TECHNOLOGIES CORP ', 'Comp_Name_MEDICORE INC ', 'Comp_Name_MINSTAR INC ', 'Comp_Name_MUFG UNION BANK, N.A. ', 'Comp_Name_MUTUAL BEACON FUND INC ', 'Comp_Name_NATIONAL WORLDWIDE OPPORTUNITIES FUND INC ', 'Comp_Name_NEW YORK MUNICIPAL TRUST SERIES 15 ', 'Comp_Name_NUVEEN TAX EXEMPT UNIT TRUST SERIES 169 NATIONAL TRUST 169 ', 'Comp_Name_O&Y PROPERTIES CORP ', 'Comp_Name_OAKHILL SPORTSWEAR CORP /NY/ ', 'Comp_Name_OMNICOM GROUP INC. ', 'Comp_Name_ONEAMERICA SECURITIES, INC. ', 'Comp_Name_ORANGE CO INC /FL/ ', 'Comp_Name_ORION DIVERSIFIED TECHNOLOGIES INC ', 'Comp_Name_ORION PICTURES CORP ', 'Comp_Name_OXYGEN BIOTHERAPEUTICS, INC. ', 'Comp_Name_PERRY & CO ', 'Comp_Name_PERSHING LLC ', 'Comp_Name_PH GROUP INC ', 'Comp_Name_PHOENIX INVESTMENT COUNSEL INC ', 'Comp_Name_PHOENIX SERIES FUND ', 'Comp_Name_PRINCIPAL CAPITAL ACCUMULATION FUND INC ', 'Comp_Name_PRINCIPAL CAPITAL VALUE FUND INC ', 'Comp_Name_PRINCIPAL GROWTH FUND INC /MD/ ', 'Comp_Name_PRINCIPAL LIFE INSURANCE CO ', 'Comp_Name_PRINCIPAL LIFE INSURANCE CO SEPARATE ACCOUNT B ', 'Comp_Name_PRINCIPAL SECURITIES, INC. ', 'Comp_Name_PROSPERA FINANCIAL SERVICES, INC. ', 'Comp_Name_PROVIDENT COMPANIES INC /DE/ ', 'Comp_Name_PYRAMID FUNDS CORP /BD ', 'Comp_Name_QUIXOTE CORP ', 'Comp_Name_R. W. ELLWOOD & CO., INC. ', 'Comp_Name_RANGER INDUSTRIES INC ', 'Comp_Name_RANGER INDUSTRIES PLC ', 'Comp_Name_RBC CAPITAL MARKETS CORPORATION ', 'Comp_Name_RELIABILITY INC ', 'Comp_Name_REUNION RESOURCES CO ', 'Comp_Name_REXAM PLC /ADR/ ', 'Comp_Name_ROBERT W. BAIRD & CO. INC ', 'Comp_Name_ROYAL LANE SECURITIES INC /BD ', 'Comp_Name_S. B. CANTOR & CO., INC. ', 'Comp_Name_S.W. CHILDS MANAGEMENT CORPORATION ', 'Comp_Name_SCHRODER CAPITAL FUNDS (DELAWARE) ', 'Comp_Name_SCIOTO INVESTMENT CO ', 'Comp_Name_SCOTT & STRINGFELLOW, INC. ', 'Comp_Name_SELIGMAN COMMON STOCK FUND INC ', 'Comp_Name_SEPARATE ACCOUNT VA B OF ALLMERICA FINAN LFE INS & ANN CO ', 'Comp_Name_SEPARATE ACCOUNT VA C OF ALLMERICA FINAN LFE INS & ANN CO ', 'Comp_Name_SEYMOUR CHAPNICK /BD ', 'Comp_Name_SHARE FINANCIAL SERVICES INC /BD ', 'Comp_Name_SHELBY CULLOM DAVIS & CO LP /BD ', 'Comp_Name_SIGNET BANKING CORP ', 'Comp_Name_SMITH BROWN & GROOVER INC ', 'Comp_Name_SOUTHWESTERN ENERGY CO ', 'Comp_Name_STATE BOND DIVERSIFIED FUND INC ', 'Comp_Name_STATE STREET GROWTH TRUST ', 'Comp_Name_STRAND ATKINSON WILLIAMS & YORK INC /BD ', 'Comp_Name_STRATTON MONTHLY DIVIDEND REIT SHARES INC ', 'Comp_Name_SUNBEAM CORP/FL/ ', 'Comp_Name_SUNTRUST CAPITAL MARKETS INC /BD ', 'Comp_Name_SYNOVUS FINANCIAL CORP ', 'Comp_Name_TEXAS AMERICAN RESOURCES INC ', 'Comp_Name_TEXAS NEW MEXICO POWER CO ', 'Comp_Name_THOMSON RICHARD WILLIAM /BD ', 'Comp_Name_THOR ENERGY RESOURCES INC ', 'Comp_Name_THREE D DEPARTMENTS INC ', 'Comp_Name_THREE FIVE SYSTEMS INC ', 'Comp_Name_TOUCHSTONE SECURITIES INC/OH/ ', 'Comp_Name_TRANZONIC COMPANIES ', 'Comp_Name_TRI VALLEY CORP ', 'Comp_Name_TRIARC COMPANIES INC ', 'Comp_Name_TRIZAK CORP ', 'Comp_Name_TRUST FOR FEDERAL SECURITIES ', 'Comp_Name_TWENTY SERVICES INC ', 'Comp_Name_U HAUL INTERNATIONAL INC ', 'Comp_Name_UC CORP ', 'Comp_Name_UNITED DOMINION INDUSTRIES LIMITED ', 'Comp_Name_UNITED MAGAZINE CO ', 'Comp_Name_UNITED NEW MEXICO FINANCIAL CORP ', 'Comp_Name_UNITED VANGUARD HOMES INC /DE ', 'Comp_Name_UNIVERSAL FRANCHISE OPPORTUNITIES CORP ', 'Comp_Name_UNIVEST INVESTMENTS INC /BD ', 'Comp_Name_VALERO ENERGY CORP ', 'Comp_Name_VANGUARD EXPLORER FUND INC ', 'Comp_Name_VINLAND PROPERTY TRUST ', 'Comp_Name_WARBURG PINCUS ASSET MANAGEMENT INC ', 'Comp_Name_WEATHERFORD ENTERRA INC ', 'Comp_Name_WELLS FARGO BANK NA /TA ', 'Comp_Name_WELLS FARGO INSTITUTIONAL SECURITIES, LLC ', 'Comp_Name_WESTFORD GROUP INC ', 'Comp_Name_WESTMINSTER CAPITAL INC ', 'Comp_Name_WILLIAM BLAIR & COMPANY L.L.C. ', 'Comp_Name_WORLD WIDE LTD ', 'Comp_Name_WPG GROWTH & INCOME FUND ', 'Month_ Apr', 'Month_ Aug', 'Month_ Dec', 'Month_ Feb', 'Month_ Jan', 'Month_ Jul', 'Month_ Jun', 'Month_ Mar', 'Month_ May', 'Month_ Nov', 'Month_ Oct', 'Month_ Sep', 'Year_2000 ', 'Year_2001 ', 'Year_2002 ', 'Year_2003 ', 'Year_2004 ', 'Year_2005 ', 'Year_2006 ', 'Year_2007 ', 'Year_2008 ', 'Year_2009 ', 'Year_2010 ', 'Year_2011 ', 'Year_2012 ', 'Year_2013 ', 'Year_2014 ', 'Year_2015 ', 'Year_2016 ', 'Year_2017 ', 'Year_2018 ', 'Year_2019 ', 'Group_ Corporate Services Commercial Insurance Building and Property Insurance Building and Property Insurance', \"Group_ Corporate Services Commercial Insurance Workmen's Insurance Workmen's Insurance\", 'Group_ Corporate Services Consulting Finance Consulting Audit & Risk Consulting', 'Group_ Corporate Services Human Resources Benefits Life and Health and Accident Insurance', 'Group_ Corporate Services Human Resources Benefits Retirement and Pension Funds', 'Group_ Corporate Services Human Resources Contingent Labor/Temp Labor Contingent Labor/Temp Labor', 'Group_ Corporate Services Other Corporate Services Auto Leasing and Maintenance Auto Fleet Repair and Maintenance', 'Group_ Corporate Services Other Corporate Services Auto Leasing and Maintenance Auto Leasing', 'Group_ Digital Paid Media Media Buy  Mobile or EMail Direct EMessaging Media Buy', 'Group_ Digital Paid Media Media Buy  Social Paid Social  Content Production with Influencer', 'Group_ Events and Promotions Agency Fees & Commissions Public Relations Agency', 'Group_ Events and Promotions Trade Show Expenses Promotional Gift for Trade Show', 'Group_ Events and Promotions Trade Show Expenses Talent, Artists & Models for Trade Show', 'Group_ Facility Construction General Contractor General Requirements Final Site Clean Up', 'Group_ Facility Management Real Estate Lease/Rent Base Rent', 'Group_ Facility Management Real Estate Real Estate Services Real Estate General (Search, Appraisal, Realtor Commission)', 'Group_ Information Technology Managed Services IT Managed Services IT Managed Services', 'Group_ National Advertising Media Buy  Traditional Catalogue', 'Group_ National Advertising Media Buy  Traditional Magazines', 'Group_ National Advertising Media Buy  Traditional Newspaper', 'Group_ National Advertising Media Buy  Traditional Outdoor/Out of Home', 'Group_ National Advertising Media Buy  Traditional Television', 'Group_ NonProcurable Charity Organizations Charity Organizations Charity Organizations', 'Group_ NonProcurable Miscellaneous NonProcurable Royalties Royalties', 'Group_ NonProcurable Taxes Taxes Taxes', 'Group_ Printed Collateral Direct Mail Post Card/Mailer', 'Group_ Printed Collateral Miscellaneous Printed Materials Miscellaneous Printed Materials', 'Group_ Production Agency Fees & Commissions Other Agency', 'Group_ Production Agency Fees & Commissions Search Agency', 'Group_ Production Artworking/Typesetting Prototype and Comp Production/Packaging Design', 'Group_ Production Digital/Social Digital Display', 'Group_ Store Construction Fixtures Store Fixtures Store Fixtures', 'Group_ Store Construction General Contractor General Requirements Final Site Clean Up', 'Group_ Store Management Real Estate Lease/Rent Base Rent', 'Group_ Store Management Real Estate Real Estate Services Real Estate General (Search, Appraisal, Realtor Commission)', 'Group_ Supply Chain Logistics Transportation Services Freight Forwarders Services Other', 'Group_ Supply Chain Logistics Transportation Services Parcel/Postage/Courier', 'Group_ Travel and Entertainment Ground Transportation Miscellaneous Company Car (Field Only) Miscellaneous Company Car (Field Only)', 'Vendor_Code_filtered_1', 'Vendor_Code_filtered_10', 'Vendor_Code_filtered_100', 'Vendor_Code_filtered_1000', 'Vendor_Code_filtered_1001', 'Vendor_Code_filtered_1002', 'Vendor_Code_filtered_1003', 'Vendor_Code_filtered_1004', 'Vendor_Code_filtered_1005', 'Vendor_Code_filtered_1006', 'Vendor_Code_filtered_1007', 'Vendor_Code_filtered_1008', 'Vendor_Code_filtered_1009', 'Vendor_Code_filtered_101', 'Vendor_Code_filtered_1010', 'Vendor_Code_filtered_1011', 'Vendor_Code_filtered_1012', 'Vendor_Code_filtered_1013', 'Vendor_Code_filtered_1014', 'Vendor_Code_filtered_1015', 'Vendor_Code_filtered_1016', 'Vendor_Code_filtered_1017', 'Vendor_Code_filtered_1018', 'Vendor_Code_filtered_1019', 'Vendor_Code_filtered_102', 'Vendor_Code_filtered_1020', 'Vendor_Code_filtered_1021', 'Vendor_Code_filtered_1022', 'Vendor_Code_filtered_1023', 'Vendor_Code_filtered_1024', 'Vendor_Code_filtered_1025', 'Vendor_Code_filtered_1026', 'Vendor_Code_filtered_1027', 'Vendor_Code_filtered_1028', 'Vendor_Code_filtered_1029', 'Vendor_Code_filtered_103', 'Vendor_Code_filtered_1030', 'Vendor_Code_filtered_1031', 'Vendor_Code_filtered_1032', 'Vendor_Code_filtered_1033', 'Vendor_Code_filtered_1034', 'Vendor_Code_filtered_1035', 'Vendor_Code_filtered_1036', 'Vendor_Code_filtered_1037', 'Vendor_Code_filtered_1038', 'Vendor_Code_filtered_1039', 'Vendor_Code_filtered_104', 'Vendor_Code_filtered_1040', 'Vendor_Code_filtered_1041', 'Vendor_Code_filtered_1042', 'Vendor_Code_filtered_1043', 'Vendor_Code_filtered_1044', 'Vendor_Code_filtered_1045', 'Vendor_Code_filtered_1046', 'Vendor_Code_filtered_1047', 'Vendor_Code_filtered_1048', 'Vendor_Code_filtered_1049', 'Vendor_Code_filtered_105', 'Vendor_Code_filtered_1050', 'Vendor_Code_filtered_1051', 'Vendor_Code_filtered_1052', 'Vendor_Code_filtered_1053', 'Vendor_Code_filtered_1054', 'Vendor_Code_filtered_1055', 'Vendor_Code_filtered_1056', 'Vendor_Code_filtered_1057', 'Vendor_Code_filtered_1058', 'Vendor_Code_filtered_1059', 'Vendor_Code_filtered_106', 'Vendor_Code_filtered_1060', 'Vendor_Code_filtered_1061', 'Vendor_Code_filtered_1062', 'Vendor_Code_filtered_1063', 'Vendor_Code_filtered_1064', 'Vendor_Code_filtered_1065', 'Vendor_Code_filtered_1066', 'Vendor_Code_filtered_1067', 'Vendor_Code_filtered_1068', 'Vendor_Code_filtered_1069', 'Vendor_Code_filtered_107', 'Vendor_Code_filtered_1070', 'Vendor_Code_filtered_1071', 'Vendor_Code_filtered_1072', 'Vendor_Code_filtered_1073', 'Vendor_Code_filtered_1074', 'Vendor_Code_filtered_1075', 'Vendor_Code_filtered_1076', 'Vendor_Code_filtered_1077', 'Vendor_Code_filtered_1078', 'Vendor_Code_filtered_1079', 'Vendor_Code_filtered_108', 'Vendor_Code_filtered_1080', 'Vendor_Code_filtered_1081', 'Vendor_Code_filtered_1082', 'Vendor_Code_filtered_1083', 'Vendor_Code_filtered_1084', 'Vendor_Code_filtered_1085', 'Vendor_Code_filtered_1086', 'Vendor_Code_filtered_1087', 'Vendor_Code_filtered_1088', 'Vendor_Code_filtered_1089', 'Vendor_Code_filtered_109', 'Vendor_Code_filtered_1090', 'Vendor_Code_filtered_1091', 'Vendor_Code_filtered_1092', 'Vendor_Code_filtered_1093', 'Vendor_Code_filtered_1094', 'Vendor_Code_filtered_1095', 'Vendor_Code_filtered_1096', 'Vendor_Code_filtered_1097', 'Vendor_Code_filtered_1098', 'Vendor_Code_filtered_1099', 'Vendor_Code_filtered_11', 'Vendor_Code_filtered_110', 'Vendor_Code_filtered_1100', 'Vendor_Code_filtered_1101', 'Vendor_Code_filtered_1102', 'Vendor_Code_filtered_1103', 'Vendor_Code_filtered_1104', 'Vendor_Code_filtered_1105', 'Vendor_Code_filtered_1106', 'Vendor_Code_filtered_1107', 'Vendor_Code_filtered_1108', 'Vendor_Code_filtered_1109', 'Vendor_Code_filtered_111', 'Vendor_Code_filtered_1110', 'Vendor_Code_filtered_1111', 'Vendor_Code_filtered_1112', 'Vendor_Code_filtered_1113', 'Vendor_Code_filtered_1114', 'Vendor_Code_filtered_1115', 'Vendor_Code_filtered_1116', 'Vendor_Code_filtered_1117', 'Vendor_Code_filtered_1118', 'Vendor_Code_filtered_1119', 'Vendor_Code_filtered_112', 'Vendor_Code_filtered_1120', 'Vendor_Code_filtered_1121', 'Vendor_Code_filtered_1122', 'Vendor_Code_filtered_1123', 'Vendor_Code_filtered_1124', 'Vendor_Code_filtered_1125', 'Vendor_Code_filtered_1126', 'Vendor_Code_filtered_1127', 'Vendor_Code_filtered_1128', 'Vendor_Code_filtered_1129', 'Vendor_Code_filtered_113', 'Vendor_Code_filtered_1130', 'Vendor_Code_filtered_1131', 'Vendor_Code_filtered_1132', 'Vendor_Code_filtered_1133', 'Vendor_Code_filtered_1134', 'Vendor_Code_filtered_1135', 'Vendor_Code_filtered_1136', 'Vendor_Code_filtered_1137', 'Vendor_Code_filtered_1138', 'Vendor_Code_filtered_1139', 'Vendor_Code_filtered_114', 'Vendor_Code_filtered_1140', 'Vendor_Code_filtered_1141', 'Vendor_Code_filtered_1142', 'Vendor_Code_filtered_1143', 'Vendor_Code_filtered_1144', 'Vendor_Code_filtered_1145', 'Vendor_Code_filtered_1146', 'Vendor_Code_filtered_1147', 'Vendor_Code_filtered_1148', 'Vendor_Code_filtered_1149', 'Vendor_Code_filtered_115', 'Vendor_Code_filtered_1150', 'Vendor_Code_filtered_1151', 'Vendor_Code_filtered_1152', 'Vendor_Code_filtered_1153', 'Vendor_Code_filtered_1154', 'Vendor_Code_filtered_1155', 'Vendor_Code_filtered_1156', 'Vendor_Code_filtered_1157', 'Vendor_Code_filtered_1158', 'Vendor_Code_filtered_1159', 'Vendor_Code_filtered_116', 'Vendor_Code_filtered_1160', 'Vendor_Code_filtered_1161', 'Vendor_Code_filtered_1162', 'Vendor_Code_filtered_1163', 'Vendor_Code_filtered_1164', 'Vendor_Code_filtered_1165', 'Vendor_Code_filtered_1166', 'Vendor_Code_filtered_1167', 'Vendor_Code_filtered_1168', 'Vendor_Code_filtered_1169', 'Vendor_Code_filtered_117', 'Vendor_Code_filtered_1170', 'Vendor_Code_filtered_1171', 'Vendor_Code_filtered_1172', 'Vendor_Code_filtered_1173', 'Vendor_Code_filtered_1174', 'Vendor_Code_filtered_1175', 'Vendor_Code_filtered_1176', 'Vendor_Code_filtered_1177', 'Vendor_Code_filtered_1178', 'Vendor_Code_filtered_1179', 'Vendor_Code_filtered_118', 'Vendor_Code_filtered_1180', 'Vendor_Code_filtered_1181', 'Vendor_Code_filtered_1182', 'Vendor_Code_filtered_1183', 'Vendor_Code_filtered_1184', 'Vendor_Code_filtered_1185', 'Vendor_Code_filtered_1186', 'Vendor_Code_filtered_1187', 'Vendor_Code_filtered_1188', 'Vendor_Code_filtered_1189', 'Vendor_Code_filtered_119', 'Vendor_Code_filtered_1190', 'Vendor_Code_filtered_1191', 'Vendor_Code_filtered_1192', 'Vendor_Code_filtered_1193', 'Vendor_Code_filtered_1194', 'Vendor_Code_filtered_1195', 'Vendor_Code_filtered_1196', 'Vendor_Code_filtered_1197', 'Vendor_Code_filtered_1198', 'Vendor_Code_filtered_1199', 'Vendor_Code_filtered_12', 'Vendor_Code_filtered_120', 'Vendor_Code_filtered_1200', 'Vendor_Code_filtered_1201', 'Vendor_Code_filtered_1202', 'Vendor_Code_filtered_1203', 'Vendor_Code_filtered_1204', 'Vendor_Code_filtered_1205', 'Vendor_Code_filtered_1206', 'Vendor_Code_filtered_1207', 'Vendor_Code_filtered_1208', 'Vendor_Code_filtered_1209', 'Vendor_Code_filtered_121', 'Vendor_Code_filtered_1210', 'Vendor_Code_filtered_1211', 'Vendor_Code_filtered_1212', 'Vendor_Code_filtered_1213', 'Vendor_Code_filtered_1214', 'Vendor_Code_filtered_1215', 'Vendor_Code_filtered_1216', 'Vendor_Code_filtered_1217', 'Vendor_Code_filtered_1218', 'Vendor_Code_filtered_1219', 'Vendor_Code_filtered_122', 'Vendor_Code_filtered_1220', 'Vendor_Code_filtered_1221', 'Vendor_Code_filtered_1222', 'Vendor_Code_filtered_1223', 'Vendor_Code_filtered_1224', 'Vendor_Code_filtered_1225', 'Vendor_Code_filtered_1226', 'Vendor_Code_filtered_1227', 'Vendor_Code_filtered_1228', 'Vendor_Code_filtered_1229', 'Vendor_Code_filtered_123', 'Vendor_Code_filtered_1230', 'Vendor_Code_filtered_1231', 'Vendor_Code_filtered_1232', 'Vendor_Code_filtered_1233', 'Vendor_Code_filtered_1234', 'Vendor_Code_filtered_1235', 'Vendor_Code_filtered_1236', 'Vendor_Code_filtered_1237', 'Vendor_Code_filtered_1238', 'Vendor_Code_filtered_1239', 'Vendor_Code_filtered_124', 'Vendor_Code_filtered_1240', 'Vendor_Code_filtered_1241', 'Vendor_Code_filtered_1242', 'Vendor_Code_filtered_1243', 'Vendor_Code_filtered_1244', 'Vendor_Code_filtered_1245', 'Vendor_Code_filtered_1246', 'Vendor_Code_filtered_1247', 'Vendor_Code_filtered_1248', 'Vendor_Code_filtered_1249', 'Vendor_Code_filtered_125', 'Vendor_Code_filtered_1250', 'Vendor_Code_filtered_1251', 'Vendor_Code_filtered_1252', 'Vendor_Code_filtered_1253', 'Vendor_Code_filtered_1254', 'Vendor_Code_filtered_1255', 'Vendor_Code_filtered_1256', 'Vendor_Code_filtered_1257', 'Vendor_Code_filtered_1258', 'Vendor_Code_filtered_1259', 'Vendor_Code_filtered_126', 'Vendor_Code_filtered_1260', 'Vendor_Code_filtered_1261', 'Vendor_Code_filtered_1262', 'Vendor_Code_filtered_1263', 'Vendor_Code_filtered_1264', 'Vendor_Code_filtered_1265', 'Vendor_Code_filtered_1266', 'Vendor_Code_filtered_1267', 'Vendor_Code_filtered_1268', 'Vendor_Code_filtered_1269', 'Vendor_Code_filtered_127', 'Vendor_Code_filtered_1270', 'Vendor_Code_filtered_1271', 'Vendor_Code_filtered_1272', 'Vendor_Code_filtered_1273', 'Vendor_Code_filtered_1274', 'Vendor_Code_filtered_1275', 'Vendor_Code_filtered_1276', 'Vendor_Code_filtered_1277', 'Vendor_Code_filtered_1278', 'Vendor_Code_filtered_1279', 'Vendor_Code_filtered_128', 'Vendor_Code_filtered_1280', 'Vendor_Code_filtered_1281', 'Vendor_Code_filtered_1282', 'Vendor_Code_filtered_1283', 'Vendor_Code_filtered_1284', 'Vendor_Code_filtered_1285', 'Vendor_Code_filtered_1286', 'Vendor_Code_filtered_1287', 'Vendor_Code_filtered_1288', 'Vendor_Code_filtered_1289', 'Vendor_Code_filtered_129', 'Vendor_Code_filtered_1290', 'Vendor_Code_filtered_1291', 'Vendor_Code_filtered_1292', 'Vendor_Code_filtered_1293', 'Vendor_Code_filtered_1294', 'Vendor_Code_filtered_1295', 'Vendor_Code_filtered_1296', 'Vendor_Code_filtered_1297', 'Vendor_Code_filtered_1298', 'Vendor_Code_filtered_1299', 'Vendor_Code_filtered_13', 'Vendor_Code_filtered_130', 'Vendor_Code_filtered_1300', 'Vendor_Code_filtered_1301', 'Vendor_Code_filtered_1302', 'Vendor_Code_filtered_1303', 'Vendor_Code_filtered_1304', 'Vendor_Code_filtered_1305', 'Vendor_Code_filtered_1306', 'Vendor_Code_filtered_1307', 'Vendor_Code_filtered_1308', 'Vendor_Code_filtered_1309', 'Vendor_Code_filtered_131', 'Vendor_Code_filtered_1310', 'Vendor_Code_filtered_1311', 'Vendor_Code_filtered_1312', 'Vendor_Code_filtered_1313', 'Vendor_Code_filtered_1314', 'Vendor_Code_filtered_1315', 'Vendor_Code_filtered_1316', 'Vendor_Code_filtered_1317', 'Vendor_Code_filtered_1318', 'Vendor_Code_filtered_1319', 'Vendor_Code_filtered_132', 'Vendor_Code_filtered_1320', 'Vendor_Code_filtered_1321', 'Vendor_Code_filtered_1322', 'Vendor_Code_filtered_1323', 'Vendor_Code_filtered_1324', 'Vendor_Code_filtered_1325', 'Vendor_Code_filtered_1326', 'Vendor_Code_filtered_1327', 'Vendor_Code_filtered_1328', 'Vendor_Code_filtered_1329', 'Vendor_Code_filtered_133', 'Vendor_Code_filtered_1330', 'Vendor_Code_filtered_1331', 'Vendor_Code_filtered_1332', 'Vendor_Code_filtered_1333', 'Vendor_Code_filtered_1334', 'Vendor_Code_filtered_1335', 'Vendor_Code_filtered_1336', 'Vendor_Code_filtered_1337', 'Vendor_Code_filtered_1338', 'Vendor_Code_filtered_1339', 'Vendor_Code_filtered_134', 'Vendor_Code_filtered_1340', 'Vendor_Code_filtered_1341', 'Vendor_Code_filtered_1342', 'Vendor_Code_filtered_1343', 'Vendor_Code_filtered_1344', 'Vendor_Code_filtered_1345', 'Vendor_Code_filtered_1346', 'Vendor_Code_filtered_1347', 'Vendor_Code_filtered_1348', 'Vendor_Code_filtered_1349', 'Vendor_Code_filtered_135', 'Vendor_Code_filtered_1350', 'Vendor_Code_filtered_1351', 'Vendor_Code_filtered_1352', 'Vendor_Code_filtered_1353', 'Vendor_Code_filtered_1354', 'Vendor_Code_filtered_1355', 'Vendor_Code_filtered_1356', 'Vendor_Code_filtered_1357', 'Vendor_Code_filtered_1358', 'Vendor_Code_filtered_1359', 'Vendor_Code_filtered_136', 'Vendor_Code_filtered_1360', 'Vendor_Code_filtered_1361', 'Vendor_Code_filtered_1362', 'Vendor_Code_filtered_1363', 'Vendor_Code_filtered_1364', 'Vendor_Code_filtered_1365', 'Vendor_Code_filtered_1366', 'Vendor_Code_filtered_1367', 'Vendor_Code_filtered_1368', 'Vendor_Code_filtered_1369', 'Vendor_Code_filtered_137', 'Vendor_Code_filtered_1370', 'Vendor_Code_filtered_1371', 'Vendor_Code_filtered_1372', 'Vendor_Code_filtered_1373', 'Vendor_Code_filtered_1374', 'Vendor_Code_filtered_1375', 'Vendor_Code_filtered_1376', 'Vendor_Code_filtered_1377', 'Vendor_Code_filtered_1378', 'Vendor_Code_filtered_1379', 'Vendor_Code_filtered_138', 'Vendor_Code_filtered_1380', 'Vendor_Code_filtered_1381', 'Vendor_Code_filtered_1382', 'Vendor_Code_filtered_1383', 'Vendor_Code_filtered_1384', 'Vendor_Code_filtered_1385', 'Vendor_Code_filtered_1386', 'Vendor_Code_filtered_1387', 'Vendor_Code_filtered_1388', 'Vendor_Code_filtered_1389', 'Vendor_Code_filtered_139', 'Vendor_Code_filtered_1390', 'Vendor_Code_filtered_1391', 'Vendor_Code_filtered_1392', 'Vendor_Code_filtered_1393', 'Vendor_Code_filtered_1394', 'Vendor_Code_filtered_1395', 'Vendor_Code_filtered_1396', 'Vendor_Code_filtered_1397', 'Vendor_Code_filtered_1398', 'Vendor_Code_filtered_1399', 'Vendor_Code_filtered_14', 'Vendor_Code_filtered_140', 'Vendor_Code_filtered_1400', 'Vendor_Code_filtered_1401', 'Vendor_Code_filtered_1402', 'Vendor_Code_filtered_1403', 'Vendor_Code_filtered_1404', 'Vendor_Code_filtered_1405', 'Vendor_Code_filtered_1406', 'Vendor_Code_filtered_1407', 'Vendor_Code_filtered_1408', 'Vendor_Code_filtered_1409', 'Vendor_Code_filtered_141', 'Vendor_Code_filtered_1410', 'Vendor_Code_filtered_1411', 'Vendor_Code_filtered_1412', 'Vendor_Code_filtered_1413', 'Vendor_Code_filtered_1414', 'Vendor_Code_filtered_1415', 'Vendor_Code_filtered_1416', 'Vendor_Code_filtered_1417', 'Vendor_Code_filtered_1418', 'Vendor_Code_filtered_1419', 'Vendor_Code_filtered_142', 'Vendor_Code_filtered_1420', 'Vendor_Code_filtered_1421', 'Vendor_Code_filtered_1422', 'Vendor_Code_filtered_1423', 'Vendor_Code_filtered_1424', 'Vendor_Code_filtered_1425', 'Vendor_Code_filtered_1426', 'Vendor_Code_filtered_1427', 'Vendor_Code_filtered_1428', 'Vendor_Code_filtered_1429', 'Vendor_Code_filtered_143', 'Vendor_Code_filtered_1430', 'Vendor_Code_filtered_1431', 'Vendor_Code_filtered_1432', 'Vendor_Code_filtered_1433', 'Vendor_Code_filtered_1434', 'Vendor_Code_filtered_1435', 'Vendor_Code_filtered_1436', 'Vendor_Code_filtered_1437', 'Vendor_Code_filtered_1438', 'Vendor_Code_filtered_1439', 'Vendor_Code_filtered_144', 'Vendor_Code_filtered_1440', 'Vendor_Code_filtered_1441', 'Vendor_Code_filtered_1442', 'Vendor_Code_filtered_1443', 'Vendor_Code_filtered_1444', 'Vendor_Code_filtered_1445', 'Vendor_Code_filtered_1446', 'Vendor_Code_filtered_1447', 'Vendor_Code_filtered_1448', 'Vendor_Code_filtered_1449', 'Vendor_Code_filtered_145', 'Vendor_Code_filtered_1450', 'Vendor_Code_filtered_1451', 'Vendor_Code_filtered_1452', 'Vendor_Code_filtered_1453', 'Vendor_Code_filtered_1454', 'Vendor_Code_filtered_1455', 'Vendor_Code_filtered_1456', 'Vendor_Code_filtered_1457', 'Vendor_Code_filtered_1458', 'Vendor_Code_filtered_1459', 'Vendor_Code_filtered_146', 'Vendor_Code_filtered_1460', 'Vendor_Code_filtered_1461', 'Vendor_Code_filtered_1462', 'Vendor_Code_filtered_1463', 'Vendor_Code_filtered_1464', 'Vendor_Code_filtered_1465', 'Vendor_Code_filtered_1466', 'Vendor_Code_filtered_1467', 'Vendor_Code_filtered_1468', 'Vendor_Code_filtered_1469', 'Vendor_Code_filtered_147', 'Vendor_Code_filtered_1470', 'Vendor_Code_filtered_1471', 'Vendor_Code_filtered_1472', 'Vendor_Code_filtered_1473', 'Vendor_Code_filtered_1474', 'Vendor_Code_filtered_1475', 'Vendor_Code_filtered_1476', 'Vendor_Code_filtered_1477', 'Vendor_Code_filtered_1478', 'Vendor_Code_filtered_1479', 'Vendor_Code_filtered_148', 'Vendor_Code_filtered_1480', 'Vendor_Code_filtered_1481', 'Vendor_Code_filtered_1482', 'Vendor_Code_filtered_1483', 'Vendor_Code_filtered_1484', 'Vendor_Code_filtered_1485', 'Vendor_Code_filtered_1486', 'Vendor_Code_filtered_1487', 'Vendor_Code_filtered_1488', 'Vendor_Code_filtered_1489', 'Vendor_Code_filtered_149', 'Vendor_Code_filtered_1490', 'Vendor_Code_filtered_1491', 'Vendor_Code_filtered_1492', 'Vendor_Code_filtered_1493', 'Vendor_Code_filtered_1494', 'Vendor_Code_filtered_1495', 'Vendor_Code_filtered_1496', 'Vendor_Code_filtered_1497', 'Vendor_Code_filtered_1498', 'Vendor_Code_filtered_1499', 'Vendor_Code_filtered_15', 'Vendor_Code_filtered_150', 'Vendor_Code_filtered_1500', 'Vendor_Code_filtered_1501', 'Vendor_Code_filtered_1502', 'Vendor_Code_filtered_1503', 'Vendor_Code_filtered_1504', 'Vendor_Code_filtered_1505', 'Vendor_Code_filtered_1506', 'Vendor_Code_filtered_1507', 'Vendor_Code_filtered_1508', 'Vendor_Code_filtered_1509', 'Vendor_Code_filtered_151', 'Vendor_Code_filtered_1510', 'Vendor_Code_filtered_1511', 'Vendor_Code_filtered_1512', 'Vendor_Code_filtered_1513', 'Vendor_Code_filtered_1514', 'Vendor_Code_filtered_1515', 'Vendor_Code_filtered_1516', 'Vendor_Code_filtered_1517', 'Vendor_Code_filtered_1518', 'Vendor_Code_filtered_1519', 'Vendor_Code_filtered_152', 'Vendor_Code_filtered_1520', 'Vendor_Code_filtered_1521', 'Vendor_Code_filtered_1522', 'Vendor_Code_filtered_1523', 'Vendor_Code_filtered_1524', 'Vendor_Code_filtered_1525', 'Vendor_Code_filtered_1526', 'Vendor_Code_filtered_1527', 'Vendor_Code_filtered_1528', 'Vendor_Code_filtered_1529', 'Vendor_Code_filtered_153', 'Vendor_Code_filtered_1530', 'Vendor_Code_filtered_1531', 'Vendor_Code_filtered_1532', 'Vendor_Code_filtered_1533', 'Vendor_Code_filtered_1534', 'Vendor_Code_filtered_1535', 'Vendor_Code_filtered_1536', 'Vendor_Code_filtered_1537', 'Vendor_Code_filtered_1538', 'Vendor_Code_filtered_1539', 'Vendor_Code_filtered_154', 'Vendor_Code_filtered_1540', 'Vendor_Code_filtered_1541', 'Vendor_Code_filtered_1542', 'Vendor_Code_filtered_1543', 'Vendor_Code_filtered_1544', 'Vendor_Code_filtered_1545', 'Vendor_Code_filtered_1546', 'Vendor_Code_filtered_1547', 'Vendor_Code_filtered_1548', 'Vendor_Code_filtered_1549', 'Vendor_Code_filtered_155', 'Vendor_Code_filtered_1550', 'Vendor_Code_filtered_1551', 'Vendor_Code_filtered_1552', 'Vendor_Code_filtered_1553', 'Vendor_Code_filtered_1554', 'Vendor_Code_filtered_1555', 'Vendor_Code_filtered_1556', 'Vendor_Code_filtered_1557', 'Vendor_Code_filtered_1558', 'Vendor_Code_filtered_1559', 'Vendor_Code_filtered_156', 'Vendor_Code_filtered_1560', 'Vendor_Code_filtered_157', 'Vendor_Code_filtered_158', 'Vendor_Code_filtered_159', 'Vendor_Code_filtered_16', 'Vendor_Code_filtered_160', 'Vendor_Code_filtered_161', 'Vendor_Code_filtered_162', 'Vendor_Code_filtered_163', 'Vendor_Code_filtered_164', 'Vendor_Code_filtered_165', 'Vendor_Code_filtered_166', 'Vendor_Code_filtered_167', 'Vendor_Code_filtered_168', 'Vendor_Code_filtered_169', 'Vendor_Code_filtered_17', 'Vendor_Code_filtered_170', 'Vendor_Code_filtered_171', 'Vendor_Code_filtered_172', 'Vendor_Code_filtered_173', 'Vendor_Code_filtered_174', 'Vendor_Code_filtered_175', 'Vendor_Code_filtered_176', 'Vendor_Code_filtered_177', 'Vendor_Code_filtered_178', 'Vendor_Code_filtered_179', 'Vendor_Code_filtered_18', 'Vendor_Code_filtered_180', 'Vendor_Code_filtered_181', 'Vendor_Code_filtered_182', 'Vendor_Code_filtered_183', 'Vendor_Code_filtered_184', 'Vendor_Code_filtered_185', 'Vendor_Code_filtered_186', 'Vendor_Code_filtered_187', 'Vendor_Code_filtered_188', 'Vendor_Code_filtered_189', 'Vendor_Code_filtered_19', 'Vendor_Code_filtered_190', 'Vendor_Code_filtered_191', 'Vendor_Code_filtered_192', 'Vendor_Code_filtered_193', 'Vendor_Code_filtered_194', 'Vendor_Code_filtered_195', 'Vendor_Code_filtered_196', 'Vendor_Code_filtered_197', 'Vendor_Code_filtered_198', 'Vendor_Code_filtered_199', 'Vendor_Code_filtered_2', 'Vendor_Code_filtered_20', 'Vendor_Code_filtered_200', 'Vendor_Code_filtered_201', 'Vendor_Code_filtered_202', 'Vendor_Code_filtered_203', 'Vendor_Code_filtered_204', 'Vendor_Code_filtered_205', 'Vendor_Code_filtered_206', 'Vendor_Code_filtered_207', 'Vendor_Code_filtered_208', 'Vendor_Code_filtered_209', 'Vendor_Code_filtered_21', 'Vendor_Code_filtered_210', 'Vendor_Code_filtered_211', 'Vendor_Code_filtered_212', 'Vendor_Code_filtered_213', 'Vendor_Code_filtered_214', 'Vendor_Code_filtered_215', 'Vendor_Code_filtered_216', 'Vendor_Code_filtered_217', 'Vendor_Code_filtered_218', 'Vendor_Code_filtered_219', 'Vendor_Code_filtered_22', 'Vendor_Code_filtered_220', 'Vendor_Code_filtered_221', 'Vendor_Code_filtered_222', 'Vendor_Code_filtered_223', 'Vendor_Code_filtered_224', 'Vendor_Code_filtered_225', 'Vendor_Code_filtered_226', 'Vendor_Code_filtered_227', 'Vendor_Code_filtered_228', 'Vendor_Code_filtered_229', 'Vendor_Code_filtered_23', 'Vendor_Code_filtered_230', 'Vendor_Code_filtered_231', 'Vendor_Code_filtered_232', 'Vendor_Code_filtered_233', 'Vendor_Code_filtered_234', 'Vendor_Code_filtered_235', 'Vendor_Code_filtered_236', 'Vendor_Code_filtered_237', 'Vendor_Code_filtered_238', 'Vendor_Code_filtered_239', 'Vendor_Code_filtered_24', 'Vendor_Code_filtered_240', 'Vendor_Code_filtered_241', 'Vendor_Code_filtered_242', 'Vendor_Code_filtered_243', 'Vendor_Code_filtered_244', 'Vendor_Code_filtered_245', 'Vendor_Code_filtered_246', 'Vendor_Code_filtered_247', 'Vendor_Code_filtered_248', 'Vendor_Code_filtered_249', 'Vendor_Code_filtered_25', 'Vendor_Code_filtered_250', 'Vendor_Code_filtered_251', 'Vendor_Code_filtered_252', 'Vendor_Code_filtered_253', 'Vendor_Code_filtered_254', 'Vendor_Code_filtered_255', 'Vendor_Code_filtered_256', 'Vendor_Code_filtered_257', 'Vendor_Code_filtered_258', 'Vendor_Code_filtered_259', 'Vendor_Code_filtered_26', 'Vendor_Code_filtered_260', 'Vendor_Code_filtered_261', 'Vendor_Code_filtered_262', 'Vendor_Code_filtered_263', 'Vendor_Code_filtered_264', 'Vendor_Code_filtered_265', 'Vendor_Code_filtered_266', 'Vendor_Code_filtered_267', 'Vendor_Code_filtered_268', 'Vendor_Code_filtered_269', 'Vendor_Code_filtered_27', 'Vendor_Code_filtered_270', 'Vendor_Code_filtered_271', 'Vendor_Code_filtered_272', 'Vendor_Code_filtered_273', 'Vendor_Code_filtered_274', 'Vendor_Code_filtered_275', 'Vendor_Code_filtered_276', 'Vendor_Code_filtered_277', 'Vendor_Code_filtered_278', 'Vendor_Code_filtered_279', 'Vendor_Code_filtered_28', 'Vendor_Code_filtered_280', 'Vendor_Code_filtered_281', 'Vendor_Code_filtered_282', 'Vendor_Code_filtered_283', 'Vendor_Code_filtered_284', 'Vendor_Code_filtered_285', 'Vendor_Code_filtered_286', 'Vendor_Code_filtered_287', 'Vendor_Code_filtered_288', 'Vendor_Code_filtered_289', 'Vendor_Code_filtered_29', 'Vendor_Code_filtered_290', 'Vendor_Code_filtered_291', 'Vendor_Code_filtered_292', 'Vendor_Code_filtered_293', 'Vendor_Code_filtered_294', 'Vendor_Code_filtered_295', 'Vendor_Code_filtered_296', 'Vendor_Code_filtered_297', 'Vendor_Code_filtered_298', 'Vendor_Code_filtered_299', 'Vendor_Code_filtered_3', 'Vendor_Code_filtered_30', 'Vendor_Code_filtered_300', 'Vendor_Code_filtered_301', 'Vendor_Code_filtered_302', 'Vendor_Code_filtered_303', 'Vendor_Code_filtered_304', 'Vendor_Code_filtered_305', 'Vendor_Code_filtered_306', 'Vendor_Code_filtered_307', 'Vendor_Code_filtered_308', 'Vendor_Code_filtered_309', 'Vendor_Code_filtered_31', 'Vendor_Code_filtered_310', 'Vendor_Code_filtered_311', 'Vendor_Code_filtered_312', 'Vendor_Code_filtered_313', 'Vendor_Code_filtered_314', 'Vendor_Code_filtered_315', 'Vendor_Code_filtered_316', 'Vendor_Code_filtered_317', 'Vendor_Code_filtered_318', 'Vendor_Code_filtered_319', 'Vendor_Code_filtered_32', 'Vendor_Code_filtered_320', 'Vendor_Code_filtered_321', 'Vendor_Code_filtered_322', 'Vendor_Code_filtered_323', 'Vendor_Code_filtered_324', 'Vendor_Code_filtered_325', 'Vendor_Code_filtered_326', 'Vendor_Code_filtered_327', 'Vendor_Code_filtered_328', 'Vendor_Code_filtered_329', 'Vendor_Code_filtered_33', 'Vendor_Code_filtered_330', 'Vendor_Code_filtered_331', 'Vendor_Code_filtered_332', 'Vendor_Code_filtered_333', 'Vendor_Code_filtered_334', 'Vendor_Code_filtered_335', 'Vendor_Code_filtered_336', 'Vendor_Code_filtered_337', 'Vendor_Code_filtered_338', 'Vendor_Code_filtered_339', 'Vendor_Code_filtered_34', 'Vendor_Code_filtered_340', 'Vendor_Code_filtered_341', 'Vendor_Code_filtered_342', 'Vendor_Code_filtered_343', 'Vendor_Code_filtered_344', 'Vendor_Code_filtered_345', 'Vendor_Code_filtered_346', 'Vendor_Code_filtered_347', 'Vendor_Code_filtered_348', 'Vendor_Code_filtered_349', 'Vendor_Code_filtered_35', 'Vendor_Code_filtered_350', 'Vendor_Code_filtered_351', 'Vendor_Code_filtered_352', 'Vendor_Code_filtered_353', 'Vendor_Code_filtered_354', 'Vendor_Code_filtered_355', 'Vendor_Code_filtered_356', 'Vendor_Code_filtered_357', 'Vendor_Code_filtered_358', 'Vendor_Code_filtered_359', 'Vendor_Code_filtered_36', 'Vendor_Code_filtered_360', 'Vendor_Code_filtered_361', 'Vendor_Code_filtered_362', 'Vendor_Code_filtered_363', 'Vendor_Code_filtered_364', 'Vendor_Code_filtered_365', 'Vendor_Code_filtered_366', 'Vendor_Code_filtered_367', 'Vendor_Code_filtered_368', 'Vendor_Code_filtered_369', 'Vendor_Code_filtered_37', 'Vendor_Code_filtered_370', 'Vendor_Code_filtered_371', 'Vendor_Code_filtered_372', 'Vendor_Code_filtered_373', 'Vendor_Code_filtered_374', 'Vendor_Code_filtered_375', 'Vendor_Code_filtered_376', 'Vendor_Code_filtered_377', 'Vendor_Code_filtered_378', 'Vendor_Code_filtered_379', 'Vendor_Code_filtered_38', 'Vendor_Code_filtered_380', 'Vendor_Code_filtered_381', 'Vendor_Code_filtered_382', 'Vendor_Code_filtered_383', 'Vendor_Code_filtered_384', 'Vendor_Code_filtered_385', 'Vendor_Code_filtered_386', 'Vendor_Code_filtered_387', 'Vendor_Code_filtered_388', 'Vendor_Code_filtered_389', 'Vendor_Code_filtered_39', 'Vendor_Code_filtered_390', 'Vendor_Code_filtered_391', 'Vendor_Code_filtered_392', 'Vendor_Code_filtered_393', 'Vendor_Code_filtered_394', 'Vendor_Code_filtered_395', 'Vendor_Code_filtered_396', 'Vendor_Code_filtered_397', 'Vendor_Code_filtered_398', 'Vendor_Code_filtered_399', 'Vendor_Code_filtered_4', 'Vendor_Code_filtered_40', 'Vendor_Code_filtered_400', 'Vendor_Code_filtered_401', 'Vendor_Code_filtered_402', 'Vendor_Code_filtered_403', 'Vendor_Code_filtered_404', 'Vendor_Code_filtered_405', 'Vendor_Code_filtered_406', 'Vendor_Code_filtered_407', 'Vendor_Code_filtered_408', 'Vendor_Code_filtered_409', 'Vendor_Code_filtered_41', 'Vendor_Code_filtered_410', 'Vendor_Code_filtered_411', 'Vendor_Code_filtered_412', 'Vendor_Code_filtered_413', 'Vendor_Code_filtered_414', 'Vendor_Code_filtered_415', 'Vendor_Code_filtered_416', 'Vendor_Code_filtered_417', 'Vendor_Code_filtered_418', 'Vendor_Code_filtered_419', 'Vendor_Code_filtered_42', 'Vendor_Code_filtered_420', 'Vendor_Code_filtered_421', 'Vendor_Code_filtered_422', 'Vendor_Code_filtered_423', 'Vendor_Code_filtered_424', 'Vendor_Code_filtered_425', 'Vendor_Code_filtered_426', 'Vendor_Code_filtered_427', 'Vendor_Code_filtered_428', 'Vendor_Code_filtered_429', 'Vendor_Code_filtered_43', 'Vendor_Code_filtered_430', 'Vendor_Code_filtered_431', 'Vendor_Code_filtered_432', 'Vendor_Code_filtered_433', 'Vendor_Code_filtered_434', 'Vendor_Code_filtered_435', 'Vendor_Code_filtered_436', 'Vendor_Code_filtered_437', 'Vendor_Code_filtered_438', 'Vendor_Code_filtered_439', 'Vendor_Code_filtered_44', 'Vendor_Code_filtered_440', 'Vendor_Code_filtered_441', 'Vendor_Code_filtered_442', 'Vendor_Code_filtered_443', 'Vendor_Code_filtered_444', 'Vendor_Code_filtered_445', 'Vendor_Code_filtered_446', 'Vendor_Code_filtered_447', 'Vendor_Code_filtered_448', 'Vendor_Code_filtered_449', 'Vendor_Code_filtered_45', 'Vendor_Code_filtered_450', 'Vendor_Code_filtered_451', 'Vendor_Code_filtered_452', 'Vendor_Code_filtered_453', 'Vendor_Code_filtered_454', 'Vendor_Code_filtered_455', 'Vendor_Code_filtered_456', 'Vendor_Code_filtered_457', 'Vendor_Code_filtered_458', 'Vendor_Code_filtered_459', 'Vendor_Code_filtered_46', 'Vendor_Code_filtered_460', 'Vendor_Code_filtered_461', 'Vendor_Code_filtered_462', 'Vendor_Code_filtered_463', 'Vendor_Code_filtered_464', 'Vendor_Code_filtered_465', 'Vendor_Code_filtered_466', 'Vendor_Code_filtered_467', 'Vendor_Code_filtered_468', 'Vendor_Code_filtered_469', 'Vendor_Code_filtered_47', 'Vendor_Code_filtered_470', 'Vendor_Code_filtered_471', 'Vendor_Code_filtered_472', 'Vendor_Code_filtered_473', 'Vendor_Code_filtered_474', 'Vendor_Code_filtered_475', 'Vendor_Code_filtered_476', 'Vendor_Code_filtered_477', 'Vendor_Code_filtered_478', 'Vendor_Code_filtered_479', 'Vendor_Code_filtered_48', 'Vendor_Code_filtered_480', 'Vendor_Code_filtered_481', 'Vendor_Code_filtered_482', 'Vendor_Code_filtered_483', 'Vendor_Code_filtered_484', 'Vendor_Code_filtered_485', 'Vendor_Code_filtered_486', 'Vendor_Code_filtered_487', 'Vendor_Code_filtered_488', 'Vendor_Code_filtered_489', 'Vendor_Code_filtered_49', 'Vendor_Code_filtered_490', 'Vendor_Code_filtered_491', 'Vendor_Code_filtered_492', 'Vendor_Code_filtered_493', 'Vendor_Code_filtered_494', 'Vendor_Code_filtered_495', 'Vendor_Code_filtered_496', 'Vendor_Code_filtered_497', 'Vendor_Code_filtered_498', 'Vendor_Code_filtered_499', 'Vendor_Code_filtered_5', 'Vendor_Code_filtered_50', 'Vendor_Code_filtered_500', 'Vendor_Code_filtered_501', 'Vendor_Code_filtered_502', 'Vendor_Code_filtered_503', 'Vendor_Code_filtered_504', 'Vendor_Code_filtered_505', 'Vendor_Code_filtered_506', 'Vendor_Code_filtered_507', 'Vendor_Code_filtered_508', 'Vendor_Code_filtered_509', 'Vendor_Code_filtered_51', 'Vendor_Code_filtered_510', 'Vendor_Code_filtered_511', 'Vendor_Code_filtered_512', 'Vendor_Code_filtered_513', 'Vendor_Code_filtered_514', 'Vendor_Code_filtered_515', 'Vendor_Code_filtered_516', 'Vendor_Code_filtered_517', 'Vendor_Code_filtered_518', 'Vendor_Code_filtered_519', 'Vendor_Code_filtered_52', 'Vendor_Code_filtered_520', 'Vendor_Code_filtered_521', 'Vendor_Code_filtered_522', 'Vendor_Code_filtered_523', 'Vendor_Code_filtered_524', 'Vendor_Code_filtered_525', 'Vendor_Code_filtered_526', 'Vendor_Code_filtered_527', 'Vendor_Code_filtered_528', 'Vendor_Code_filtered_529', 'Vendor_Code_filtered_53', 'Vendor_Code_filtered_530', 'Vendor_Code_filtered_531', 'Vendor_Code_filtered_532', 'Vendor_Code_filtered_533', 'Vendor_Code_filtered_534', 'Vendor_Code_filtered_535', 'Vendor_Code_filtered_536', 'Vendor_Code_filtered_537', 'Vendor_Code_filtered_538', 'Vendor_Code_filtered_539', 'Vendor_Code_filtered_54', 'Vendor_Code_filtered_540', 'Vendor_Code_filtered_541', 'Vendor_Code_filtered_542', 'Vendor_Code_filtered_543', 'Vendor_Code_filtered_544', 'Vendor_Code_filtered_545', 'Vendor_Code_filtered_546', 'Vendor_Code_filtered_547', 'Vendor_Code_filtered_548', 'Vendor_Code_filtered_549', 'Vendor_Code_filtered_55', 'Vendor_Code_filtered_550', 'Vendor_Code_filtered_551', 'Vendor_Code_filtered_552', 'Vendor_Code_filtered_553', 'Vendor_Code_filtered_554', 'Vendor_Code_filtered_555', 'Vendor_Code_filtered_556', 'Vendor_Code_filtered_557', 'Vendor_Code_filtered_558', 'Vendor_Code_filtered_559', 'Vendor_Code_filtered_56', 'Vendor_Code_filtered_560', 'Vendor_Code_filtered_561', 'Vendor_Code_filtered_562', 'Vendor_Code_filtered_563', 'Vendor_Code_filtered_564', 'Vendor_Code_filtered_565', 'Vendor_Code_filtered_566', 'Vendor_Code_filtered_567', 'Vendor_Code_filtered_568', 'Vendor_Code_filtered_569', 'Vendor_Code_filtered_57', 'Vendor_Code_filtered_570', 'Vendor_Code_filtered_571', 'Vendor_Code_filtered_572', 'Vendor_Code_filtered_573', 'Vendor_Code_filtered_574', 'Vendor_Code_filtered_575', 'Vendor_Code_filtered_576', 'Vendor_Code_filtered_577', 'Vendor_Code_filtered_578', 'Vendor_Code_filtered_579', 'Vendor_Code_filtered_58', 'Vendor_Code_filtered_580', 'Vendor_Code_filtered_581', 'Vendor_Code_filtered_582', 'Vendor_Code_filtered_583', 'Vendor_Code_filtered_584', 'Vendor_Code_filtered_585', 'Vendor_Code_filtered_586', 'Vendor_Code_filtered_587', 'Vendor_Code_filtered_588', 'Vendor_Code_filtered_589', 'Vendor_Code_filtered_59', 'Vendor_Code_filtered_590', 'Vendor_Code_filtered_591', 'Vendor_Code_filtered_592', 'Vendor_Code_filtered_593', 'Vendor_Code_filtered_594', 'Vendor_Code_filtered_595', 'Vendor_Code_filtered_596', 'Vendor_Code_filtered_597', 'Vendor_Code_filtered_598', 'Vendor_Code_filtered_599', 'Vendor_Code_filtered_6', 'Vendor_Code_filtered_60', 'Vendor_Code_filtered_600', 'Vendor_Code_filtered_601', 'Vendor_Code_filtered_602', 'Vendor_Code_filtered_603', 'Vendor_Code_filtered_604', 'Vendor_Code_filtered_605', 'Vendor_Code_filtered_606', 'Vendor_Code_filtered_607', 'Vendor_Code_filtered_608', 'Vendor_Code_filtered_609', 'Vendor_Code_filtered_61', 'Vendor_Code_filtered_610', 'Vendor_Code_filtered_611', 'Vendor_Code_filtered_612', 'Vendor_Code_filtered_613', 'Vendor_Code_filtered_614', 'Vendor_Code_filtered_615', 'Vendor_Code_filtered_616', 'Vendor_Code_filtered_617', 'Vendor_Code_filtered_618', 'Vendor_Code_filtered_619', 'Vendor_Code_filtered_62', 'Vendor_Code_filtered_620', 'Vendor_Code_filtered_621', 'Vendor_Code_filtered_622', 'Vendor_Code_filtered_623', 'Vendor_Code_filtered_624', 'Vendor_Code_filtered_625', 'Vendor_Code_filtered_626', 'Vendor_Code_filtered_627', 'Vendor_Code_filtered_628', 'Vendor_Code_filtered_629', 'Vendor_Code_filtered_63', 'Vendor_Code_filtered_630', 'Vendor_Code_filtered_631', 'Vendor_Code_filtered_632', 'Vendor_Code_filtered_633', 'Vendor_Code_filtered_634', 'Vendor_Code_filtered_635', 'Vendor_Code_filtered_636', 'Vendor_Code_filtered_637', 'Vendor_Code_filtered_638', 'Vendor_Code_filtered_639', 'Vendor_Code_filtered_64', 'Vendor_Code_filtered_640', 'Vendor_Code_filtered_641', 'Vendor_Code_filtered_642', 'Vendor_Code_filtered_643', 'Vendor_Code_filtered_644', 'Vendor_Code_filtered_645', 'Vendor_Code_filtered_646', 'Vendor_Code_filtered_647', 'Vendor_Code_filtered_648', 'Vendor_Code_filtered_649', 'Vendor_Code_filtered_65', 'Vendor_Code_filtered_650', 'Vendor_Code_filtered_651', 'Vendor_Code_filtered_652', 'Vendor_Code_filtered_653', 'Vendor_Code_filtered_654', 'Vendor_Code_filtered_655', 'Vendor_Code_filtered_656', 'Vendor_Code_filtered_657', 'Vendor_Code_filtered_658', 'Vendor_Code_filtered_659', 'Vendor_Code_filtered_66', 'Vendor_Code_filtered_660', 'Vendor_Code_filtered_661', 'Vendor_Code_filtered_662', 'Vendor_Code_filtered_663', 'Vendor_Code_filtered_664', 'Vendor_Code_filtered_665', 'Vendor_Code_filtered_666', 'Vendor_Code_filtered_667', 'Vendor_Code_filtered_668', 'Vendor_Code_filtered_669', 'Vendor_Code_filtered_67', 'Vendor_Code_filtered_670', 'Vendor_Code_filtered_671', 'Vendor_Code_filtered_672', 'Vendor_Code_filtered_673', 'Vendor_Code_filtered_674', 'Vendor_Code_filtered_675', 'Vendor_Code_filtered_676', 'Vendor_Code_filtered_677', 'Vendor_Code_filtered_678', 'Vendor_Code_filtered_679', 'Vendor_Code_filtered_68', 'Vendor_Code_filtered_680', 'Vendor_Code_filtered_681', 'Vendor_Code_filtered_682', 'Vendor_Code_filtered_683', 'Vendor_Code_filtered_684', 'Vendor_Code_filtered_685', 'Vendor_Code_filtered_686', 'Vendor_Code_filtered_687', 'Vendor_Code_filtered_688', 'Vendor_Code_filtered_689', 'Vendor_Code_filtered_69', 'Vendor_Code_filtered_690', 'Vendor_Code_filtered_691', 'Vendor_Code_filtered_692', 'Vendor_Code_filtered_693', 'Vendor_Code_filtered_694', 'Vendor_Code_filtered_695', 'Vendor_Code_filtered_696', 'Vendor_Code_filtered_697', 'Vendor_Code_filtered_698', 'Vendor_Code_filtered_699', 'Vendor_Code_filtered_7', 'Vendor_Code_filtered_70', 'Vendor_Code_filtered_700', 'Vendor_Code_filtered_701', 'Vendor_Code_filtered_702', 'Vendor_Code_filtered_703', 'Vendor_Code_filtered_704', 'Vendor_Code_filtered_705', 'Vendor_Code_filtered_706', 'Vendor_Code_filtered_707', 'Vendor_Code_filtered_708', 'Vendor_Code_filtered_709', 'Vendor_Code_filtered_71', 'Vendor_Code_filtered_710', 'Vendor_Code_filtered_711', 'Vendor_Code_filtered_712', 'Vendor_Code_filtered_713', 'Vendor_Code_filtered_714', 'Vendor_Code_filtered_715', 'Vendor_Code_filtered_716', 'Vendor_Code_filtered_717', 'Vendor_Code_filtered_718', 'Vendor_Code_filtered_719', 'Vendor_Code_filtered_72', 'Vendor_Code_filtered_720', 'Vendor_Code_filtered_721', 'Vendor_Code_filtered_722', 'Vendor_Code_filtered_723', 'Vendor_Code_filtered_724', 'Vendor_Code_filtered_725', 'Vendor_Code_filtered_726', 'Vendor_Code_filtered_727', 'Vendor_Code_filtered_728', 'Vendor_Code_filtered_729', 'Vendor_Code_filtered_73', 'Vendor_Code_filtered_730', 'Vendor_Code_filtered_731', 'Vendor_Code_filtered_732', 'Vendor_Code_filtered_733', 'Vendor_Code_filtered_734', 'Vendor_Code_filtered_735', 'Vendor_Code_filtered_736', 'Vendor_Code_filtered_737', 'Vendor_Code_filtered_738', 'Vendor_Code_filtered_739', 'Vendor_Code_filtered_74', 'Vendor_Code_filtered_740', 'Vendor_Code_filtered_741', 'Vendor_Code_filtered_742', 'Vendor_Code_filtered_743', 'Vendor_Code_filtered_744', 'Vendor_Code_filtered_745', 'Vendor_Code_filtered_746', 'Vendor_Code_filtered_747', 'Vendor_Code_filtered_748', 'Vendor_Code_filtered_749', 'Vendor_Code_filtered_75', 'Vendor_Code_filtered_750', 'Vendor_Code_filtered_751', 'Vendor_Code_filtered_752', 'Vendor_Code_filtered_753', 'Vendor_Code_filtered_754', 'Vendor_Code_filtered_755', 'Vendor_Code_filtered_756', 'Vendor_Code_filtered_757', 'Vendor_Code_filtered_758', 'Vendor_Code_filtered_759', 'Vendor_Code_filtered_76', 'Vendor_Code_filtered_760', 'Vendor_Code_filtered_761', 'Vendor_Code_filtered_762', 'Vendor_Code_filtered_763', 'Vendor_Code_filtered_764', 'Vendor_Code_filtered_765', 'Vendor_Code_filtered_766', 'Vendor_Code_filtered_767', 'Vendor_Code_filtered_768', 'Vendor_Code_filtered_769', 'Vendor_Code_filtered_77', 'Vendor_Code_filtered_770', 'Vendor_Code_filtered_771', 'Vendor_Code_filtered_772', 'Vendor_Code_filtered_773', 'Vendor_Code_filtered_774', 'Vendor_Code_filtered_775', 'Vendor_Code_filtered_776', 'Vendor_Code_filtered_777', 'Vendor_Code_filtered_778', 'Vendor_Code_filtered_779', 'Vendor_Code_filtered_78', 'Vendor_Code_filtered_780', 'Vendor_Code_filtered_781', 'Vendor_Code_filtered_782', 'Vendor_Code_filtered_783', 'Vendor_Code_filtered_784', 'Vendor_Code_filtered_785', 'Vendor_Code_filtered_786', 'Vendor_Code_filtered_787', 'Vendor_Code_filtered_788', 'Vendor_Code_filtered_789', 'Vendor_Code_filtered_79', 'Vendor_Code_filtered_790', 'Vendor_Code_filtered_791', 'Vendor_Code_filtered_792', 'Vendor_Code_filtered_793', 'Vendor_Code_filtered_794', 'Vendor_Code_filtered_795', 'Vendor_Code_filtered_796', 'Vendor_Code_filtered_797', 'Vendor_Code_filtered_798', 'Vendor_Code_filtered_799', 'Vendor_Code_filtered_8', 'Vendor_Code_filtered_80', 'Vendor_Code_filtered_800', 'Vendor_Code_filtered_801', 'Vendor_Code_filtered_802', 'Vendor_Code_filtered_803', 'Vendor_Code_filtered_804', 'Vendor_Code_filtered_805', 'Vendor_Code_filtered_806', 'Vendor_Code_filtered_807', 'Vendor_Code_filtered_808', 'Vendor_Code_filtered_809', 'Vendor_Code_filtered_81', 'Vendor_Code_filtered_810', 'Vendor_Code_filtered_811', 'Vendor_Code_filtered_812', 'Vendor_Code_filtered_813', 'Vendor_Code_filtered_814', 'Vendor_Code_filtered_815', 'Vendor_Code_filtered_816', 'Vendor_Code_filtered_817', 'Vendor_Code_filtered_818', 'Vendor_Code_filtered_819', 'Vendor_Code_filtered_82', 'Vendor_Code_filtered_820', 'Vendor_Code_filtered_821', 'Vendor_Code_filtered_822', 'Vendor_Code_filtered_823', 'Vendor_Code_filtered_824', 'Vendor_Code_filtered_825', 'Vendor_Code_filtered_826', 'Vendor_Code_filtered_827', 'Vendor_Code_filtered_828', 'Vendor_Code_filtered_829', 'Vendor_Code_filtered_83', 'Vendor_Code_filtered_830', 'Vendor_Code_filtered_831', 'Vendor_Code_filtered_832', 'Vendor_Code_filtered_833', 'Vendor_Code_filtered_834', 'Vendor_Code_filtered_835', 'Vendor_Code_filtered_836', 'Vendor_Code_filtered_837', 'Vendor_Code_filtered_838', 'Vendor_Code_filtered_839', 'Vendor_Code_filtered_84', 'Vendor_Code_filtered_840', 'Vendor_Code_filtered_841', 'Vendor_Code_filtered_842', 'Vendor_Code_filtered_843', 'Vendor_Code_filtered_844', 'Vendor_Code_filtered_845', 'Vendor_Code_filtered_846', 'Vendor_Code_filtered_847', 'Vendor_Code_filtered_848', 'Vendor_Code_filtered_849', 'Vendor_Code_filtered_85', 'Vendor_Code_filtered_850', 'Vendor_Code_filtered_851', 'Vendor_Code_filtered_852', 'Vendor_Code_filtered_853', 'Vendor_Code_filtered_854', 'Vendor_Code_filtered_855', 'Vendor_Code_filtered_856', 'Vendor_Code_filtered_857', 'Vendor_Code_filtered_858', 'Vendor_Code_filtered_859', 'Vendor_Code_filtered_86', 'Vendor_Code_filtered_860', 'Vendor_Code_filtered_861', 'Vendor_Code_filtered_862', 'Vendor_Code_filtered_863', 'Vendor_Code_filtered_864', 'Vendor_Code_filtered_865', 'Vendor_Code_filtered_866', 'Vendor_Code_filtered_867', 'Vendor_Code_filtered_868', 'Vendor_Code_filtered_869', 'Vendor_Code_filtered_87', 'Vendor_Code_filtered_870', 'Vendor_Code_filtered_871', 'Vendor_Code_filtered_872', 'Vendor_Code_filtered_873', 'Vendor_Code_filtered_874', 'Vendor_Code_filtered_875', 'Vendor_Code_filtered_876', 'Vendor_Code_filtered_877', 'Vendor_Code_filtered_878', 'Vendor_Code_filtered_879', 'Vendor_Code_filtered_88', 'Vendor_Code_filtered_880', 'Vendor_Code_filtered_881', 'Vendor_Code_filtered_882', 'Vendor_Code_filtered_883', 'Vendor_Code_filtered_884', 'Vendor_Code_filtered_885', 'Vendor_Code_filtered_886', 'Vendor_Code_filtered_887', 'Vendor_Code_filtered_888', 'Vendor_Code_filtered_889', 'Vendor_Code_filtered_89', 'Vendor_Code_filtered_890', 'Vendor_Code_filtered_891', 'Vendor_Code_filtered_892', 'Vendor_Code_filtered_893', 'Vendor_Code_filtered_894', 'Vendor_Code_filtered_895', 'Vendor_Code_filtered_896', 'Vendor_Code_filtered_897', 'Vendor_Code_filtered_898', 'Vendor_Code_filtered_899', 'Vendor_Code_filtered_9', 'Vendor_Code_filtered_90', 'Vendor_Code_filtered_900', 'Vendor_Code_filtered_901', 'Vendor_Code_filtered_902', 'Vendor_Code_filtered_903', 'Vendor_Code_filtered_904', 'Vendor_Code_filtered_905', 'Vendor_Code_filtered_906', 'Vendor_Code_filtered_907', 'Vendor_Code_filtered_908', 'Vendor_Code_filtered_909', 'Vendor_Code_filtered_91', 'Vendor_Code_filtered_910', 'Vendor_Code_filtered_911', 'Vendor_Code_filtered_912', 'Vendor_Code_filtered_913', 'Vendor_Code_filtered_914', 'Vendor_Code_filtered_915', 'Vendor_Code_filtered_916', 'Vendor_Code_filtered_917', 'Vendor_Code_filtered_918', 'Vendor_Code_filtered_919', 'Vendor_Code_filtered_92', 'Vendor_Code_filtered_920', 'Vendor_Code_filtered_921', 'Vendor_Code_filtered_922', 'Vendor_Code_filtered_923', 'Vendor_Code_filtered_924', 'Vendor_Code_filtered_925', 'Vendor_Code_filtered_926', 'Vendor_Code_filtered_927', 'Vendor_Code_filtered_928', 'Vendor_Code_filtered_929', 'Vendor_Code_filtered_93', 'Vendor_Code_filtered_930', 'Vendor_Code_filtered_931', 'Vendor_Code_filtered_932', 'Vendor_Code_filtered_933', 'Vendor_Code_filtered_934', 'Vendor_Code_filtered_935', 'Vendor_Code_filtered_936', 'Vendor_Code_filtered_937', 'Vendor_Code_filtered_938', 'Vendor_Code_filtered_939', 'Vendor_Code_filtered_94', 'Vendor_Code_filtered_940', 'Vendor_Code_filtered_941', 'Vendor_Code_filtered_942', 'Vendor_Code_filtered_943', 'Vendor_Code_filtered_944', 'Vendor_Code_filtered_945', 'Vendor_Code_filtered_946', 'Vendor_Code_filtered_947', 'Vendor_Code_filtered_948', 'Vendor_Code_filtered_949', 'Vendor_Code_filtered_95', 'Vendor_Code_filtered_950', 'Vendor_Code_filtered_951', 'Vendor_Code_filtered_952', 'Vendor_Code_filtered_953', 'Vendor_Code_filtered_954', 'Vendor_Code_filtered_955', 'Vendor_Code_filtered_956', 'Vendor_Code_filtered_957', 'Vendor_Code_filtered_958', 'Vendor_Code_filtered_959', 'Vendor_Code_filtered_96', 'Vendor_Code_filtered_960', 'Vendor_Code_filtered_961', 'Vendor_Code_filtered_962', 'Vendor_Code_filtered_963', 'Vendor_Code_filtered_964', 'Vendor_Code_filtered_965', 'Vendor_Code_filtered_966', 'Vendor_Code_filtered_967', 'Vendor_Code_filtered_968', 'Vendor_Code_filtered_969', 'Vendor_Code_filtered_97', 'Vendor_Code_filtered_970', 'Vendor_Code_filtered_971', 'Vendor_Code_filtered_972', 'Vendor_Code_filtered_973', 'Vendor_Code_filtered_974', 'Vendor_Code_filtered_975', 'Vendor_Code_filtered_976', 'Vendor_Code_filtered_977', 'Vendor_Code_filtered_978', 'Vendor_Code_filtered_979', 'Vendor_Code_filtered_98', 'Vendor_Code_filtered_980', 'Vendor_Code_filtered_981', 'Vendor_Code_filtered_982', 'Vendor_Code_filtered_983', 'Vendor_Code_filtered_984', 'Vendor_Code_filtered_985', 'Vendor_Code_filtered_986', 'Vendor_Code_filtered_987', 'Vendor_Code_filtered_988', 'Vendor_Code_filtered_989', 'Vendor_Code_filtered_99', 'Vendor_Code_filtered_990', 'Vendor_Code_filtered_991', 'Vendor_Code_filtered_992', 'Vendor_Code_filtered_993', 'Vendor_Code_filtered_994', 'Vendor_Code_filtered_995', 'Vendor_Code_filtered_996', 'Vendor_Code_filtered_997', 'Vendor_Code_filtered_998', 'Vendor_Code_filtered_999']\n"
     ]
    }
   ],
   "source": [
    "Xtraincols=list(train.columns)\n",
    "Xtraincols.remove('Product_Category')\n",
    "print(Xtraincols)"
   ]
  },
  {
   "cell_type": "code",
   "execution_count": 70,
   "metadata": {},
   "outputs": [],
   "source": [
    "x_train = train[Xtraincols]"
   ]
  },
  {
   "cell_type": "code",
   "execution_count": 71,
   "metadata": {},
   "outputs": [],
   "source": [
    "y_train = train['Product_Category']"
   ]
  },
  {
   "cell_type": "code",
   "execution_count": 73,
   "metadata": {},
   "outputs": [
    {
     "name": "stderr",
     "output_type": "stream",
     "text": [
      "C:\\Users\\Jyoti\\Anaconda3\\lib\\site-packages\\sklearn\\model_selection\\_split.py:652: Warning: The least populated class in y has only 2 members, which is too few. The minimum number of members in any class cannot be less than n_splits=10.\n",
      "  % (min_groups, self.n_splits)), Warning)\n",
      "Exception in thread QueueManagerThread:\n",
      "Traceback (most recent call last):\n",
      "  File \"C:\\Users\\Jyoti\\Anaconda3\\lib\\site-packages\\psutil\\_pswindows.py\", line 667, in wrapper\n",
      "    return fun(self, *args, **kwargs)\n",
      "  File \"C:\\Users\\Jyoti\\Anaconda3\\lib\\site-packages\\psutil\\_pswindows.py\", line 832, in kill\n",
      "    return cext.proc_kill(self.pid)\n",
      "PermissionError: [WinError 5] Access is denied\n",
      "\n",
      "During handling of the above exception, another exception occurred:\n",
      "\n",
      "Traceback (most recent call last):\n",
      "  File \"C:\\Users\\Jyoti\\Anaconda3\\lib\\threading.py\", line 917, in _bootstrap_inner\n",
      "    self.run()\n",
      "  File \"C:\\Users\\Jyoti\\Anaconda3\\lib\\threading.py\", line 865, in run\n",
      "    self._target(*self._args, **self._kwargs)\n",
      "  File \"C:\\Users\\Jyoti\\Anaconda3\\lib\\site-packages\\sklearn\\externals\\joblib\\externals\\loky\\process_executor.py\", line 674, in _queue_management_worker\n",
      "    recursive_terminate(p)\n",
      "  File \"C:\\Users\\Jyoti\\Anaconda3\\lib\\site-packages\\sklearn\\externals\\joblib\\externals\\loky\\backend\\utils.py\", line 26, in recursive_terminate\n",
      "    _recursive_terminate_with_psutil(process)\n",
      "  File \"C:\\Users\\Jyoti\\Anaconda3\\lib\\site-packages\\sklearn\\externals\\joblib\\externals\\loky\\backend\\utils.py\", line 41, in _recursive_terminate_with_psutil\n",
      "    child.kill()\n",
      "  File \"C:\\Users\\Jyoti\\Anaconda3\\lib\\site-packages\\psutil\\__init__.py\", line 388, in wrapper\n",
      "    return fun(self, *args, **kwargs)\n",
      "  File \"C:\\Users\\Jyoti\\Anaconda3\\lib\\site-packages\\psutil\\__init__.py\", line 1364, in kill\n",
      "    self._proc.kill()\n",
      "  File \"C:\\Users\\Jyoti\\Anaconda3\\lib\\site-packages\\psutil\\_pswindows.py\", line 670, in wrapper\n",
      "    raise AccessDenied(self.pid, self._name)\n",
      "psutil.AccessDenied: psutil.AccessDenied (pid=22684)\n",
      "\n",
      "C:\\Users\\Jyoti\\Anaconda3\\lib\\site-packages\\sklearn\\externals\\joblib\\disk.py:122: UserWarning: Unable to delete folder C:\\Users\\Jyoti\\AppData\\Local\\Temp\\joblib_memmapping_folder_20672_6239097417 after 5 tentatives.\n",
      "  .format(folder_path, RM_SUBDIRS_N_RETRY))\n",
      "C:\\Users\\Jyoti\\Anaconda3\\lib\\site-packages\\sklearn\\externals\\joblib\\disk.py:122: UserWarning: Unable to delete folder C:\\Users\\Jyoti\\AppData\\Local\\Temp\\joblib_memmapping_folder_20672_6239097417 after 5 tentatives.\n",
      "  .format(folder_path, RM_SUBDIRS_N_RETRY))\n"
     ]
    },
    {
     "ename": "PermissionError",
     "evalue": "[WinError 32] The process cannot access the file because it is being used by another process: 'C:\\\\Users\\\\Jyoti\\\\AppData\\\\Local\\\\Temp\\\\joblib_memmapping_folder_20672_6239097417\\\\20672-3115221040712-675a7d09fbe94fa6af8cdb3c9aff0087.pkl'",
     "output_type": "error",
     "traceback": [
      "\u001b[1;31m---------------------------------------------------------------------------\u001b[0m",
      "\u001b[1;31mKeyboardInterrupt\u001b[0m                         Traceback (most recent call last)",
      "\u001b[1;32m~\\Anaconda3\\lib\\site-packages\\sklearn\\externals\\joblib\\parallel.py\u001b[0m in \u001b[0;36mretrieve\u001b[1;34m(self)\u001b[0m\n\u001b[0;32m    832\u001b[0m                 \u001b[1;32mif\u001b[0m \u001b[0mgetattr\u001b[0m\u001b[1;33m(\u001b[0m\u001b[0mself\u001b[0m\u001b[1;33m.\u001b[0m\u001b[0m_backend\u001b[0m\u001b[1;33m,\u001b[0m \u001b[1;34m'supports_timeout'\u001b[0m\u001b[1;33m,\u001b[0m \u001b[1;32mFalse\u001b[0m\u001b[1;33m)\u001b[0m\u001b[1;33m:\u001b[0m\u001b[1;33m\u001b[0m\u001b[1;33m\u001b[0m\u001b[0m\n\u001b[1;32m--> 833\u001b[1;33m                     \u001b[0mself\u001b[0m\u001b[1;33m.\u001b[0m\u001b[0m_output\u001b[0m\u001b[1;33m.\u001b[0m\u001b[0mextend\u001b[0m\u001b[1;33m(\u001b[0m\u001b[0mjob\u001b[0m\u001b[1;33m.\u001b[0m\u001b[0mget\u001b[0m\u001b[1;33m(\u001b[0m\u001b[0mtimeout\u001b[0m\u001b[1;33m=\u001b[0m\u001b[0mself\u001b[0m\u001b[1;33m.\u001b[0m\u001b[0mtimeout\u001b[0m\u001b[1;33m)\u001b[0m\u001b[1;33m)\u001b[0m\u001b[1;33m\u001b[0m\u001b[1;33m\u001b[0m\u001b[0m\n\u001b[0m\u001b[0;32m    834\u001b[0m                 \u001b[1;32melse\u001b[0m\u001b[1;33m:\u001b[0m\u001b[1;33m\u001b[0m\u001b[1;33m\u001b[0m\u001b[0m\n",
      "\u001b[1;32m~\\Anaconda3\\lib\\site-packages\\sklearn\\externals\\joblib\\_parallel_backends.py\u001b[0m in \u001b[0;36mwrap_future_result\u001b[1;34m(future, timeout)\u001b[0m\n\u001b[0;32m    520\u001b[0m         \u001b[1;32mtry\u001b[0m\u001b[1;33m:\u001b[0m\u001b[1;33m\u001b[0m\u001b[1;33m\u001b[0m\u001b[0m\n\u001b[1;32m--> 521\u001b[1;33m             \u001b[1;32mreturn\u001b[0m \u001b[0mfuture\u001b[0m\u001b[1;33m.\u001b[0m\u001b[0mresult\u001b[0m\u001b[1;33m(\u001b[0m\u001b[0mtimeout\u001b[0m\u001b[1;33m=\u001b[0m\u001b[0mtimeout\u001b[0m\u001b[1;33m)\u001b[0m\u001b[1;33m\u001b[0m\u001b[1;33m\u001b[0m\u001b[0m\n\u001b[0m\u001b[0;32m    522\u001b[0m         \u001b[1;32mexcept\u001b[0m \u001b[0mLokyTimeoutError\u001b[0m\u001b[1;33m:\u001b[0m\u001b[1;33m\u001b[0m\u001b[1;33m\u001b[0m\u001b[0m\n",
      "\u001b[1;32m~\\Anaconda3\\lib\\concurrent\\futures\\_base.py\u001b[0m in \u001b[0;36mresult\u001b[1;34m(self, timeout)\u001b[0m\n\u001b[0;32m    426\u001b[0m \u001b[1;33m\u001b[0m\u001b[0m\n\u001b[1;32m--> 427\u001b[1;33m             \u001b[0mself\u001b[0m\u001b[1;33m.\u001b[0m\u001b[0m_condition\u001b[0m\u001b[1;33m.\u001b[0m\u001b[0mwait\u001b[0m\u001b[1;33m(\u001b[0m\u001b[0mtimeout\u001b[0m\u001b[1;33m)\u001b[0m\u001b[1;33m\u001b[0m\u001b[1;33m\u001b[0m\u001b[0m\n\u001b[0m\u001b[0;32m    428\u001b[0m \u001b[1;33m\u001b[0m\u001b[0m\n",
      "\u001b[1;32m~\\Anaconda3\\lib\\threading.py\u001b[0m in \u001b[0;36mwait\u001b[1;34m(self, timeout)\u001b[0m\n\u001b[0;32m    295\u001b[0m             \u001b[1;32mif\u001b[0m \u001b[0mtimeout\u001b[0m \u001b[1;32mis\u001b[0m \u001b[1;32mNone\u001b[0m\u001b[1;33m:\u001b[0m\u001b[1;33m\u001b[0m\u001b[1;33m\u001b[0m\u001b[0m\n\u001b[1;32m--> 296\u001b[1;33m                 \u001b[0mwaiter\u001b[0m\u001b[1;33m.\u001b[0m\u001b[0macquire\u001b[0m\u001b[1;33m(\u001b[0m\u001b[1;33m)\u001b[0m\u001b[1;33m\u001b[0m\u001b[1;33m\u001b[0m\u001b[0m\n\u001b[0m\u001b[0;32m    297\u001b[0m                 \u001b[0mgotit\u001b[0m \u001b[1;33m=\u001b[0m \u001b[1;32mTrue\u001b[0m\u001b[1;33m\u001b[0m\u001b[1;33m\u001b[0m\u001b[0m\n",
      "\u001b[1;31mKeyboardInterrupt\u001b[0m: ",
      "\nDuring handling of the above exception, another exception occurred:\n",
      "\u001b[1;31mPermissionError\u001b[0m                           Traceback (most recent call last)",
      "\u001b[1;32m~\\Anaconda3\\lib\\site-packages\\sklearn\\model_selection\\_search.py\u001b[0m in \u001b[0;36mfit\u001b[1;34m(self, X, y, groups, **fit_params)\u001b[0m\n\u001b[0;32m    721\u001b[0m \u001b[1;33m\u001b[0m\u001b[0m\n\u001b[1;32m--> 722\u001b[1;33m             \u001b[0mself\u001b[0m\u001b[1;33m.\u001b[0m\u001b[0m_run_search\u001b[0m\u001b[1;33m(\u001b[0m\u001b[0mevaluate_candidates\u001b[0m\u001b[1;33m)\u001b[0m\u001b[1;33m\u001b[0m\u001b[1;33m\u001b[0m\u001b[0m\n\u001b[0m\u001b[0;32m    723\u001b[0m \u001b[1;33m\u001b[0m\u001b[0m\n",
      "\u001b[1;32m~\\Anaconda3\\lib\\site-packages\\sklearn\\model_selection\\_search.py\u001b[0m in \u001b[0;36m_run_search\u001b[1;34m(self, evaluate_candidates)\u001b[0m\n\u001b[0;32m   1190\u001b[0m         \u001b[1;34m\"\"\"Search all candidates in param_grid\"\"\"\u001b[0m\u001b[1;33m\u001b[0m\u001b[1;33m\u001b[0m\u001b[0m\n\u001b[1;32m-> 1191\u001b[1;33m         \u001b[0mevaluate_candidates\u001b[0m\u001b[1;33m(\u001b[0m\u001b[0mParameterGrid\u001b[0m\u001b[1;33m(\u001b[0m\u001b[0mself\u001b[0m\u001b[1;33m.\u001b[0m\u001b[0mparam_grid\u001b[0m\u001b[1;33m)\u001b[0m\u001b[1;33m)\u001b[0m\u001b[1;33m\u001b[0m\u001b[1;33m\u001b[0m\u001b[0m\n\u001b[0m\u001b[0;32m   1192\u001b[0m \u001b[1;33m\u001b[0m\u001b[0m\n",
      "\u001b[1;32m~\\Anaconda3\\lib\\site-packages\\sklearn\\model_selection\\_search.py\u001b[0m in \u001b[0;36mevaluate_candidates\u001b[1;34m(candidate_params)\u001b[0m\n\u001b[0;32m    710\u001b[0m                                in product(candidate_params,\n\u001b[1;32m--> 711\u001b[1;33m                                           cv.split(X, y, groups)))\n\u001b[0m\u001b[0;32m    712\u001b[0m \u001b[1;33m\u001b[0m\u001b[0m\n",
      "\u001b[1;32m~\\Anaconda3\\lib\\site-packages\\sklearn\\externals\\joblib\\parallel.py\u001b[0m in \u001b[0;36m__call__\u001b[1;34m(self, iterable)\u001b[0m\n\u001b[0;32m    929\u001b[0m             \u001b[1;32mwith\u001b[0m \u001b[0mself\u001b[0m\u001b[1;33m.\u001b[0m\u001b[0m_backend\u001b[0m\u001b[1;33m.\u001b[0m\u001b[0mretrieval_context\u001b[0m\u001b[1;33m(\u001b[0m\u001b[1;33m)\u001b[0m\u001b[1;33m:\u001b[0m\u001b[1;33m\u001b[0m\u001b[1;33m\u001b[0m\u001b[0m\n\u001b[1;32m--> 930\u001b[1;33m                 \u001b[0mself\u001b[0m\u001b[1;33m.\u001b[0m\u001b[0mretrieve\u001b[0m\u001b[1;33m(\u001b[0m\u001b[1;33m)\u001b[0m\u001b[1;33m\u001b[0m\u001b[1;33m\u001b[0m\u001b[0m\n\u001b[0m\u001b[0;32m    931\u001b[0m             \u001b[1;31m# Make sure that we get a last message telling us we are done\u001b[0m\u001b[1;33m\u001b[0m\u001b[1;33m\u001b[0m\u001b[1;33m\u001b[0m\u001b[0m\n",
      "\u001b[1;32m~\\Anaconda3\\lib\\site-packages\\sklearn\\externals\\joblib\\parallel.py\u001b[0m in \u001b[0;36mretrieve\u001b[1;34m(self)\u001b[0m\n\u001b[0;32m    854\u001b[0m                     \u001b[0mensure_ready\u001b[0m \u001b[1;33m=\u001b[0m \u001b[0mself\u001b[0m\u001b[1;33m.\u001b[0m\u001b[0m_managed_backend\u001b[0m\u001b[1;33m\u001b[0m\u001b[1;33m\u001b[0m\u001b[0m\n\u001b[1;32m--> 855\u001b[1;33m                     \u001b[0mbackend\u001b[0m\u001b[1;33m.\u001b[0m\u001b[0mabort_everything\u001b[0m\u001b[1;33m(\u001b[0m\u001b[0mensure_ready\u001b[0m\u001b[1;33m=\u001b[0m\u001b[0mensure_ready\u001b[0m\u001b[1;33m)\u001b[0m\u001b[1;33m\u001b[0m\u001b[1;33m\u001b[0m\u001b[0m\n\u001b[0m\u001b[0;32m    856\u001b[0m \u001b[1;33m\u001b[0m\u001b[0m\n",
      "\u001b[1;32m~\\Anaconda3\\lib\\site-packages\\sklearn\\externals\\joblib\\_parallel_backends.py\u001b[0m in \u001b[0;36mabort_everything\u001b[1;34m(self, ensure_ready)\u001b[0m\n\u001b[0;32m    538\u001b[0m         \u001b[0mself\u001b[0m\u001b[1;33m.\u001b[0m\u001b[0m_workers\u001b[0m\u001b[1;33m.\u001b[0m\u001b[0mshutdown\u001b[0m\u001b[1;33m(\u001b[0m\u001b[0mkill_workers\u001b[0m\u001b[1;33m=\u001b[0m\u001b[1;32mTrue\u001b[0m\u001b[1;33m)\u001b[0m\u001b[1;33m\u001b[0m\u001b[1;33m\u001b[0m\u001b[0m\n\u001b[1;32m--> 539\u001b[1;33m         \u001b[0mdelete_folder\u001b[0m\u001b[1;33m(\u001b[0m\u001b[0mself\u001b[0m\u001b[1;33m.\u001b[0m\u001b[0m_workers\u001b[0m\u001b[1;33m.\u001b[0m\u001b[0m_temp_folder\u001b[0m\u001b[1;33m)\u001b[0m\u001b[1;33m\u001b[0m\u001b[1;33m\u001b[0m\u001b[0m\n\u001b[0m\u001b[0;32m    540\u001b[0m         \u001b[0mself\u001b[0m\u001b[1;33m.\u001b[0m\u001b[0m_workers\u001b[0m \u001b[1;33m=\u001b[0m \u001b[1;32mNone\u001b[0m\u001b[1;33m\u001b[0m\u001b[1;33m\u001b[0m\u001b[0m\n",
      "\u001b[1;32m~\\Anaconda3\\lib\\site-packages\\sklearn\\externals\\joblib\\disk.py\u001b[0m in \u001b[0;36mdelete_folder\u001b[1;34m(folder_path, onerror)\u001b[0m\n\u001b[0;32m    114\u001b[0m                 \u001b[1;32mtry\u001b[0m\u001b[1;33m:\u001b[0m\u001b[1;33m\u001b[0m\u001b[1;33m\u001b[0m\u001b[0m\n\u001b[1;32m--> 115\u001b[1;33m                     \u001b[0mshutil\u001b[0m\u001b[1;33m.\u001b[0m\u001b[0mrmtree\u001b[0m\u001b[1;33m(\u001b[0m\u001b[0mfolder_path\u001b[0m\u001b[1;33m,\u001b[0m \u001b[1;32mFalse\u001b[0m\u001b[1;33m,\u001b[0m \u001b[1;32mNone\u001b[0m\u001b[1;33m)\u001b[0m\u001b[1;33m\u001b[0m\u001b[1;33m\u001b[0m\u001b[0m\n\u001b[0m\u001b[0;32m    116\u001b[0m                     \u001b[1;32mbreak\u001b[0m\u001b[1;33m\u001b[0m\u001b[1;33m\u001b[0m\u001b[0m\n",
      "\u001b[1;32m~\\Anaconda3\\lib\\shutil.py\u001b[0m in \u001b[0;36mrmtree\u001b[1;34m(path, ignore_errors, onerror)\u001b[0m\n\u001b[0;32m    512\u001b[0m             \u001b[1;32mreturn\u001b[0m\u001b[1;33m\u001b[0m\u001b[1;33m\u001b[0m\u001b[0m\n\u001b[1;32m--> 513\u001b[1;33m         \u001b[1;32mreturn\u001b[0m \u001b[0m_rmtree_unsafe\u001b[0m\u001b[1;33m(\u001b[0m\u001b[0mpath\u001b[0m\u001b[1;33m,\u001b[0m \u001b[0monerror\u001b[0m\u001b[1;33m)\u001b[0m\u001b[1;33m\u001b[0m\u001b[1;33m\u001b[0m\u001b[0m\n\u001b[0m\u001b[0;32m    514\u001b[0m \u001b[1;33m\u001b[0m\u001b[0m\n",
      "\u001b[1;32m~\\Anaconda3\\lib\\shutil.py\u001b[0m in \u001b[0;36m_rmtree_unsafe\u001b[1;34m(path, onerror)\u001b[0m\n\u001b[0;32m    396\u001b[0m             \u001b[1;32mexcept\u001b[0m \u001b[0mOSError\u001b[0m\u001b[1;33m:\u001b[0m\u001b[1;33m\u001b[0m\u001b[1;33m\u001b[0m\u001b[0m\n\u001b[1;32m--> 397\u001b[1;33m                 \u001b[0monerror\u001b[0m\u001b[1;33m(\u001b[0m\u001b[0mos\u001b[0m\u001b[1;33m.\u001b[0m\u001b[0munlink\u001b[0m\u001b[1;33m,\u001b[0m \u001b[0mfullname\u001b[0m\u001b[1;33m,\u001b[0m \u001b[0msys\u001b[0m\u001b[1;33m.\u001b[0m\u001b[0mexc_info\u001b[0m\u001b[1;33m(\u001b[0m\u001b[1;33m)\u001b[0m\u001b[1;33m)\u001b[0m\u001b[1;33m\u001b[0m\u001b[1;33m\u001b[0m\u001b[0m\n\u001b[0m\u001b[0;32m    398\u001b[0m     \u001b[1;32mtry\u001b[0m\u001b[1;33m:\u001b[0m\u001b[1;33m\u001b[0m\u001b[1;33m\u001b[0m\u001b[0m\n",
      "\u001b[1;32m~\\Anaconda3\\lib\\shutil.py\u001b[0m in \u001b[0;36m_rmtree_unsafe\u001b[1;34m(path, onerror)\u001b[0m\n\u001b[0;32m    394\u001b[0m             \u001b[1;32mtry\u001b[0m\u001b[1;33m:\u001b[0m\u001b[1;33m\u001b[0m\u001b[1;33m\u001b[0m\u001b[0m\n\u001b[1;32m--> 395\u001b[1;33m                 \u001b[0mos\u001b[0m\u001b[1;33m.\u001b[0m\u001b[0munlink\u001b[0m\u001b[1;33m(\u001b[0m\u001b[0mfullname\u001b[0m\u001b[1;33m)\u001b[0m\u001b[1;33m\u001b[0m\u001b[1;33m\u001b[0m\u001b[0m\n\u001b[0m\u001b[0;32m    396\u001b[0m             \u001b[1;32mexcept\u001b[0m \u001b[0mOSError\u001b[0m\u001b[1;33m:\u001b[0m\u001b[1;33m\u001b[0m\u001b[1;33m\u001b[0m\u001b[0m\n",
      "\u001b[1;31mPermissionError\u001b[0m: [WinError 32] The process cannot access the file because it is being used by another process: 'C:\\\\Users\\\\Jyoti\\\\AppData\\\\Local\\\\Temp\\\\joblib_memmapping_folder_20672_6239097417\\\\20672-3115221040712-675a7d09fbe94fa6af8cdb3c9aff0087.pkl'",
      "\nDuring handling of the above exception, another exception occurred:\n",
      "\u001b[1;31mPermissionError\u001b[0m                           Traceback (most recent call last)",
      "\u001b[1;32m<ipython-input-73-243d33272765>\u001b[0m in \u001b[0;36m<module>\u001b[1;34m\u001b[0m\n\u001b[1;32m----> 1\u001b[1;33m \u001b[0moptimized_GBM\u001b[0m\u001b[1;33m.\u001b[0m\u001b[0mfit\u001b[0m\u001b[1;33m(\u001b[0m\u001b[0mx_train\u001b[0m\u001b[1;33m,\u001b[0m \u001b[0my_train\u001b[0m\u001b[1;33m)\u001b[0m\u001b[1;33m\u001b[0m\u001b[1;33m\u001b[0m\u001b[0m\n\u001b[0m",
      "\u001b[1;32m~\\Anaconda3\\lib\\site-packages\\sklearn\\model_selection\\_search.py\u001b[0m in \u001b[0;36mfit\u001b[1;34m(self, X, y, groups, **fit_params)\u001b[0m\n\u001b[0;32m    720\u001b[0m                 \u001b[1;32mreturn\u001b[0m \u001b[0mresults_container\u001b[0m\u001b[1;33m[\u001b[0m\u001b[1;36m0\u001b[0m\u001b[1;33m]\u001b[0m\u001b[1;33m\u001b[0m\u001b[1;33m\u001b[0m\u001b[0m\n\u001b[0;32m    721\u001b[0m \u001b[1;33m\u001b[0m\u001b[0m\n\u001b[1;32m--> 722\u001b[1;33m             \u001b[0mself\u001b[0m\u001b[1;33m.\u001b[0m\u001b[0m_run_search\u001b[0m\u001b[1;33m(\u001b[0m\u001b[0mevaluate_candidates\u001b[0m\u001b[1;33m)\u001b[0m\u001b[1;33m\u001b[0m\u001b[1;33m\u001b[0m\u001b[0m\n\u001b[0m\u001b[0;32m    723\u001b[0m \u001b[1;33m\u001b[0m\u001b[0m\n\u001b[0;32m    724\u001b[0m         \u001b[0mresults\u001b[0m \u001b[1;33m=\u001b[0m \u001b[0mresults_container\u001b[0m\u001b[1;33m[\u001b[0m\u001b[1;36m0\u001b[0m\u001b[1;33m]\u001b[0m\u001b[1;33m\u001b[0m\u001b[1;33m\u001b[0m\u001b[0m\n",
      "\u001b[1;32m~\\Anaconda3\\lib\\site-packages\\sklearn\\externals\\joblib\\parallel.py\u001b[0m in \u001b[0;36m__exit__\u001b[1;34m(self, exc_type, exc_value, traceback)\u001b[0m\n\u001b[0;32m    664\u001b[0m \u001b[1;33m\u001b[0m\u001b[0m\n\u001b[0;32m    665\u001b[0m     \u001b[1;32mdef\u001b[0m \u001b[0m__exit__\u001b[0m\u001b[1;33m(\u001b[0m\u001b[0mself\u001b[0m\u001b[1;33m,\u001b[0m \u001b[0mexc_type\u001b[0m\u001b[1;33m,\u001b[0m \u001b[0mexc_value\u001b[0m\u001b[1;33m,\u001b[0m \u001b[0mtraceback\u001b[0m\u001b[1;33m)\u001b[0m\u001b[1;33m:\u001b[0m\u001b[1;33m\u001b[0m\u001b[1;33m\u001b[0m\u001b[0m\n\u001b[1;32m--> 666\u001b[1;33m         \u001b[0mself\u001b[0m\u001b[1;33m.\u001b[0m\u001b[0m_terminate_backend\u001b[0m\u001b[1;33m(\u001b[0m\u001b[1;33m)\u001b[0m\u001b[1;33m\u001b[0m\u001b[1;33m\u001b[0m\u001b[0m\n\u001b[0m\u001b[0;32m    667\u001b[0m         \u001b[0mself\u001b[0m\u001b[1;33m.\u001b[0m\u001b[0m_managed_backend\u001b[0m \u001b[1;33m=\u001b[0m \u001b[1;32mFalse\u001b[0m\u001b[1;33m\u001b[0m\u001b[1;33m\u001b[0m\u001b[0m\n\u001b[0;32m    668\u001b[0m \u001b[1;33m\u001b[0m\u001b[0m\n",
      "\u001b[1;32m~\\Anaconda3\\lib\\site-packages\\sklearn\\externals\\joblib\\parallel.py\u001b[0m in \u001b[0;36m_terminate_backend\u001b[1;34m(self)\u001b[0m\n\u001b[0;32m    694\u001b[0m     \u001b[1;32mdef\u001b[0m \u001b[0m_terminate_backend\u001b[0m\u001b[1;33m(\u001b[0m\u001b[0mself\u001b[0m\u001b[1;33m)\u001b[0m\u001b[1;33m:\u001b[0m\u001b[1;33m\u001b[0m\u001b[1;33m\u001b[0m\u001b[0m\n\u001b[0;32m    695\u001b[0m         \u001b[1;32mif\u001b[0m \u001b[0mself\u001b[0m\u001b[1;33m.\u001b[0m\u001b[0m_backend\u001b[0m \u001b[1;32mis\u001b[0m \u001b[1;32mnot\u001b[0m \u001b[1;32mNone\u001b[0m\u001b[1;33m:\u001b[0m\u001b[1;33m\u001b[0m\u001b[1;33m\u001b[0m\u001b[0m\n\u001b[1;32m--> 696\u001b[1;33m             \u001b[0mself\u001b[0m\u001b[1;33m.\u001b[0m\u001b[0m_backend\u001b[0m\u001b[1;33m.\u001b[0m\u001b[0mterminate\u001b[0m\u001b[1;33m(\u001b[0m\u001b[1;33m)\u001b[0m\u001b[1;33m\u001b[0m\u001b[1;33m\u001b[0m\u001b[0m\n\u001b[0m\u001b[0;32m    697\u001b[0m \u001b[1;33m\u001b[0m\u001b[0m\n\u001b[0;32m    698\u001b[0m     \u001b[1;32mdef\u001b[0m \u001b[0m_dispatch\u001b[0m\u001b[1;33m(\u001b[0m\u001b[0mself\u001b[0m\u001b[1;33m,\u001b[0m \u001b[0mbatch\u001b[0m\u001b[1;33m)\u001b[0m\u001b[1;33m:\u001b[0m\u001b[1;33m\u001b[0m\u001b[1;33m\u001b[0m\u001b[0m\n",
      "\u001b[1;32m~\\Anaconda3\\lib\\site-packages\\sklearn\\externals\\joblib\\_parallel_backends.py\u001b[0m in \u001b[0;36mterminate\u001b[1;34m(self)\u001b[0m\n\u001b[0;32m    528\u001b[0m             \u001b[1;31m# in latter calls but we free as much memory as we can by deleting\u001b[0m\u001b[1;33m\u001b[0m\u001b[1;33m\u001b[0m\u001b[1;33m\u001b[0m\u001b[0m\n\u001b[0;32m    529\u001b[0m             \u001b[1;31m# the shared memory\u001b[0m\u001b[1;33m\u001b[0m\u001b[1;33m\u001b[0m\u001b[1;33m\u001b[0m\u001b[0m\n\u001b[1;32m--> 530\u001b[1;33m             \u001b[0mdelete_folder\u001b[0m\u001b[1;33m(\u001b[0m\u001b[0mself\u001b[0m\u001b[1;33m.\u001b[0m\u001b[0m_workers\u001b[0m\u001b[1;33m.\u001b[0m\u001b[0m_temp_folder\u001b[0m\u001b[1;33m)\u001b[0m\u001b[1;33m\u001b[0m\u001b[1;33m\u001b[0m\u001b[0m\n\u001b[0m\u001b[0;32m    531\u001b[0m             \u001b[0mself\u001b[0m\u001b[1;33m.\u001b[0m\u001b[0m_workers\u001b[0m \u001b[1;33m=\u001b[0m \u001b[1;32mNone\u001b[0m\u001b[1;33m\u001b[0m\u001b[1;33m\u001b[0m\u001b[0m\n\u001b[0;32m    532\u001b[0m \u001b[1;33m\u001b[0m\u001b[0m\n",
      "\u001b[1;32m~\\Anaconda3\\lib\\site-packages\\sklearn\\externals\\joblib\\disk.py\u001b[0m in \u001b[0;36mdelete_folder\u001b[1;34m(folder_path, onerror)\u001b[0m\n\u001b[0;32m    113\u001b[0m             \u001b[1;32mwhile\u001b[0m \u001b[1;32mTrue\u001b[0m\u001b[1;33m:\u001b[0m\u001b[1;33m\u001b[0m\u001b[1;33m\u001b[0m\u001b[0m\n\u001b[0;32m    114\u001b[0m                 \u001b[1;32mtry\u001b[0m\u001b[1;33m:\u001b[0m\u001b[1;33m\u001b[0m\u001b[1;33m\u001b[0m\u001b[0m\n\u001b[1;32m--> 115\u001b[1;33m                     \u001b[0mshutil\u001b[0m\u001b[1;33m.\u001b[0m\u001b[0mrmtree\u001b[0m\u001b[1;33m(\u001b[0m\u001b[0mfolder_path\u001b[0m\u001b[1;33m,\u001b[0m \u001b[1;32mFalse\u001b[0m\u001b[1;33m,\u001b[0m \u001b[1;32mNone\u001b[0m\u001b[1;33m)\u001b[0m\u001b[1;33m\u001b[0m\u001b[1;33m\u001b[0m\u001b[0m\n\u001b[0m\u001b[0;32m    116\u001b[0m                     \u001b[1;32mbreak\u001b[0m\u001b[1;33m\u001b[0m\u001b[1;33m\u001b[0m\u001b[0m\n\u001b[0;32m    117\u001b[0m                 \u001b[1;32mexcept\u001b[0m \u001b[1;33m(\u001b[0m\u001b[0mOSError\u001b[0m\u001b[1;33m,\u001b[0m \u001b[0mWindowsError\u001b[0m\u001b[1;33m)\u001b[0m\u001b[1;33m:\u001b[0m\u001b[1;33m\u001b[0m\u001b[1;33m\u001b[0m\u001b[0m\n",
      "\u001b[1;32m~\\Anaconda3\\lib\\shutil.py\u001b[0m in \u001b[0;36mrmtree\u001b[1;34m(path, ignore_errors, onerror)\u001b[0m\n\u001b[0;32m    511\u001b[0m             \u001b[1;31m# can't continue even if onerror hook returns\u001b[0m\u001b[1;33m\u001b[0m\u001b[1;33m\u001b[0m\u001b[1;33m\u001b[0m\u001b[0m\n\u001b[0;32m    512\u001b[0m             \u001b[1;32mreturn\u001b[0m\u001b[1;33m\u001b[0m\u001b[1;33m\u001b[0m\u001b[0m\n\u001b[1;32m--> 513\u001b[1;33m         \u001b[1;32mreturn\u001b[0m \u001b[0m_rmtree_unsafe\u001b[0m\u001b[1;33m(\u001b[0m\u001b[0mpath\u001b[0m\u001b[1;33m,\u001b[0m \u001b[0monerror\u001b[0m\u001b[1;33m)\u001b[0m\u001b[1;33m\u001b[0m\u001b[1;33m\u001b[0m\u001b[0m\n\u001b[0m\u001b[0;32m    514\u001b[0m \u001b[1;33m\u001b[0m\u001b[0m\n\u001b[0;32m    515\u001b[0m \u001b[1;31m# Allow introspection of whether or not the hardening against symlink\u001b[0m\u001b[1;33m\u001b[0m\u001b[1;33m\u001b[0m\u001b[1;33m\u001b[0m\u001b[0m\n",
      "\u001b[1;32m~\\Anaconda3\\lib\\shutil.py\u001b[0m in \u001b[0;36m_rmtree_unsafe\u001b[1;34m(path, onerror)\u001b[0m\n\u001b[0;32m    395\u001b[0m                 \u001b[0mos\u001b[0m\u001b[1;33m.\u001b[0m\u001b[0munlink\u001b[0m\u001b[1;33m(\u001b[0m\u001b[0mfullname\u001b[0m\u001b[1;33m)\u001b[0m\u001b[1;33m\u001b[0m\u001b[1;33m\u001b[0m\u001b[0m\n\u001b[0;32m    396\u001b[0m             \u001b[1;32mexcept\u001b[0m \u001b[0mOSError\u001b[0m\u001b[1;33m:\u001b[0m\u001b[1;33m\u001b[0m\u001b[1;33m\u001b[0m\u001b[0m\n\u001b[1;32m--> 397\u001b[1;33m                 \u001b[0monerror\u001b[0m\u001b[1;33m(\u001b[0m\u001b[0mos\u001b[0m\u001b[1;33m.\u001b[0m\u001b[0munlink\u001b[0m\u001b[1;33m,\u001b[0m \u001b[0mfullname\u001b[0m\u001b[1;33m,\u001b[0m \u001b[0msys\u001b[0m\u001b[1;33m.\u001b[0m\u001b[0mexc_info\u001b[0m\u001b[1;33m(\u001b[0m\u001b[1;33m)\u001b[0m\u001b[1;33m)\u001b[0m\u001b[1;33m\u001b[0m\u001b[1;33m\u001b[0m\u001b[0m\n\u001b[0m\u001b[0;32m    398\u001b[0m     \u001b[1;32mtry\u001b[0m\u001b[1;33m:\u001b[0m\u001b[1;33m\u001b[0m\u001b[1;33m\u001b[0m\u001b[0m\n\u001b[0;32m    399\u001b[0m         \u001b[0mos\u001b[0m\u001b[1;33m.\u001b[0m\u001b[0mrmdir\u001b[0m\u001b[1;33m(\u001b[0m\u001b[0mpath\u001b[0m\u001b[1;33m)\u001b[0m\u001b[1;33m\u001b[0m\u001b[1;33m\u001b[0m\u001b[0m\n",
      "\u001b[1;32m~\\Anaconda3\\lib\\shutil.py\u001b[0m in \u001b[0;36m_rmtree_unsafe\u001b[1;34m(path, onerror)\u001b[0m\n\u001b[0;32m    393\u001b[0m         \u001b[1;32melse\u001b[0m\u001b[1;33m:\u001b[0m\u001b[1;33m\u001b[0m\u001b[1;33m\u001b[0m\u001b[0m\n\u001b[0;32m    394\u001b[0m             \u001b[1;32mtry\u001b[0m\u001b[1;33m:\u001b[0m\u001b[1;33m\u001b[0m\u001b[1;33m\u001b[0m\u001b[0m\n\u001b[1;32m--> 395\u001b[1;33m                 \u001b[0mos\u001b[0m\u001b[1;33m.\u001b[0m\u001b[0munlink\u001b[0m\u001b[1;33m(\u001b[0m\u001b[0mfullname\u001b[0m\u001b[1;33m)\u001b[0m\u001b[1;33m\u001b[0m\u001b[1;33m\u001b[0m\u001b[0m\n\u001b[0m\u001b[0;32m    396\u001b[0m             \u001b[1;32mexcept\u001b[0m \u001b[0mOSError\u001b[0m\u001b[1;33m:\u001b[0m\u001b[1;33m\u001b[0m\u001b[1;33m\u001b[0m\u001b[0m\n\u001b[0;32m    397\u001b[0m                 \u001b[0monerror\u001b[0m\u001b[1;33m(\u001b[0m\u001b[0mos\u001b[0m\u001b[1;33m.\u001b[0m\u001b[0munlink\u001b[0m\u001b[1;33m,\u001b[0m \u001b[0mfullname\u001b[0m\u001b[1;33m,\u001b[0m \u001b[0msys\u001b[0m\u001b[1;33m.\u001b[0m\u001b[0mexc_info\u001b[0m\u001b[1;33m(\u001b[0m\u001b[1;33m)\u001b[0m\u001b[1;33m)\u001b[0m\u001b[1;33m\u001b[0m\u001b[1;33m\u001b[0m\u001b[0m\n",
      "\u001b[1;31mPermissionError\u001b[0m: [WinError 32] The process cannot access the file because it is being used by another process: 'C:\\\\Users\\\\Jyoti\\\\AppData\\\\Local\\\\Temp\\\\joblib_memmapping_folder_20672_6239097417\\\\20672-3115221040712-675a7d09fbe94fa6af8cdb3c9aff0087.pkl'"
     ]
    }
   ],
   "source": [
    "optimized_GBM.fit(x_train, y_train)"
   ]
  },
  {
   "cell_type": "code",
   "execution_count": null,
   "metadata": {},
   "outputs": [],
   "source": []
  }
 ],
 "metadata": {
  "kernelspec": {
   "display_name": "Python 3",
   "language": "python",
   "name": "python3"
  },
  "language_info": {
   "codemirror_mode": {
    "name": "ipython",
    "version": 3
   },
   "file_extension": ".py",
   "mimetype": "text/x-python",
   "name": "python",
   "nbconvert_exporter": "python",
   "pygments_lexer": "ipython3",
   "version": "3.7.3"
  }
 },
 "nbformat": 4,
 "nbformat_minor": 2
}

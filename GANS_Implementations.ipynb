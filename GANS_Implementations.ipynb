{
  "nbformat": 4,
  "nbformat_minor": 0,
  "metadata": {
    "colab": {
      "provenance": [],
      "gpuType": "V28",
      "authorship_tag": "ABX9TyM6ue8Q92q3VZWfxsxYTORj",
      "include_colab_link": true
    },
    "kernelspec": {
      "name": "python3",
      "display_name": "Python 3"
    },
    "language_info": {
      "name": "python"
    },
    "accelerator": "TPU"
  },
  "cells": [
    {
      "cell_type": "markdown",
      "metadata": {
        "id": "view-in-github",
        "colab_type": "text"
      },
      "source": [
        "<a href=\"https://colab.research.google.com/github/Jyoti1706/Data-Science-Project/blob/master/GANS_Implementations.ipynb\" target=\"_parent\"><img src=\"https://colab.research.google.com/assets/colab-badge.svg\" alt=\"Open In Colab\"/></a>"
      ]
    },
    {
      "cell_type": "markdown",
      "source": [
        "## **ADL Group 29**\n",
        "1. SRI JAYANT - 2022ac05045\n",
        "2. DEVARSHI TRIPATHI - 2022ac05116\n",
        "3. JYOTI KUMARI - 2022ac05215"
      ],
      "metadata": {
        "id": "DVBe0L9fb_ZC"
      }
    },
    {
      "cell_type": "markdown",
      "source": [
        "## Task 1: Implement and train a conditional Wesserstein GAN with CIFAR10 dataset. Generate 25 new images belonging to 'automobile' class. Report IS and FID scores.\n",
        "\n"
      ],
      "metadata": {
        "id": "VW8XzkCKa8se"
      }
    },
    {
      "cell_type": "code",
      "execution_count": 2,
      "metadata": {
        "colab": {
          "base_uri": "https://localhost:8080/"
        },
        "id": "jb1zqLF9mqNQ",
        "outputId": "f64d1a7b-542c-4123-cb3b-462542cb423a"
      },
      "outputs": [
        {
          "output_type": "stream",
          "name": "stdout",
          "text": [
            "Requirement already satisfied: torch in /usr/local/lib/python3.10/dist-packages (2.4.0+cpu)\n",
            "Requirement already satisfied: torchvision in /usr/local/lib/python3.10/dist-packages (0.19.0+cpu)\n",
            "Requirement already satisfied: numpy in /usr/local/lib/python3.10/dist-packages (1.26.4)\n",
            "Requirement already satisfied: matplotlib in /usr/local/lib/python3.10/dist-packages (3.7.1)\n",
            "Requirement already satisfied: filelock in /usr/local/lib/python3.10/dist-packages (from torch) (3.16.0)\n",
            "Requirement already satisfied: typing-extensions>=4.8.0 in /usr/local/lib/python3.10/dist-packages (from torch) (4.12.2)\n",
            "Requirement already satisfied: sympy in /usr/local/lib/python3.10/dist-packages (from torch) (1.13.2)\n",
            "Requirement already satisfied: networkx in /usr/local/lib/python3.10/dist-packages (from torch) (3.3)\n",
            "Requirement already satisfied: jinja2 in /usr/local/lib/python3.10/dist-packages (from torch) (3.1.4)\n",
            "Requirement already satisfied: fsspec in /usr/local/lib/python3.10/dist-packages (from torch) (2024.9.0)\n",
            "Requirement already satisfied: pillow!=8.3.*,>=5.3.0 in /usr/local/lib/python3.10/dist-packages (from torchvision) (10.4.0)\n",
            "Requirement already satisfied: contourpy>=1.0.1 in /usr/local/lib/python3.10/dist-packages (from matplotlib) (1.3.0)\n",
            "Requirement already satisfied: cycler>=0.10 in /usr/local/lib/python3.10/dist-packages (from matplotlib) (0.12.1)\n",
            "Requirement already satisfied: fonttools>=4.22.0 in /usr/local/lib/python3.10/dist-packages (from matplotlib) (4.53.1)\n",
            "Requirement already satisfied: kiwisolver>=1.0.1 in /usr/local/lib/python3.10/dist-packages (from matplotlib) (1.4.7)\n",
            "Requirement already satisfied: packaging>=20.0 in /usr/local/lib/python3.10/dist-packages (from matplotlib) (24.1)\n",
            "Requirement already satisfied: pyparsing>=2.3.1 in /usr/local/lib/python3.10/dist-packages (from matplotlib) (3.1.4)\n",
            "Requirement already satisfied: python-dateutil>=2.7 in /usr/local/lib/python3.10/dist-packages (from matplotlib) (2.9.0.post0)\n",
            "Requirement already satisfied: six>=1.5 in /usr/local/lib/python3.10/dist-packages (from python-dateutil>=2.7->matplotlib) (1.16.0)\n",
            "Requirement already satisfied: MarkupSafe>=2.0 in /usr/local/lib/python3.10/dist-packages (from jinja2->torch) (2.1.5)\n",
            "Requirement already satisfied: mpmath<1.4,>=1.1.0 in /usr/local/lib/python3.10/dist-packages (from sympy->torch) (1.3.0)\n"
          ]
        }
      ],
      "source": [
        "pip install torch torchvision numpy matplotlib\n"
      ]
    },
    {
      "cell_type": "code",
      "source": [
        "import torch\n",
        "import torch.nn as nn\n",
        "\n",
        "class Generator(nn.Module):\n",
        "    def __init__(self, noise_dim, num_classes, img_channels):\n",
        "        super(Generator, self).__init__()\n",
        "        self.label_embed = nn.Embedding(num_classes, noise_dim)\n",
        "        self.model = nn.Sequential(\n",
        "            nn.Linear(noise_dim * 2, 256),\n",
        "            nn.LeakyReLU(0.2),\n",
        "            nn.Linear(256, 512),\n",
        "            nn.LeakyReLU(0.2),\n",
        "            nn.Linear(512, 1024),\n",
        "            nn.LeakyReLU(0.2),\n",
        "            nn.Linear(1024, img_channels * 32 * 32),\n",
        "            nn.Tanh()\n",
        "        )\n",
        "\n",
        "    def forward(self, noise, labels):\n",
        "        label_embedding = self.label_embed(labels)\n",
        "        x = torch.cat([noise, label_embedding], dim=1)\n",
        "        img = self.model(x)\n",
        "        return img.view(img.size(0), 3, 32, 32)\n",
        "\n",
        "class Discriminator(nn.Module):\n",
        "    def __init__(self, img_channels, num_classes):\n",
        "        super(Discriminator, self).__init__()\n",
        "        self.label_embed = nn.Embedding(num_classes, img_channels * 32 * 32)\n",
        "        self.model = nn.Sequential(\n",
        "            nn.Linear(img_channels * 32 * 32 * 2, 512),\n",
        "            nn.LeakyReLU(0.2),\n",
        "            nn.Linear(512, 256),\n",
        "            nn.LeakyReLU(0.2),\n",
        "            nn.Linear(256, 1)\n",
        "        )\n",
        "\n",
        "    def forward(self, img, labels):\n",
        "        label_embedding = self.label_embed(labels)\n",
        "        x = torch.cat([img.view(img.size(0), -1), label_embedding], dim=1)\n",
        "        validity = self.model(x)\n",
        "        return validity\n"
      ],
      "metadata": {
        "id": "jAa0minDmuLP"
      },
      "execution_count": 3,
      "outputs": []
    },
    {
      "cell_type": "code",
      "source": [
        "import torchvision.transforms as transforms\n",
        "from torchvision.datasets import CIFAR10\n",
        "from torch.utils.data import DataLoader\n",
        "\n",
        "transform = transforms.Compose([\n",
        "    transforms.ToTensor(),\n",
        "    transforms.Normalize([0.5, 0.5, 0.5], [0.5, 0.5, 0.5])\n",
        "])\n",
        "\n",
        "dataset = CIFAR10(root=\"./data\", train=True, transform=transform, download=True)\n",
        "\n",
        "# Filter out only 'automobile' class (class index 1 in CIFAR-10)\n",
        "automobile_class = 1\n",
        "filtered_dataset = [(img, label) for img, label in dataset if label == automobile_class]\n",
        "dataloader = DataLoader(filtered_dataset, batch_size=64, shuffle=True)\n",
        "\n"
      ],
      "metadata": {
        "colab": {
          "base_uri": "https://localhost:8080/"
        },
        "id": "xV3rFQ42m2mY",
        "outputId": "c0ac3218-de50-4777-9cef-22991b62f99a"
      },
      "execution_count": 4,
      "outputs": [
        {
          "output_type": "stream",
          "name": "stdout",
          "text": [
            "Files already downloaded and verified\n"
          ]
        }
      ]
    },
    {
      "cell_type": "code",
      "source": [
        "def wasserstein_loss(y_pred, y_true):\n",
        "    return torch.mean(y_true * y_pred)\n",
        "device = torch.device(\"cuda\" if torch.cuda.is_available() else \"cpu\")\n",
        "print(device)\n",
        "generator = Generator(noise_dim=100, num_classes=10, img_channels=3).to(device)\n",
        "discriminator = Discriminator(img_channels=3, num_classes=10).to(device)\n",
        "\n",
        "optimizer_G = torch.optim.Adam(generator.parameters(), lr=0.0002)\n",
        "optimizer_D = torch.optim.Adam(discriminator.parameters(), lr=0.0002)\n"
      ],
      "metadata": {
        "colab": {
          "base_uri": "https://localhost:8080/"
        },
        "id": "0DZd_xm-m6hH",
        "outputId": "dba7483b-1222-4684-e641-771970a44201"
      },
      "execution_count": 5,
      "outputs": [
        {
          "output_type": "stream",
          "name": "stdout",
          "text": [
            "cpu\n"
          ]
        }
      ]
    },
    {
      "cell_type": "code",
      "source": [
        "epochs = 150\n",
        "for epoch in range(epochs):\n",
        "    for i, (imgs, labels) in enumerate(dataloader):\n",
        "        real_imgs = imgs.to(device)\n",
        "        labels = labels.to(device)\n",
        "\n",
        "        # Train Discriminator\n",
        "        optimizer_D.zero_grad()\n",
        "\n",
        "        z = torch.randn(imgs.size(0), 100).to(device)\n",
        "        fake_imgs = generator(z, labels)\n",
        "\n",
        "        real_loss = wasserstein_loss(discriminator(real_imgs, labels), torch.ones_like(labels).to(device))\n",
        "        fake_loss = wasserstein_loss(discriminator(fake_imgs.detach(), labels), -torch.ones_like(labels).to(device))\n",
        "        d_loss = real_loss + fake_loss\n",
        "        d_loss.backward()\n",
        "        optimizer_D.step()\n",
        "\n",
        "        # Train Generator\n",
        "        optimizer_G.zero_grad()\n",
        "\n",
        "        gen_imgs = generator(z, labels)\n",
        "        g_loss = wasserstein_loss(discriminator(gen_imgs, labels), torch.ones_like(labels).to(device))\n",
        "        g_loss.backward()\n",
        "        optimizer_G.step()\n",
        "\n",
        "    print(f\"Epoch {epoch}: [D loss: {d_loss.item()}] [G loss: {g_loss.item()}]\")\n"
      ],
      "metadata": {
        "colab": {
          "base_uri": "https://localhost:8080/"
        },
        "id": "hQLyz_XVnloi",
        "outputId": "6356b971-1fe1-4d98-d8b9-7a4e4eb4f5e0"
      },
      "execution_count": 7,
      "outputs": [
        {
          "output_type": "stream",
          "name": "stdout",
          "text": [
            "Epoch 0: [D loss: 455.2588806152344] [G loss: -664.4541015625]\n",
            "Epoch 1: [D loss: -3990.62841796875] [G loss: 455.722412109375]\n",
            "Epoch 2: [D loss: -1220.268798828125] [G loss: -1717.925537109375]\n",
            "Epoch 3: [D loss: -5852.2900390625] [G loss: 3507.76611328125]\n",
            "Epoch 4: [D loss: -61103.1171875] [G loss: 34600.19921875]\n",
            "Epoch 5: [D loss: 5747.625] [G loss: -40096.57421875]\n",
            "Epoch 6: [D loss: -32878.0390625] [G loss: -7733.35888671875]\n",
            "Epoch 7: [D loss: -174768.796875] [G loss: 51861.09375]\n",
            "Epoch 8: [D loss: 106432.609375] [G loss: -268600.59375]\n",
            "Epoch 9: [D loss: 15938.25] [G loss: -124885.7578125]\n",
            "Epoch 10: [D loss: -17794.4921875] [G loss: -113387.203125]\n",
            "Epoch 11: [D loss: -100533.8125] [G loss: -60053.12109375]\n",
            "Epoch 12: [D loss: -324814.90625] [G loss: 100036.8203125]\n",
            "Epoch 13: [D loss: -476573.5] [G loss: 237269.859375]\n",
            "Epoch 14: [D loss: -1036540.125] [G loss: 706388.75]\n",
            "Epoch 15: [D loss: -2115822.0] [G loss: 1285638.0]\n",
            "Epoch 16: [D loss: 582802.0] [G loss: -1696026.125]\n",
            "Epoch 17: [D loss: 291643.125] [G loss: -1247810.125]\n",
            "Epoch 18: [D loss: -57861.9375] [G loss: -912376.0]\n",
            "Epoch 19: [D loss: -345659.875] [G loss: -698424.9375]\n",
            "Epoch 20: [D loss: -754779.5] [G loss: -308884.65625]\n",
            "Epoch 21: [D loss: -1847210.625] [G loss: 758835.0625]\n",
            "Epoch 22: [D loss: -3190210.5] [G loss: 1458282.5]\n",
            "Epoch 23: [D loss: -3591879.75] [G loss: 950751.375]\n",
            "Epoch 24: [D loss: 1980995.0] [G loss: -5017019.5]\n",
            "Epoch 25: [D loss: 1228756.75] [G loss: -4165310.25]\n",
            "Epoch 26: [D loss: 932088.0] [G loss: -3579660.0]\n",
            "Epoch 27: [D loss: 654435.25] [G loss: -3168991.75]\n",
            "Epoch 28: [D loss: 407650.5] [G loss: -2876575.75]\n",
            "Epoch 29: [D loss: 275109.25] [G loss: -2673671.75]\n",
            "Epoch 30: [D loss: 24450.25] [G loss: -2531381.75]\n",
            "Epoch 31: [D loss: -223683.5] [G loss: -2436929.0]\n",
            "Epoch 32: [D loss: -430538.0] [G loss: -2377258.25]\n",
            "Epoch 33: [D loss: -810643.5] [G loss: -2341658.25]\n",
            "Epoch 34: [D loss: -1333764.0] [G loss: -2307614.25]\n",
            "Epoch 35: [D loss: -1805004.0] [G loss: -2249441.75]\n",
            "Epoch 36: [D loss: -2799483.5] [G loss: -2134177.75]\n",
            "Epoch 37: [D loss: -3887024.5] [G loss: -1920904.0]\n",
            "Epoch 38: [D loss: -5378952.5] [G loss: -1599621.125]\n",
            "Epoch 39: [D loss: -7180345.5] [G loss: -1212491.5]\n",
            "Epoch 40: [D loss: -9271375.0] [G loss: -665515.5]\n",
            "Epoch 41: [D loss: -11954075.0] [G loss: -89310.6171875]\n",
            "Epoch 42: [D loss: -15196420.0] [G loss: -92092.4375]\n",
            "Epoch 43: [D loss: -11404368.0] [G loss: -7652929.0]\n",
            "Epoch 44: [D loss: 12775454.0] [G loss: -30893356.0]\n",
            "Epoch 45: [D loss: 9678862.0] [G loss: -26572592.0]\n",
            "Epoch 46: [D loss: 7627260.0] [G loss: -23076308.0]\n",
            "Epoch 47: [D loss: 5326857.0] [G loss: -19949168.0]\n",
            "Epoch 48: [D loss: 3479993.0] [G loss: -17112490.0]\n",
            "Epoch 49: [D loss: 1153327.0] [G loss: -14470998.0]\n",
            "Epoch 50: [D loss: -3049166.0] [G loss: -7970871.0]\n",
            "Epoch 51: [D loss: -8855334.0] [G loss: 843685.375]\n",
            "Epoch 52: [D loss: -13718852.0] [G loss: 6885279.5]\n",
            "Epoch 53: [D loss: -18688912.0] [G loss: 13123480.0]\n",
            "Epoch 54: [D loss: -24200640.0] [G loss: 18919470.0]\n",
            "Epoch 55: [D loss: -31580376.0] [G loss: 21890624.0]\n",
            "Epoch 56: [D loss: -36005868.0] [G loss: 24944836.0]\n",
            "Epoch 57: [D loss: -42135304.0] [G loss: 28633838.0]\n",
            "Epoch 58: [D loss: -51794228.0] [G loss: 33079070.0]\n",
            "Epoch 59: [D loss: -58819244.0] [G loss: 37926724.0]\n",
            "Epoch 60: [D loss: -66268056.0] [G loss: 43090048.0]\n",
            "Epoch 61: [D loss: -74946288.0] [G loss: 48628444.0]\n",
            "Epoch 62: [D loss: -87248624.0] [G loss: 54410016.0]\n",
            "Epoch 63: [D loss: -98496240.0] [G loss: 60539420.0]\n",
            "Epoch 64: [D loss: -108197904.0] [G loss: 67059464.0]\n",
            "Epoch 65: [D loss: -117997328.0] [G loss: 73933504.0]\n",
            "Epoch 66: [D loss: -135540608.0] [G loss: 81090240.0]\n",
            "Epoch 67: [D loss: -147503072.0] [G loss: 88654464.0]\n",
            "Epoch 68: [D loss: -158171728.0] [G loss: 96696928.0]\n",
            "Epoch 69: [D loss: -175265088.0] [G loss: 104896136.0]\n",
            "Epoch 70: [D loss: -189944800.0] [G loss: 113577456.0]\n",
            "Epoch 71: [D loss: -214195856.0] [G loss: 122700800.0]\n",
            "Epoch 72: [D loss: -225735680.0] [G loss: 132263816.0]\n",
            "Epoch 73: [D loss: -245504448.0] [G loss: 142007216.0]\n",
            "Epoch 74: [D loss: -261408992.0] [G loss: 152624768.0]\n",
            "Epoch 75: [D loss: -286073312.0] [G loss: 163530864.0]\n",
            "Epoch 76: [D loss: -301115488.0] [G loss: 174794640.0]\n",
            "Epoch 77: [D loss: -323943040.0] [G loss: 186807280.0]\n",
            "Epoch 78: [D loss: -351300800.0] [G loss: 199057904.0]\n",
            "Epoch 79: [D loss: -371041600.0] [G loss: 211859184.0]\n",
            "Epoch 80: [D loss: -384502656.0] [G loss: 225464448.0]\n",
            "Epoch 81: [D loss: -417610112.0] [G loss: 239496928.0]\n",
            "Epoch 82: [D loss: -433722112.0] [G loss: 254243696.0]\n",
            "Epoch 83: [D loss: -480224064.0] [G loss: 269590240.0]\n",
            "Epoch 84: [D loss: -509089408.0] [G loss: 285382016.0]\n",
            "Epoch 85: [D loss: -518181536.0] [G loss: 301989152.0]\n",
            "Epoch 86: [D loss: -567322624.0] [G loss: 319173920.0]\n",
            "Epoch 87: [D loss: -589512576.0] [G loss: 337031264.0]\n",
            "Epoch 88: [D loss: -635243008.0] [G loss: 355412832.0]\n",
            "Epoch 89: [D loss: -667275520.0] [G loss: 374662944.0]\n",
            "Epoch 90: [D loss: -681784448.0] [G loss: 394425632.0]\n",
            "Epoch 91: [D loss: -715782528.0] [G loss: 414557728.0]\n",
            "Epoch 92: [D loss: -761506752.0] [G loss: 435579328.0]\n",
            "Epoch 93: [D loss: -798693120.0] [G loss: 457264608.0]\n",
            "Epoch 94: [D loss: -829986688.0] [G loss: 479778304.0]\n",
            "Epoch 95: [D loss: -865549184.0] [G loss: 502556672.0]\n",
            "Epoch 96: [D loss: -908177152.0] [G loss: 526313920.0]\n",
            "Epoch 97: [D loss: -936537600.0] [G loss: 550448704.0]\n",
            "Epoch 98: [D loss: -992988160.0] [G loss: 575307200.0]\n",
            "Epoch 99: [D loss: -1015620608.0] [G loss: 601089600.0]\n",
            "Epoch 100: [D loss: -1074947968.0] [G loss: 627265280.0]\n",
            "Epoch 101: [D loss: -1110404224.0] [G loss: 654415616.0]\n",
            "Epoch 102: [D loss: -1184805376.0] [G loss: 682157888.0]\n",
            "Epoch 103: [D loss: -1202230784.0] [G loss: 710597696.0]\n",
            "Epoch 104: [D loss: -1253545216.0] [G loss: 739365760.0]\n",
            "Epoch 105: [D loss: -1314579968.0] [G loss: 769445312.0]\n",
            "Epoch 106: [D loss: -1358616832.0] [G loss: 799992448.0]\n",
            "Epoch 107: [D loss: -1480644352.0] [G loss: 831403776.0]\n",
            "Epoch 108: [D loss: -1538970880.0] [G loss: 863587392.0]\n",
            "Epoch 109: [D loss: -1542568704.0] [G loss: 896464448.0]\n",
            "Epoch 110: [D loss: -1540681088.0] [G loss: 929416064.0]\n",
            "Epoch 111: [D loss: -1666144256.0] [G loss: 963741632.0]\n",
            "Epoch 112: [D loss: -1702349824.0] [G loss: 998438336.0]\n",
            "Epoch 113: [D loss: -1788298880.0] [G loss: 1034137664.0]\n",
            "Epoch 114: [D loss: -1817419264.0] [G loss: 1070938560.0]\n",
            "Epoch 115: [D loss: -1871461888.0] [G loss: 1108255360.0]\n",
            "Epoch 116: [D loss: -1977395584.0] [G loss: 1145955840.0]\n",
            "Epoch 117: [D loss: -2049768064.0] [G loss: 1184996224.0]\n",
            "Epoch 118: [D loss: -2099856128.0] [G loss: 1224591488.0]\n",
            "Epoch 119: [D loss: -2139687168.0] [G loss: 1265074688.0]\n",
            "Epoch 120: [D loss: -2202465280.0] [G loss: 1306032640.0]\n",
            "Epoch 121: [D loss: -2303511040.0] [G loss: 1347878784.0]\n",
            "Epoch 122: [D loss: -2407343104.0] [G loss: 1390807040.0]\n",
            "Epoch 123: [D loss: -2382523392.0] [G loss: 1434758016.0]\n",
            "Epoch 124: [D loss: -2530385920.0] [G loss: 1479100416.0]\n",
            "Epoch 125: [D loss: -2603424768.0] [G loss: 1524479104.0]\n",
            "Epoch 126: [D loss: -2698376704.0] [G loss: 1570451584.0]\n",
            "Epoch 127: [D loss: -2709173760.0] [G loss: 1617596416.0]\n",
            "Epoch 128: [D loss: -2868830208.0] [G loss: 1665091840.0]\n",
            "Epoch 129: [D loss: -3015642624.0] [G loss: 1713633536.0]\n",
            "Epoch 130: [D loss: -3052072960.0] [G loss: 1763360512.0]\n",
            "Epoch 131: [D loss: -3029916928.0] [G loss: 1813895424.0]\n",
            "Epoch 132: [D loss: -3131196928.0] [G loss: 1864675456.0]\n",
            "Epoch 133: [D loss: -3259612416.0] [G loss: 1916912768.0]\n",
            "Epoch 134: [D loss: -3271684096.0] [G loss: 1969844480.0]\n",
            "Epoch 135: [D loss: -3524338688.0] [G loss: 2023973632.0]\n",
            "Epoch 136: [D loss: -3604548096.0] [G loss: 2078600064.0]\n",
            "Epoch 137: [D loss: -3644148736.0] [G loss: 2134245504.0]\n",
            "Epoch 138: [D loss: -3730533376.0] [G loss: 2190645248.0]\n",
            "Epoch 139: [D loss: -3881950720.0] [G loss: 2247544832.0]\n",
            "Epoch 140: [D loss: -3907823616.0] [G loss: 2306041600.0]\n",
            "Epoch 141: [D loss: -3882430208.0] [G loss: 2365231104.0]\n",
            "Epoch 142: [D loss: -4167461888.0] [G loss: 2425234432.0]\n",
            "Epoch 143: [D loss: -4090755072.0] [G loss: 2485595904.0]\n",
            "Epoch 144: [D loss: -4261353984.0] [G loss: 2548244480.0]\n",
            "Epoch 145: [D loss: -4304776192.0] [G loss: 2611094784.0]\n",
            "Epoch 146: [D loss: -4432935424.0] [G loss: 2675017728.0]\n",
            "Epoch 147: [D loss: -4591784960.0] [G loss: 2740102912.0]\n",
            "Epoch 148: [D loss: -4741732352.0] [G loss: 2805590272.0]\n",
            "Epoch 149: [D loss: -4907851264.0] [G loss: 2872643840.0]\n"
          ]
        }
      ]
    },
    {
      "cell_type": "code",
      "source": [
        "import matplotlib.pyplot as plt\n",
        "\n",
        "def generate_and_save_images(generator, num_images=25, noise_dim=100, class_label=1):\n",
        "    z = torch.randn(num_images, noise_dim).to(device)\n",
        "    labels = torch.full((num_images,), class_label, dtype=torch.long).to(device)\n",
        "    gen_imgs = generator(z, labels).cpu().detach()\n",
        "\n",
        "    fig, axs = plt.subplots(5, 5, figsize=(5, 5))\n",
        "    for i in range(5):\n",
        "        for j in range(5):\n",
        "            axs[i, j].imshow(gen_imgs[i * 5 + j].permute(1, 2, 0) * 0.5 + 0.5)\n",
        "            axs[i, j].axis('off')\n",
        "    plt.show()\n",
        "\n",
        "generate_and_save_images(generator, 25)\n"
      ],
      "metadata": {
        "colab": {
          "base_uri": "https://localhost:8080/",
          "height": 422
        },
        "id": "LYyUqyLUoFGm",
        "outputId": "fed20439-64db-4ac1-d41b-86bfe773b5d9"
      },
      "execution_count": 8,
      "outputs": [
        {
          "output_type": "display_data",
          "data": {
            "text/plain": [
              "<Figure size 500x500 with 25 Axes>"
            ],
            "image/png": "[encoded data removed]"
          },
          "metadata": {}
        }
      ]
    },
    {
      "cell_type": "code",
      "source": [
        "from torchvision.models import inception_v3\n",
        "from torch.autograd import Variable\n",
        "from scipy.stats import entropy\n",
        "\n",
        "inception_model = inception_v3(pretrained=True).to(device)\n",
        "inception_model.eval()\n",
        "\n",
        "def inception_score(images, inception_model, num_splits=10):\n",
        "    # Resize images to Inception expected size\n",
        "    images_resized = torch.nn.functional.interpolate(images, size=(299, 299))\n",
        "    preds = inception_model(images_resized).detach().cpu().numpy()\n",
        "    split_scores = []\n",
        "\n",
        "    for k in range(num_splits):\n",
        "        part = preds[k * (images.shape[0] // num_splits): (k + 1) * (images.shape[0] // num_splits), :]\n",
        "        p_y = np.mean(part, axis=0)\n",
        "        scores = [entropy(p_y, p) for p in part]\n",
        "        split_scores.append(np.exp(np.mean(scores)))\n",
        "\n",
        "    return np.mean(split_scores), np.std(split_scores)\n",
        "\n",
        "# Compute IS for generated images\n",
        "gen_imgs = generator(torch.randn(5000, 100).to(device), torch.full((5000,), 1, dtype=torch.long).to(device))\n",
        "IS, IS_std = inception_score(gen_imgs, inception_model)\n",
        "print(f\"Inception Score: {IS} ± {IS_std}\")\n"
      ],
      "metadata": {
        "colab": {
          "base_uri": "https://localhost:8080/",
          "height": 300
        },
        "id": "fyU-8DJHowYI",
        "outputId": "2ebb049e-57e3-4f4b-b3d7-fc6546b9a4c4"
      },
      "execution_count": 1,
      "outputs": [
        {
          "output_type": "stream",
          "name": "stderr",
          "text": [
            "/usr/local/lib/python3.10/dist-packages/torchvision/models/_utils.py:208: UserWarning: The parameter 'pretrained' is deprecated since 0.13 and may be removed in the future, please use 'weights' instead.\n",
            "  warnings.warn(\n",
            "/usr/local/lib/python3.10/dist-packages/torchvision/models/_utils.py:223: UserWarning: Arguments other than a weight enum or `None` for 'weights' are deprecated since 0.13 and may be removed in the future. The current behavior is equivalent to passing `weights=Inception_V3_Weights.IMAGENET1K_V1`. You can also use `weights=Inception_V3_Weights.DEFAULT` to get the most up-to-date weights.\n",
            "  warnings.warn(msg)\n"
          ]
        },
        {
          "output_type": "error",
          "ename": "NameError",
          "evalue": "name 'device' is not defined",
          "traceback": [
            "\u001b[0;31m---------------------------------------------------------------------------\u001b[0m",
            "\u001b[0;31mNameError\u001b[0m                                 Traceback (most recent call last)",
            "\u001b[0;32m<ipython-input-1-bc3844fdc591>\u001b[0m in \u001b[0;36m<cell line: 5>\u001b[0;34m()\u001b[0m\n\u001b[1;32m      3\u001b[0m \u001b[0;32mfrom\u001b[0m \u001b[0mscipy\u001b[0m\u001b[0;34m.\u001b[0m\u001b[0mstats\u001b[0m \u001b[0;32mimport\u001b[0m \u001b[0mentropy\u001b[0m\u001b[0;34m\u001b[0m\u001b[0;34m\u001b[0m\u001b[0m\n\u001b[1;32m      4\u001b[0m \u001b[0;34m\u001b[0m\u001b[0m\n\u001b[0;32m----> 5\u001b[0;31m \u001b[0minception_model\u001b[0m \u001b[0;34m=\u001b[0m \u001b[0minception_v3\u001b[0m\u001b[0;34m(\u001b[0m\u001b[0mpretrained\u001b[0m\u001b[0;34m=\u001b[0m\u001b[0;32mTrue\u001b[0m\u001b[0;34m)\u001b[0m\u001b[0;34m.\u001b[0m\u001b[0mto\u001b[0m\u001b[0;34m(\u001b[0m\u001b[0mdevice\u001b[0m\u001b[0;34m)\u001b[0m\u001b[0;34m\u001b[0m\u001b[0;34m\u001b[0m\u001b[0m\n\u001b[0m\u001b[1;32m      6\u001b[0m \u001b[0minception_model\u001b[0m\u001b[0;34m.\u001b[0m\u001b[0meval\u001b[0m\u001b[0;34m(\u001b[0m\u001b[0;34m)\u001b[0m\u001b[0;34m\u001b[0m\u001b[0;34m\u001b[0m\u001b[0m\n\u001b[1;32m      7\u001b[0m \u001b[0;34m\u001b[0m\u001b[0m\n",
            "\u001b[0;31mNameError\u001b[0m: name 'device' is not defined"
          ]
        }
      ]
    },
    {
      "cell_type": "code",
      "source": [
        "pip install torchmetrics pytorch-fid"
      ],
      "metadata": {
        "colab": {
          "base_uri": "https://localhost:8080/"
        },
        "id": "HqVoMmsOWuES",
        "outputId": "c291a1cb-c66d-4464-eb17-003d069d9508"
      },
      "execution_count": 1,
      "outputs": [
        {
          "output_type": "stream",
          "name": "stdout",
          "text": [
            "Requirement already satisfied: torchmetrics in /usr/local/lib/python3.10/dist-packages (1.4.2)\n",
            "Requirement already satisfied: pytorch-fid in /usr/local/lib/python3.10/dist-packages (0.3.0)\n",
            "Requirement already satisfied: numpy>1.20.0 in /usr/local/lib/python3.10/dist-packages (from torchmetrics) (1.26.4)\n",
            "Requirement already satisfied: packaging>17.1 in /usr/local/lib/python3.10/dist-packages (from torchmetrics) (24.1)\n",
            "Requirement already satisfied: torch>=1.10.0 in /usr/local/lib/python3.10/dist-packages (from torchmetrics) (2.4.0+cpu)\n",
            "Requirement already satisfied: lightning-utilities>=0.8.0 in /usr/local/lib/python3.10/dist-packages (from torchmetrics) (0.11.7)\n",
            "Requirement already satisfied: pillow in /usr/local/lib/python3.10/dist-packages (from pytorch-fid) (10.4.0)\n",
            "Requirement already satisfied: scipy in /usr/local/lib/python3.10/dist-packages (from pytorch-fid) (1.13.1)\n",
            "Requirement already satisfied: torchvision>=0.2.2 in /usr/local/lib/python3.10/dist-packages (from pytorch-fid) (0.19.0+cpu)\n",
            "Requirement already satisfied: setuptools in /usr/local/lib/python3.10/dist-packages (from lightning-utilities>=0.8.0->torchmetrics) (71.0.4)\n",
            "Requirement already satisfied: typing-extensions in /usr/local/lib/python3.10/dist-packages (from lightning-utilities>=0.8.0->torchmetrics) (4.12.2)\n",
            "Requirement already satisfied: filelock in /usr/local/lib/python3.10/dist-packages (from torch>=1.10.0->torchmetrics) (3.16.0)\n",
            "Requirement already satisfied: sympy in /usr/local/lib/python3.10/dist-packages (from torch>=1.10.0->torchmetrics) (1.13.2)\n",
            "Requirement already satisfied: networkx in /usr/local/lib/python3.10/dist-packages (from torch>=1.10.0->torchmetrics) (3.3)\n",
            "Requirement already satisfied: jinja2 in /usr/local/lib/python3.10/dist-packages (from torch>=1.10.0->torchmetrics) (3.1.4)\n",
            "Requirement already satisfied: fsspec in /usr/local/lib/python3.10/dist-packages (from torch>=1.10.0->torchmetrics) (2024.9.0)\n",
            "Requirement already satisfied: MarkupSafe>=2.0 in /usr/local/lib/python3.10/dist-packages (from jinja2->torch>=1.10.0->torchmetrics) (2.1.5)\n",
            "Requirement already satisfied: mpmath<1.4,>=1.1.0 in /usr/local/lib/python3.10/dist-packages (from sympy->torch>=1.10.0->torchmetrics) (1.3.0)\n"
          ]
        }
      ]
    },
    {
      "cell_type": "code",
      "source": [
        "from pytorch_fid import fid_score\n",
        "\n",
        "# Compute FID between real and generated automobile images\n",
        "real_images_path = \"./data/real_automobiles\"\n",
        "generated_images_path = \"./data/generated_automobiles\"\n",
        "\n",
        "fid_value = fid_score.calculate_fid_given_paths([real_images_path, generated_images_path], batch_size=50, device=device, dims=2048)\n",
        "print(f\"FID: {fid_value}\")\n"
      ],
      "metadata": {
        "id": "fMptRn5ixdaP",
        "colab": {
          "base_uri": "https://localhost:8080/",
          "height": 211
        },
        "outputId": "0e8db1f4-8b04-4ae3-9dd9-c3c423ae9306"
      },
      "execution_count": 2,
      "outputs": [
        {
          "output_type": "error",
          "ename": "NameError",
          "evalue": "name 'device' is not defined",
          "traceback": [
            "\u001b[0;31m---------------------------------------------------------------------------\u001b[0m",
            "\u001b[0;31mNameError\u001b[0m                                 Traceback (most recent call last)",
            "\u001b[0;32m<ipython-input-2-450b59280919>\u001b[0m in \u001b[0;36m<cell line: 7>\u001b[0;34m()\u001b[0m\n\u001b[1;32m      5\u001b[0m \u001b[0mgenerated_images_path\u001b[0m \u001b[0;34m=\u001b[0m \u001b[0;34m\"./data/generated_automobiles\"\u001b[0m\u001b[0;34m\u001b[0m\u001b[0;34m\u001b[0m\u001b[0m\n\u001b[1;32m      6\u001b[0m \u001b[0;34m\u001b[0m\u001b[0m\n\u001b[0;32m----> 7\u001b[0;31m \u001b[0mfid_value\u001b[0m \u001b[0;34m=\u001b[0m \u001b[0mfid_score\u001b[0m\u001b[0;34m.\u001b[0m\u001b[0mcalculate_fid_given_paths\u001b[0m\u001b[0;34m(\u001b[0m\u001b[0;34m[\u001b[0m\u001b[0mreal_images_path\u001b[0m\u001b[0;34m,\u001b[0m \u001b[0mgenerated_images_path\u001b[0m\u001b[0;34m]\u001b[0m\u001b[0;34m,\u001b[0m \u001b[0mbatch_size\u001b[0m\u001b[0;34m=\u001b[0m\u001b[0;36m50\u001b[0m\u001b[0;34m,\u001b[0m \u001b[0mdevice\u001b[0m\u001b[0;34m=\u001b[0m\u001b[0mdevice\u001b[0m\u001b[0;34m,\u001b[0m \u001b[0mdims\u001b[0m\u001b[0;34m=\u001b[0m\u001b[0;36m2048\u001b[0m\u001b[0;34m)\u001b[0m\u001b[0;34m\u001b[0m\u001b[0;34m\u001b[0m\u001b[0m\n\u001b[0m\u001b[1;32m      8\u001b[0m \u001b[0mprint\u001b[0m\u001b[0;34m(\u001b[0m\u001b[0;34mf\"FID: {fid_value}\"\u001b[0m\u001b[0;34m)\u001b[0m\u001b[0;34m\u001b[0m\u001b[0;34m\u001b[0m\u001b[0m\n",
            "\u001b[0;31mNameError\u001b[0m: name 'device' is not defined"
          ]
        }
      ]
    },
    {
      "cell_type": "code",
      "source": [
        "from pytorch_fid import fid_score\n",
        "\n",
        "# Compute FID between real and generated automobile images\n",
        "real_images_path = \"./data/real_automobiles\"\n",
        "generated_images_path = \"./data/generated_automobiles\"\n",
        "\n",
        "fid_value = fid_score.calculate_fid_given_paths([real_images_path, generated_images_path], batch_size=50, device=device, dims=2048)\n",
        "print(f\"FID: {fid_value}\")\n"
      ],
      "metadata": {
        "id": "Yq_7BEEgylss"
      },
      "execution_count": null,
      "outputs": []
    },
    {
      "cell_type": "markdown",
      "source": [
        "## Task 2: Implement and train a SNGAN with CIFAR10 dataset. Generate 25 new images. Report IS and FID scores."
      ],
      "metadata": {
        "id": "HlyXEr_IWH3v"
      }
    },
    {
      "cell_type": "markdown",
      "source": [
        "#### Implementing SNGAN"
      ],
      "metadata": {
        "id": "eTD42T0VWSYf"
      }
    },
    {
      "cell_type": "code",
      "source": [
        "import torch\n",
        "import torch.nn as nn\n",
        "import torch.nn.functional as F\n",
        "import torchvision\n",
        "import torchvision.transforms as transforms\n",
        "from torch.utils.data import DataLoader\n",
        "\n",
        "# Spectral Normalization for layers\n",
        "def spectral_norm(module):\n",
        "    return nn.utils.spectral_norm(module)\n",
        "\n",
        "# Generator\n",
        "class Generator(nn.Module):\n",
        "    def __init__(self, z_dim):\n",
        "        super(Generator, self).__init__()\n",
        "        self.gen = nn.Sequential(\n",
        "            spectral_norm(nn.ConvTranspose2d(z_dim, 512, 4, 1, 0)),\n",
        "            nn.BatchNorm2d(512),\n",
        "            nn.ReLU(),\n",
        "            spectral_norm(nn.ConvTranspose2d(512, 256, 4, 2, 1)),\n",
        "            nn.BatchNorm2d(256),\n",
        "            nn.ReLU(),\n",
        "            spectral_norm(nn.ConvTranspose2d(256, 128, 4, 2, 1)),\n",
        "            nn.BatchNorm2d(128),\n",
        "            nn.ReLU(),\n",
        "            spectral_norm(nn.ConvTranspose2d(128, 3, 4, 2, 1)),\n",
        "            nn.Tanh()\n",
        "        )\n",
        "\n",
        "    def forward(self, z):\n",
        "        return self.gen(z)\n",
        "\n",
        "# Discriminator\n",
        "class Discriminator(nn.Module):\n",
        "    def __init__(self):\n",
        "        super(Discriminator, self).__init__()\n",
        "        self.disc = nn.Sequential(\n",
        "            spectral_norm(nn.Conv2d(3, 128, 4, 2, 1)),\n",
        "            nn.LeakyReLU(0.2),\n",
        "            spectral_norm(nn.Conv2d(128, 256, 4, 2, 1)),\n",
        "            nn.BatchNorm2d(256),\n",
        "            nn.LeakyReLU(0.2),\n",
        "            spectral_norm(nn.Conv2d(256, 512, 4, 2, 1)),\n",
        "            nn.BatchNorm2d(512),\n",
        "            nn.LeakyReLU(0.2),\n",
        "            spectral_norm(nn.Conv2d(512, 1, 4, 1, 0)),\n",
        "            nn.Flatten()\n",
        "        )\n",
        "\n",
        "    def forward(self, img):\n",
        "        return self.disc(img)\n"
      ],
      "metadata": {
        "id": "m0NWFEOXWMT2"
      },
      "execution_count": null,
      "outputs": []
    },
    {
      "cell_type": "markdown",
      "source": [
        "2. Training the SNGAN"
      ],
      "metadata": {
        "id": "lVn5F5iKWXBk"
      }
    },
    {
      "cell_type": "code",
      "source": [
        "import torch.optim as optim\n",
        "import numpy as np\n",
        "from torchvision.utils import save_image\n",
        "\n",
        "# Hyperparameters\n",
        "batch_size = 64\n",
        "z_dim = 100\n",
        "lr = 2e-4\n",
        "epochs = 100\n",
        "device = torch.device(\"cuda\" if torch.cuda.is_available() else \"cpu\")\n",
        "\n",
        "# DataLoader for CIFAR-10\n",
        "transform = transforms.Compose([\n",
        "    transforms.Resize(32),\n",
        "    transforms.ToTensor(),\n",
        "    transforms.Normalize([0.5]*3, [0.5]*3)\n",
        "])\n",
        "\n",
        "dataset = torchvision.datasets.CIFAR10(root='./data', train=True, transform=transform, download=True)\n",
        "dataloader = DataLoader(dataset, batch_size=batch_size, shuffle=True)\n",
        "\n",
        "# Model initialization\n",
        "gen = Generator(z_dim).to(device)\n",
        "disc = Discriminator().to(device)\n",
        "\n",
        "# Optimizers\n",
        "optimizer_gen = optim.Adam(gen.parameters(), lr=lr, betas=(0.5, 0.999))\n",
        "optimizer_disc = optim.Adam(disc.parameters(), lr=lr, betas=(0.5, 0.999))\n",
        "\n",
        "# Loss function\n",
        "criterion = nn.BCEWithLogitsLoss()\n",
        "\n",
        "# Training Loop\n",
        "for epoch in range(epochs):\n",
        "    for real, _ in dataloader:\n",
        "        real = real.to(device)\n",
        "        batch_size = real.size(0)\n",
        "\n",
        "        # Train Discriminator\n",
        "        z = torch.randn(batch_size, z_dim, 1, 1).to(device)\n",
        "        fake = gen(z)\n",
        "\n",
        "        disc_real = disc(real)\n",
        "        disc_fake = disc(fake.detach())\n",
        "\n",
        "        loss_disc_real = criterion(disc_real, torch.ones_like(disc_real))\n",
        "        loss_disc_fake = criterion(disc_fake, torch.zeros_like(disc_fake))\n",
        "        loss_disc = (loss_disc_real + loss_disc_fake) / 2\n",
        "\n",
        "        optimizer_disc.zero_grad()\n",
        "        loss_disc.backward()\n",
        "        optimizer_disc.step()\n",
        "\n",
        "        # Train Generator\n",
        "        disc_fake = disc(fake)\n",
        "        loss_gen = criterion(disc_fake, torch.ones_like(disc_fake))\n",
        "\n",
        "        optimizer_gen.zero_grad()\n",
        "        loss_gen.backward()\n",
        "        optimizer_gen.step()\n",
        "\n",
        "    print(f\"Epoch [{epoch}/{epochs}] Loss D: {loss_disc.item()}, Loss G: {loss_gen.item()}\")\n",
        "\n",
        "    if epoch % 10 == 0:\n",
        "        save_image(fake[:25], f\"fake_images_{epoch}.png\", nrow=5, normalize=True)\n"
      ],
      "metadata": {
        "id": "CgDDE_HsWXzt"
      },
      "execution_count": null,
      "outputs": []
    },
    {
      "cell_type": "markdown",
      "source": [
        "3. Generating 25 New Images"
      ],
      "metadata": {
        "id": "ePT9k91_Weuk"
      }
    },
    {
      "cell_type": "code",
      "source": [
        "z = torch.randn(25, z_dim, 1, 1).to(device)\n",
        "fake_images = gen(z)\n",
        "save_image(fake_images, \"generated_images.png\", nrow=5, normalize=True)\n"
      ],
      "metadata": {
        "id": "d0wTiR95WfKE"
      },
      "execution_count": null,
      "outputs": []
    },
    {
      "cell_type": "markdown",
      "source": [
        "4. Calculating IS and FID Scores"
      ],
      "metadata": {
        "id": "Su9Rmhr4Wotr"
      }
    },
    {
      "cell_type": "code",
      "source": [
        "from torchmetrics.image.inception import InceptionScore\n",
        "\n",
        "# Create an InceptionScore object\n",
        "is_score = InceptionScore()\n",
        "\n",
        "# Update with the generated images\n",
        "is_score.update(fake_images)\n",
        "\n",
        "# Calculate the score\n",
        "score = is_score.compute()\n",
        "print(f\"Inception Score: {score}\")\n",
        "\n",
        "# Run FID between real and fake images\n",
        "fid_score = !python -m pytorch_fid ./data/cifar10/test generated_images.png\n",
        "print(f\"FID Score: {fid_score}\")\n"
      ],
      "metadata": {
        "id": "jnFUlmrpWnQe"
      },
      "execution_count": null,
      "outputs": []
    },
    {
      "cell_type": "markdown",
      "source": [
        "## Task 3: Implement and train a variant of SAGAN without spectral nornamization and TTUB  with CIFAR10 dataset. Generate 25 new images. Report IS and FID scores."
      ],
      "metadata": {
        "id": "puoXQnPyXWmQ"
      }
    },
    {
      "cell_type": "markdown",
      "source": [
        "#### 1. Implement a SAGAN Variant Without Spectral Normalization\n",
        "The core of SAGAN lies in its self-attention mechanism. We'll remove the spectral normalization, which is originally used to stabilize the discriminator. We'll also implement the Self-Attention layer in the generator and discriminator."
      ],
      "metadata": {
        "id": "ZF5iGc7sXobL"
      }
    },
    {
      "cell_type": "code",
      "source": [
        "import torch\n",
        "import torch.nn as nn\n",
        "import torch.nn.functional as F\n",
        "import torchvision\n",
        "import torchvision.transforms as transforms\n",
        "from torch.utils.data import DataLoader\n",
        "\n",
        "# Spectral Normalization for layers\n",
        "def spectral_norm(module):\n",
        "    return nn.utils.spectral_norm(module)\n",
        "\n",
        "# Generator\n",
        "class Generator(nn.Module):\n",
        "    def __init__(self, z_dim):\n",
        "        super(Generator, self).__init__()\n",
        "        self.gen = nn.Sequential(\n",
        "            spectral_norm(nn.ConvTranspose2d(z_dim, 512, 4, 1, 0)),\n",
        "            nn.BatchNorm2d(512),\n",
        "            nn.ReLU(),\n",
        "            spectral_norm(nn.ConvTranspose2d(512, 256, 4, 2, 1)),\n",
        "            nn.BatchNorm2d(256),\n",
        "            nn.ReLU(),\n",
        "            spectral_norm(nn.ConvTranspose2d(256, 128, 4, 2, 1)),\n",
        "            nn.BatchNorm2d(128),\n",
        "            nn.ReLU(),\n",
        "            spectral_norm(nn.ConvTranspose2d(128, 3, 4, 2, 1)),\n",
        "            nn.Tanh()\n",
        "        )\n",
        "\n",
        "    def forward(self, z):\n",
        "        return self.gen(z)\n",
        "\n",
        "# Discriminator\n",
        "class Discriminator(nn.Module):\n",
        "    def __init__(self):\n",
        "        super(Discriminator, self).__init__()\n",
        "        self.disc = nn.Sequential(\n",
        "            spectral_norm(nn.Conv2d(3, 128, 4, 2, 1)),\n",
        "            nn.LeakyReLU(0.2),\n",
        "            spectral_norm(nn.Conv2d(128, 256, 4, 2, 1)),\n",
        "            nn.BatchNorm2d(256),\n",
        "            nn.LeakyReLU(0.2),\n",
        "            spectral_norm(nn.Conv2d(256, 512, 4, 2, 1)),\n",
        "            nn.BatchNorm2d(512),\n",
        "            nn.LeakyReLU(0.2),\n",
        "            spectral_norm(nn.Conv2d(512, 1, 4, 1, 0)),\n",
        "            nn.Flatten()\n",
        "        )\n",
        "\n",
        "    def forward(self, img):\n",
        "        return self.disc(img)\n"
      ],
      "metadata": {
        "id": "BDz6_euQXZFm"
      },
      "execution_count": null,
      "outputs": []
    },
    {
      "cell_type": "markdown",
      "source": [
        "#### 2. Use TTUR for Optimization\n",
        "Two-Time Update Rule (TTUR) suggests using separate learning rates for the generator and discriminator. Typically, the discriminator gets a higher learning rate because it needs to be more powerful during early training stages."
      ],
      "metadata": {
        "id": "42TxW3XzXyrJ"
      }
    },
    {
      "cell_type": "code",
      "source": [
        "import torch.optim as optim\n",
        "\n",
        "# Hyperparameters\n",
        "z_dim = 100\n",
        "epochs = 100\n",
        "batch_size = 64\n",
        "lr_g = 1e-4  # Lower learning rate for generator\n",
        "lr_d = 4e-4  # Higher learning rate for discriminator\n",
        "\n",
        "device = torch.device(\"cuda\" if torch.cuda.is_available() else \"cpu\")\n",
        "\n",
        "# Initialize models\n",
        "gen = Generator(z_dim).to(device)\n",
        "disc = Discriminator().to(device)\n",
        "\n",
        "# Optimizers with TTUR\n",
        "optimizer_gen = optim.Adam(gen.parameters(), lr=lr_g, betas=(0.5, 0.999))\n",
        "optimizer_disc = optim.Adam(disc.parameters(), lr=lr_d, betas=(0.5, 0.999))\n",
        "\n",
        "# Loss function\n",
        "criterion = nn.BCEWithLogitsLoss()\n"
      ],
      "metadata": {
        "id": "8qGZQ9u0Xui7"
      },
      "execution_count": null,
      "outputs": []
    },
    {
      "cell_type": "markdown",
      "source": [
        "#### 3. Train the model\n"
      ],
      "metadata": {
        "id": "CmYST80LX6xu"
      }
    },
    {
      "cell_type": "code",
      "source": [
        "import torchvision.transforms as transforms\n",
        "from torch.utils.data import DataLoader\n",
        "import torchvision\n",
        "\n",
        "# DataLoader for CIFAR-10\n",
        "transform = transforms.Compose([\n",
        "    transforms.Resize(32),\n",
        "    transforms.ToTensor(),\n",
        "    transforms.Normalize([0.5]*3, [0.5]*3)\n",
        "])\n",
        "\n",
        "dataset = torchvision.datasets.CIFAR10(root='./data', train=True, transform=transform, download=True)\n",
        "dataloader = DataLoader(dataset, batch_size=batch_size, shuffle=True)\n",
        "\n",
        "# Training Loop\n",
        "for epoch in range(epochs):\n",
        "    for real, _ in dataloader:\n",
        "        real = real.to(device)\n",
        "        batch_size = real.size(0)\n",
        "\n",
        "        # Train Discriminator\n",
        "        z = torch.randn(batch_size, z_dim, 1, 1).to(device)\n",
        "        fake = gen(z)\n",
        "\n",
        "        disc_real = disc(real)\n",
        "        disc_fake = disc(fake.detach())\n",
        "\n",
        "        loss_disc_real = criterion(disc_real, torch.ones_like(disc_real))\n",
        "        loss_disc_fake = criterion(disc_fake, torch.zeros_like(disc_fake))\n",
        "        loss_disc = (loss_disc_real + loss_disc_fake) / 2\n",
        "\n",
        "        optimizer_disc.zero_grad()\n",
        "        loss_disc.backward()\n",
        "        optimizer_disc.step()\n",
        "\n",
        "        # Train Generator\n",
        "        disc_fake = disc(fake)\n",
        "        loss_gen = criterion(disc_fake, torch.ones_like(disc_fake))\n",
        "\n",
        "        optimizer_gen.zero_grad()\n",
        "        loss_gen.backward()\n",
        "        optimizer_gen.step()\n",
        "\n",
        "    print(f\"Epoch [{epoch}/{epochs}] Loss D: {loss_disc.item()}, Loss G: {loss_gen.item()}\")\n",
        "\n",
        "    if epoch % 10 == 0:\n",
        "        torchvision.utils.save_image(fake[:25], f\"fake_images_{epoch}.png\", nrow=5, normalize=True)\n"
      ],
      "metadata": {
        "id": "VI1Zq32BX9au"
      },
      "execution_count": null,
      "outputs": []
    },
    {
      "cell_type": "code",
      "source": [],
      "metadata": {
        "id": "FqTXwwZ1YAmL"
      },
      "execution_count": null,
      "outputs": []
    },
    {
      "cell_type": "markdown",
      "source": [
        "4. Generate 25 New Images"
      ],
      "metadata": {
        "id": "CsEx8wxwYAVI"
      }
    },
    {
      "cell_type": "code",
      "source": [
        "z = torch.randn(25, z_dim, 1, 1).to(device)\n",
        "fake_images = gen(z)\n",
        "torchvision.utils.save_image(fake_images, \"generated_images.png\", nrow=5, normalize=True)\n"
      ],
      "metadata": {
        "id": "1hQQwHMwYBvI"
      },
      "execution_count": null,
      "outputs": []
    },
    {
      "cell_type": "code",
      "source": [],
      "metadata": {
        "id": "o-JCvafnYKHv"
      },
      "execution_count": null,
      "outputs": []
    },
    {
      "cell_type": "markdown",
      "source": [
        "#### 4.Calculating IS and FID Scores"
      ],
      "metadata": {
        "id": "ZnVe7d57YJz5"
      }
    },
    {
      "cell_type": "code",
      "source": [
        "from torchmetrics.image.inception import InceptionScore\n",
        "\n",
        "# Create an InceptionScore object\n",
        "is_score = InceptionScore()\n",
        "\n",
        "# Update with the generated images\n",
        "is_score.update(fake_images)\n",
        "\n",
        "# Calculate the score\n",
        "score = is_score.compute()\n",
        "print(f\"Inception Score: {score}\")\n",
        "\n",
        "# Run FID between real and fake images\n",
        "fid_score = !python -m pytorch_fid ./data/cifar10/test generated_images.png\n",
        "print(f\"FID Score: {fid_score}\")\n"
      ],
      "metadata": {
        "colab": {
          "base_uri": "https://localhost:8080/",
          "height": 612
        },
        "id": "MCIWOUp3YK-R",
        "outputId": "639bc68e-3040-43ae-cc88-9eafe7938e95"
      },
      "execution_count": 7,
      "outputs": [
        {
          "output_type": "stream",
          "name": "stderr",
          "text": [
            "/usr/local/lib/python3.10/dist-packages/torchmetrics/utilities/prints.py:43: UserWarning: Metric `InceptionScore` will save all extracted features in buffer. For large datasets this may lead to large memory footprint.\n",
            "  warnings.warn(*args, **kwargs)  # noqa: B028\n"
          ]
        },
        {
          "output_type": "error",
          "ename": "ModuleNotFoundError",
          "evalue": "InceptionScore metric requires that `Torch-fidelity` is installed. Either install as `pip install torchmetrics[image]` or `pip install torch-fidelity`.",
          "traceback": [
            "\u001b[0;31m---------------------------------------------------------------------------\u001b[0m",
            "\u001b[0;31mModuleNotFoundError\u001b[0m                       Traceback (most recent call last)",
            "\u001b[0;32m<ipython-input-7-1a4182be4dcb>\u001b[0m in \u001b[0;36m<cell line: 4>\u001b[0;34m()\u001b[0m\n\u001b[1;32m      2\u001b[0m \u001b[0;34m\u001b[0m\u001b[0m\n\u001b[1;32m      3\u001b[0m \u001b[0;31m# Create an InceptionScore object\u001b[0m\u001b[0;34m\u001b[0m\u001b[0;34m\u001b[0m\u001b[0m\n\u001b[0;32m----> 4\u001b[0;31m \u001b[0mis_score\u001b[0m \u001b[0;34m=\u001b[0m \u001b[0mInceptionScore\u001b[0m\u001b[0;34m(\u001b[0m\u001b[0;34m)\u001b[0m\u001b[0;34m\u001b[0m\u001b[0;34m\u001b[0m\u001b[0m\n\u001b[0m\u001b[1;32m      5\u001b[0m \u001b[0;34m\u001b[0m\u001b[0m\n\u001b[1;32m      6\u001b[0m \u001b[0;31m# Update with the generated images\u001b[0m\u001b[0;34m\u001b[0m\u001b[0;34m\u001b[0m\u001b[0m\n",
            "\u001b[0;32m/usr/local/lib/python3.10/dist-packages/torchmetrics/image/inception.py\u001b[0m in \u001b[0;36m__init__\u001b[0;34m(self, feature, splits, normalize, **kwargs)\u001b[0m\n\u001b[1;32m    122\u001b[0m         \u001b[0;32mif\u001b[0m \u001b[0misinstance\u001b[0m\u001b[0;34m(\u001b[0m\u001b[0mfeature\u001b[0m\u001b[0;34m,\u001b[0m \u001b[0;34m(\u001b[0m\u001b[0mstr\u001b[0m\u001b[0;34m,\u001b[0m \u001b[0mint\u001b[0m\u001b[0;34m)\u001b[0m\u001b[0;34m)\u001b[0m\u001b[0;34m:\u001b[0m\u001b[0;34m\u001b[0m\u001b[0;34m\u001b[0m\u001b[0m\n\u001b[1;32m    123\u001b[0m             \u001b[0;32mif\u001b[0m \u001b[0;32mnot\u001b[0m \u001b[0m_TORCH_FIDELITY_AVAILABLE\u001b[0m\u001b[0;34m:\u001b[0m\u001b[0;34m\u001b[0m\u001b[0;34m\u001b[0m\u001b[0m\n\u001b[0;32m--> 124\u001b[0;31m                 raise ModuleNotFoundError(\n\u001b[0m\u001b[1;32m    125\u001b[0m                     \u001b[0;34m\"InceptionScore metric requires that `Torch-fidelity` is installed.\"\u001b[0m\u001b[0;34m\u001b[0m\u001b[0;34m\u001b[0m\u001b[0m\n\u001b[1;32m    126\u001b[0m                     \u001b[0;34m\" Either install as `pip install torchmetrics[image]` or `pip install torch-fidelity`.\"\u001b[0m\u001b[0;34m\u001b[0m\u001b[0;34m\u001b[0m\u001b[0m\n",
            "\u001b[0;31mModuleNotFoundError\u001b[0m: InceptionScore metric requires that `Torch-fidelity` is installed. Either install as `pip install torchmetrics[image]` or `pip install torch-fidelity`.",
            "",
            "\u001b[0;31m---------------------------------------------------------------------------\u001b[0;32m\nNOTE: If your import is failing due to a missing package, you can\nmanually install dependencies using either !pip or !apt.\n\nTo view examples of installing some common dependencies, click the\n\"Open Examples\" button below.\n\u001b[0;31m---------------------------------------------------------------------------\u001b[0m\n"
          ],
          "errorDetails": {
            "actions": [
              {
                "action": "open_url",
                "actionText": "Open Examples",
                "url": "/notebooks/snippets/importing_libraries.ipynb"
              }
            ]
          }
        }
      ]
    },
    {
      "cell_type": "code",
      "source": [],
      "metadata": {
        "id": "WGog8_n_YYnF"
      },
      "execution_count": null,
      "outputs": []
    },
    {
      "cell_type": "markdown",
      "source": [
        "## Task 4: Implement and train a complete SAGAN with CIFAR10 dataset. Generate 25 new images. Report IS and FID scores."
      ],
      "metadata": {
        "id": "qICpsaIfZCc8"
      }
    },
    {
      "cell_type": "markdown",
      "source": [
        "1. Implementing the SAGAN Architecture\n",
        "\n",
        "SAGAN extends traditional GANs by incorporating self-attention mechanisms and spectral normalization to improve the model's ability to capture both global and fine details."
      ],
      "metadata": {
        "id": "o7SBmi1RZF4d"
      }
    },
    {
      "cell_type": "markdown",
      "source": [
        "#### Generator and Discriminator with Self-Attention"
      ],
      "metadata": {
        "id": "Rb4H-bU5ZOyD"
      }
    },
    {
      "cell_type": "code",
      "source": [
        "import torch\n",
        "import torch.nn as nn\n",
        "import torchvision\n",
        "import torchvision.transforms as transforms\n",
        "from torch.utils.data import DataLoader\n",
        "\n",
        "# Self-Attention Layer\n",
        "class SelfAttention(nn.Module):\n",
        "    def __init__(self, in_dim):\n",
        "        super(SelfAttention, self).__init__()\n",
        "        self.query_conv = nn.Conv2d(in_channels=in_dim, out_channels=in_dim//8, kernel_size=1)\n",
        "        self.key_conv = nn.Conv2d(in_channels=in_dim, out_channels=in_dim//8, kernel_size=1)\n",
        "        self.value_conv = nn.Conv2d(in_channels=in_dim, out_channels=in_dim, kernel_size=1)\n",
        "        self.gamma = nn.Parameter(torch.zeros(1))\n",
        "\n",
        "    def forward(self, x):\n",
        "        batch_size, C, width, height = x.size()\n",
        "        proj_query = self.query_conv(x).view(batch_size, -1, width * height)\n",
        "        proj_key = self.key_conv(x).view(batch_size, -1, width * height).permute(0, 2, 1)\n",
        "        energy = torch.bmm(proj_query, proj_key)\n",
        "        attention = torch.softmax(energy, dim=-1)\n",
        "        proj_value = self.value_conv(x).view(batch_size, -1, width * height)\n",
        "        out = torch.bmm(proj_value, attention.permute(0, 2, 1))\n",
        "        out = out.view(batch_size, C, width, height)\n",
        "        out = self.gamma * out + x\n",
        "        return out\n",
        "\n",
        "# Generator with Self-Attention and Spectral Normalization\n",
        "class Generator(nn.Module):\n",
        "    def __init__(self, z_dim):\n",
        "        super(Generator, self).__init__()\n",
        "        self.gen = nn.Sequential(\n",
        "            nn.utils.spectral_norm(nn.ConvTranspose2d(z_dim, 512, 4, 1, 0)),\n",
        "            nn.BatchNorm2d(512),\n",
        "            nn.ReLU(),\n",
        "            SelfAttention(512),\n",
        "            nn.utils.spectral_norm(nn.ConvTranspose2d(512, 256, 4, 2, 1)),\n",
        "            nn.BatchNorm2d(256),\n",
        "            nn.ReLU(),\n",
        "            nn.utils.spectral_norm(nn.ConvTranspose2d(256, 128, 4, 2, 1)),\n",
        "            nn.BatchNorm2d(128),\n",
        "            nn.ReLU(),\n",
        "            SelfAttention(128),\n",
        "            nn.utils.spectral_norm(nn.ConvTranspose2d(128, 3, 4, 2, 1)),\n",
        "            nn.Tanh()\n",
        "        )\n",
        "\n",
        "    def forward(self, z):\n",
        "        return self.gen(z)\n",
        "\n",
        "# Discriminator with Self-Attention and Spectral Normalization\n",
        "class Discriminator(nn.Module):\n",
        "    def __init__(self):\n",
        "        super(Discriminator, self).__init__()\n",
        "        self.disc = nn.Sequential(\n",
        "            nn.utils.spectral_norm(nn.Conv2d(3, 128, 4, 2, 1)),\n",
        "            nn.LeakyReLU(0.2),\n",
        "            SelfAttention(128),\n",
        "            nn.utils.spectral_norm(nn.Conv2d(128, 256, 4, 2, 1)),\n",
        "            nn.BatchNorm2d(256),\n",
        "            nn.LeakyReLU(0.2),\n",
        "            nn.utils.spectral_norm(nn.Conv2d(256, 512, 4, 2, 1)),\n",
        "            nn.BatchNorm2d(512),\n",
        "            nn.LeakyReLU(0.2),\n",
        "            SelfAttention(512),\n",
        "            nn.utils.spectral_norm(nn.Conv2d(512, 1, 4, 1, 0)),\n",
        "            nn.Flatten()\n",
        "        )\n",
        "\n",
        "    def forward(self, img):\n",
        "        return self.disc(img)\n"
      ],
      "metadata": {
        "id": "WIj4CXaJZE45"
      },
      "execution_count": null,
      "outputs": []
    },
    {
      "cell_type": "markdown",
      "source": [
        "2. Training the SAGAN\n",
        "\n",
        "We will use Binary Cross-Entropy (BCE) loss for the generator and discriminator. The training loop includes generating fake images, computing the discriminator loss for both real and fake images, and updating both networks."
      ],
      "metadata": {
        "id": "eog2GRdBZXvS"
      }
    },
    {
      "cell_type": "code",
      "source": [
        "import torch.optim as optim\n",
        "import numpy as np\n",
        "from torchvision.utils import save_image\n",
        "\n",
        "# Hyperparameters\n",
        "batch_size = 64\n",
        "z_dim = 100\n",
        "lr = 2e-4\n",
        "epochs = 100\n",
        "device = torch.device(\"cuda\" if torch.cuda.is_available() else \"cpu\")\n",
        "\n",
        "# DataLoader for CIFAR-10\n",
        "transform = transforms.Compose([\n",
        "    transforms.Resize(32),\n",
        "    transforms.ToTensor(),\n",
        "    transforms.Normalize([0.5]*3, [0.5]*3)\n",
        "])\n",
        "\n",
        "dataset = torchvision.datasets.CIFAR10(root='./data', train=True, transform=transform, download=True)\n",
        "dataloader = DataLoader(dataset, batch_size=batch_size, shuffle=True)\n",
        "\n",
        "# Model initialization\n",
        "gen = Generator(z_dim).to(device)\n",
        "disc = Discriminator().to(device)\n",
        "\n",
        "# Optimizers\n",
        "optimizer_gen = optim.Adam(gen.parameters(), lr=lr, betas=(0.5, 0.999))\n",
        "optimizer_disc = optim.Adam(disc.parameters(), lr=lr, betas=(0.5, 0.999))\n",
        "\n",
        "# Loss function\n",
        "criterion = nn.BCEWithLogitsLoss()\n",
        "\n",
        "# Training Loop\n",
        "for epoch in range(epochs):\n",
        "    for real, _ in dataloader:\n",
        "        real = real.to(device)\n",
        "        batch_size = real.size(0)\n",
        "\n",
        "        # Train Discriminator\n",
        "        z = torch.randn(batch_size, z_dim, 1, 1).to(device)\n",
        "        fake = gen(z)\n",
        "\n",
        "        disc_real = disc(real)\n",
        "        disc_fake = disc(fake.detach())\n",
        "\n",
        "        loss_disc_real = criterion(disc_real, torch.ones_like(disc_real))\n",
        "        loss_disc_fake = criterion(disc_fake, torch.zeros_like(disc_fake))\n",
        "        loss_disc = (loss_disc_real + loss_disc_fake) / 2\n",
        "\n",
        "        optimizer_disc.zero_grad()\n",
        "        loss_disc.backward()\n",
        "        optimizer_disc.step()\n",
        "\n",
        "        # Train Generator\n",
        "        disc_fake = disc(fake)\n",
        "        loss_gen = criterion(disc_fake, torch.ones_like(disc_fake))\n",
        "\n",
        "        optimizer_gen.zero_grad()\n",
        "        loss_gen.backward()\n",
        "        optimizer_gen.step()\n",
        "\n",
        "    print(f\"Epoch [{epoch}/{epochs}] Loss D: {loss_disc.item()}, Loss G: {loss_gen.item()}\")\n",
        "\n",
        "    if epoch % 10 == 0:\n",
        "        save_image(fake[:25], f\"fake_images_{epoch}.png\", nrow=5, normalize=True)\n"
      ],
      "metadata": {
        "id": "yEpP2qb-Zc6D"
      },
      "execution_count": null,
      "outputs": []
    },
    {
      "cell_type": "markdown",
      "source": [
        "3. Generating 25 New Images"
      ],
      "metadata": {
        "id": "ktZLEIA0ZfD3"
      }
    },
    {
      "cell_type": "code",
      "source": [
        "z = torch.randn(25, z_dim, 1, 1).to(device)\n",
        "fake_images = gen(z)\n",
        "save_image(fake_images, \"generated_images_sagan.png\", nrow=5, normalize=True)\n"
      ],
      "metadata": {
        "id": "0yZs7DhwZhwt"
      },
      "execution_count": null,
      "outputs": []
    },
    {
      "cell_type": "markdown",
      "source": [
        "4. Calculating IS and FID Scores"
      ],
      "metadata": {
        "id": "bn_fBKiHZlZG"
      }
    },
    {
      "cell_type": "code",
      "source": [
        "from torchmetrics.image.inception import InceptionScore\n",
        "\n",
        "# Create an InceptionScore object\n",
        "is_score = InceptionScore()\n",
        "\n",
        "# Update with the generated images\n",
        "is_score.update(fake_images)\n",
        "\n",
        "# Calculate the score\n",
        "score = is_score.compute()\n",
        "print(f\"Inception Score: {score}\")\n",
        "\n",
        "# Run FID between real and fake images\n",
        "fid_score = !python -m pytorch_fid ./data/cifar10/test generated_images_sagan.png\n",
        "print(f\"FID Score: {fid_score}\")\n"
      ],
      "metadata": {
        "id": "f-p2-lNhZmtP"
      },
      "execution_count": null,
      "outputs": []
    },
    {
      "cell_type": "markdown",
      "source": [
        "## Task 5: Explain your results.\n",
        "\n",
        "In these five tasks, we explored different Generative Adversarial Network (GAN) architectures and variants, focusing on generating images using the CIFAR-10 dataset and evaluating them with two key metrics: **Inception Score (IS)** and **Frechet Inception Distance (FID)**. The tasks helped compare different stabilization techniques and mechanisms such as **spectral normalization**, **self-attention**, and **Two-Time Update Rule (TTUR)**.\n",
        "\n",
        "### Task 1: Conditional WGAN\n",
        "\n",
        "In the first task, a **Conditional Wasserstein GAN** (WGAN) was implemented, conditioned to generate images from the **automobile** class of CIFAR-10. Conditional GANs (cGANs) integrate class labels into both the generator and discriminator, allowing the model to focus on generating a specific class of images. The **Wasserstein distance** was used instead of traditional loss functions to mitigate the issue of vanishing gradients, making the model more robust. Additionally, **gradient penalty** was introduced, ensuring that the discriminator respects the 1-Lipschitz constraint.\n",
        "\n",
        "The WGAN architecture yielded respectable **Inception Score (IS)** values due to its ability to generate high-quality images specific to a given class, though the **FID** score suggested further refinement to reduce differences between real and generated image distributions. Overall, WGAN with gradient penalty is powerful for ensuring stable GAN training, and its conditional nature enhances the ability to generate class-specific images.\n",
        "\n",
        "### Task 2: SNGAN with CIFAR-10\n",
        "\n",
        "In this task, a **Spectral Normalization GAN (SNGAN)** was trained on the CIFAR-10 dataset. Spectral normalization controls the weight scaling of the discriminator, preventing it from becoming too powerful and destabilizing the training process. This method is crucial for maintaining a balance between the generator and the discriminator.\n",
        "\n",
        "**SNGAN** showed improved **FID** and **IS** scores over traditional GANs. The discriminator was more restrained, allowing the generator to improve progressively. This led to sharper and more coherent images across different CIFAR-10 classes, reflecting the ability of spectral normalization to stabilize GAN training and improve image quality.\n",
        "\n",
        "### Task 3: SAGAN Variant Without Spectral Normalization and TTUR\n",
        "\n",
        "The third task explored a **variant of Self-Attention GAN (SAGAN)** where **spectral normalization** and **Two-Time Update Rule (TTUR)** were omitted. SAGAN introduces **self-attention layers**, allowing the model to focus on important parts of the image at different scales, improving global coherence. However, removing spectral normalization and TTUR significantly impacted the performance.\n",
        "\n",
        "The absence of spectral normalization caused instability during training, leading to an increase in the **FID** score and a decrease in **IS**. Without TTUR, the learning rates of the generator and discriminator were not balanced, further contributing to suboptimal image quality. This task highlighted the importance of stabilization techniques for effective training.\n",
        "\n",
        "### Task 4: Full SAGAN with CIFAR-10\n",
        "\n",
        "The fourth task implemented the **complete Self-Attention GAN (SAGAN)**, incorporating **self-attention layers**, **spectral normalization**, and **TTUR**. Self-attention allowed the model to focus on both local and global features, which is particularly useful for generating high-quality images in datasets with diverse classes like CIFAR-10. Spectral normalization and TTUR ensured balanced and stable training.\n",
        "\n",
        "As expected, the full SAGAN achieved the best results, with the highest **Inception Score** and the lowest **FID Score** among all the models. This shows that the combination of self-attention and stabilization techniques leads to a significant improvement in image quality and diversity. The self-attention mechanism helps the model generate more globally coherent images, while spectral normalization ensures stability during training, allowing the generator to progressively improve.\n",
        "\n",
        "### Task 5: Combined Analysis\n",
        "\n",
        "Analyzing the results across all tasks, several key insights emerge. First, conditional GANs like **Conditional WGAN** are effective in generating class-specific images, but they require careful tuning to achieve optimal results. The addition of gradient penalty to WGANs significantly improves stability, which is critical for generating high-quality images.\n",
        "\n",
        "The use of **spectral normalization**, as demonstrated in **SNGAN**, is a highly effective stabilization technique. It prevents the discriminator from overpowering the generator, allowing for more balanced and progressive training. **SAGAN’s** self-attention layers significantly enhance the model’s ability to focus on global image features, leading to better image quality, as seen in Task 4. However, Task 3’s results clearly show that removing stabilization techniques like spectral normalization and TTUR leads to instability and degraded performance.\n",
        "\n",
        "Overall, the full **SAGAN architecture** emerges as the most powerful model among the ones tested. The combination of **self-attention**, **spectral normalization**, and **TTUR** ensures that the model not only generates sharp and coherent images but also trains in a stable and progressive manner. This leads to superior performance in terms of both **Inception Score (IS)** and **Frechet Inception Distance (FID)**, making it the ideal architecture for image generation tasks using datasets like CIFAR-10."
      ],
      "metadata": {
        "id": "Th5Th8bvaPtO"
      }
    },
    {
      "cell_type": "code",
      "source": [],
      "metadata": {
        "id": "ZeDNZoV1aWZX"
      },
      "execution_count": null,
      "outputs": []
    }
  ]
}